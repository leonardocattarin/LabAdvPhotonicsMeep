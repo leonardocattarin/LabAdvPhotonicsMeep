{
 "cells": [
  {
   "cell_type": "code",
   "execution_count": 1,
   "id": "57f1d2da-09dc-4487-84fe-0c8fe4d4fed7",
   "metadata": {},
   "outputs": [],
   "source": [
    "import meep as mp\n",
    "import matplotlib.pyplot as plt\n",
    "import numpy as np\n",
    "from IPython.display import Video"
   ]
  },
  {
   "cell_type": "code",
   "execution_count": 2,
   "id": "9eec1723-9f06-48c7-803b-6b5de96f103e",
   "metadata": {},
   "outputs": [],
   "source": [
    "plt.rcParams['figure.figsize'] = [10, 5]"
   ]
  },
  {
   "cell_type": "markdown",
   "id": "b63f5bba-a4ef-4c60-9923-d284c4a95513",
   "metadata": {},
   "source": [
    "# Simulation Run"
   ]
  },
  {
   "cell_type": "code",
   "execution_count": 3,
   "id": "c7529a53-6f4b-4a18-9e6d-2361b9d9c1f5",
   "metadata": {},
   "outputs": [],
   "source": [
    "#define cell size and resolution\n",
    "sx = 28\n",
    "sy = 16\n",
    "\n",
    "pt = mp.Vector3(-5,0)\n",
    "\n",
    "resolution = 10\n",
    "\n",
    "cell = mp.Vector3(sx, sy)\n",
    "\n",
    "#gemetry params\n",
    "cavity_w = 3.5*0.15/4\n",
    "layer_w = 0.5\n",
    "n_layer = 3\n",
    "\n",
    "f_central = 0.15\n",
    "df = 0.1\n",
    "\n",
    "#define geometry\n",
    "geometry = [mp.Block(mp.Vector3(10,mp.inf,mp.inf),\n",
    "                     center=mp.Vector3(0,0),\n",
    "                     material=mp.Medium(index=3.5))]\n",
    "\n",
    "for ii in range(n_layer):\n",
    "    geometry.append(mp.Block(mp.Vector3(layer_w,mp.inf,mp.inf),\n",
    "                     center=mp.Vector3(cavity_w/2+layer_w/2+2*layer_w*ii,0),\n",
    "                     material=mp.Medium(epsilon=1.45)))\n",
    "    geometry.append(mp.Block(mp.Vector3(layer_w,mp.inf,mp.inf),\n",
    "                     center=mp.Vector3(-cavity_w/2-layer_w/2-2*layer_w*ii,0),\n",
    "                     material=mp.Medium(epsilon=1.45)))\n",
    "#define sources\n",
    "sources = [mp.Source(mp.GaussianSource(frequency=f_central, fwidth=df),\n",
    "                     component=mp.Ez,\n",
    "                     center=mp.Vector3(-10,0),\n",
    "                     size=mp.Vector3(0,5))]\n",
    "\n",
    "#define boundary conditions\n",
    "pml_layers = [mp.PML(1.0)]\n",
    "\n",
    "\n",
    "#Instance simulation with chosen parameters\n",
    "sim = mp.Simulation(cell_size=cell,\n",
    "                    boundary_layers=pml_layers,\n",
    "                    geometry=geometry,\n",
    "                    sources=sources,\n",
    "                    resolution=resolution)"
   ]
  },
  {
   "cell_type": "code",
   "execution_count": 4,
   "id": "9b161f11-9fc2-47e7-8197-e9ee4e6130af",
   "metadata": {},
   "outputs": [],
   "source": [
    "# Flux in point 1\n",
    "refl_fr = mp.FluxRegion(center=mp.Vector3(-6, 0), size=mp.Vector3(0,12,0))\n",
    "refl = sim.add_flux(f_central, df, 100, refl_fr)"
   ]
  },
  {
   "cell_type": "code",
   "execution_count": 5,
   "id": "31c614a6-3db0-4bcd-ae07-a9490f19308d",
   "metadata": {},
   "outputs": [],
   "source": [
    "# Flux in point 2\n",
    "tran_fr = mp.FluxRegion(center=mp.Vector3(6, 0), size=mp.Vector3(0,12,0))\n",
    "tran = sim.add_flux(f_central, df, 100, tran_fr)"
   ]
  },
  {
   "cell_type": "code",
   "execution_count": 6,
   "id": "e1885568-1e90-435c-9850-dbdc7997ef39",
   "metadata": {},
   "outputs": [
    {
     "name": "stdout",
     "output_type": "stream",
     "text": [
      "-----------\n",
      "Initializing structure...\n",
      "time for choose_chunkdivision = 0.000181913 s\n",
      "Working in 2D dimensions.\n",
      "Computational cell is 28 x 16 x 0 with resolution 10\n",
      "     block, center = (0,0,0)\n",
      "          size (10,1e+20,1e+20)\n",
      "          axes (1,0,0), (0,1,0), (0,0,1)\n",
      "          dielectric constant epsilon diagonal = (12.25,12.25,12.25)\n",
      "     block, center = (0.315625,0,0)\n",
      "          size (0.5,1e+20,1e+20)\n",
      "          axes (1,0,0), (0,1,0), (0,0,1)\n",
      "          dielectric constant epsilon diagonal = (1.45,1.45,1.45)\n",
      "     block, center = (-0.315625,0,0)\n",
      "          size (0.5,1e+20,1e+20)\n",
      "          axes (1,0,0), (0,1,0), (0,0,1)\n",
      "          dielectric constant epsilon diagonal = (1.45,1.45,1.45)\n",
      "     block, center = (1.31563,0,0)\n",
      "          size (0.5,1e+20,1e+20)\n",
      "          axes (1,0,0), (0,1,0), (0,0,1)\n",
      "          dielectric constant epsilon diagonal = (1.45,1.45,1.45)\n",
      "     block, center = (-1.31563,0,0)\n",
      "          size (0.5,1e+20,1e+20)\n",
      "          axes (1,0,0), (0,1,0), (0,0,1)\n",
      "          dielectric constant epsilon diagonal = (1.45,1.45,1.45)\n",
      "     block, center = (2.31562,0,0)\n",
      "          size (0.5,1e+20,1e+20)\n",
      "          axes (1,0,0), (0,1,0), (0,0,1)\n",
      "          dielectric constant epsilon diagonal = (1.45,1.45,1.45)\n",
      "     block, center = (-2.31562,0,0)\n",
      "          size (0.5,1e+20,1e+20)\n",
      "          axes (1,0,0), (0,1,0), (0,0,1)\n",
      "          dielectric constant epsilon diagonal = (1.45,1.45,1.45)\n",
      "time for set_epsilon = 0.12312 s\n",
      "-----------\n"
     ]
    },
    {
     "data": {
      "application/vnd.jupyter.widget-view+json": {
       "model_id": "e45dbba5d90b4441a030e6702a75f3db",
       "version_major": 2,
       "version_minor": 0
      },
      "text/plain": [
       "FloatProgress(value=0.0, description='0% done ', max=900.0)"
      ]
     },
     "metadata": {},
     "output_type": "display_data"
    },
    {
     "name": "stdout",
     "output_type": "stream",
     "text": [
      "Meep progress: 589.0500000000001/900.0 = 65.5% done in 4.0s, 2.1s to go\n",
      "on time step 11800 (time=590), 0.000339128 s/step\n",
      "Normalizing field data...\n",
      "run 0 finished at t = 900.0 (18000 timesteps)\n",
      "Generating MP4...\n"
     ]
    },
    {
     "data": {
      "image/png": "[encoded data removed]",
      "text/plain": [
       "<Figure size 720x360 with 1 Axes>"
      ]
     },
     "metadata": {
      "needs_background": "light"
     },
     "output_type": "display_data"
    }
   ],
   "source": [
    "#Rusn simulation and save animation of Ez\n",
    "animate = mp.Animate2D(sim,\n",
    "                       fields=mp.Ez,\n",
    "                       normalize=True,\n",
    "                       realtime=False,\n",
    "                       field_parameters={'alpha':0.8, 'cmap':'RdBu', 'interpolation':'spline36'},\n",
    "                       boundary_parameters={'hatch':'o', 'linewidth':1.5, 'facecolor':'y', 'edgecolor':'b', 'alpha':0.3})\n",
    "\n",
    "\n",
    "sim.run(mp.at_every(1, animate), until=900)\n",
    "        #until_after_sources=mp.stop_when_fields_decayed(50,mp.Ez,pt,1e-3))\n",
    "\n",
    "animate.to_mp4(10, \"Ez.mp4\")"
   ]
  },
  {
   "cell_type": "code",
   "execution_count": 7,
   "id": "006e30e3-6205-422b-977b-13917c67e805",
   "metadata": {},
   "outputs": [
    {
     "data": {
      "text/html": [
       "<video src=\"Ez.mp4\" controls  >\n",
       "      Your browser does not support the <code>video</code> element.\n",
       "    </video>"
      ],
      "text/plain": [
       "<IPython.core.display.Video object>"
      ]
     },
     "execution_count": 7,
     "metadata": {},
     "output_type": "execute_result"
    }
   ],
   "source": [
    "Video(\"Ez.mp4\") #Note: colorbar is not the same for each instant "
   ]
  },
  {
   "cell_type": "code",
   "execution_count": 8,
   "id": "400e7068-8bed-4e2d-951c-c26e75df1496",
   "metadata": {},
   "outputs": [],
   "source": [
    "refl_flux = mp.get_fluxes(refl)\n",
    "tran_flux = mp.get_fluxes(tran)\n",
    "\n",
    "flux_freqs = mp.get_flux_freqs(refl)\n",
    "\n",
    "T = np.array(tran_flux)/np.array(refl_flux)"
   ]
  },
  {
   "cell_type": "code",
   "execution_count": 9,
   "id": "fc6ec556-c500-42c2-9fe2-efcd0d49dde0",
   "metadata": {},
   "outputs": [
    {
     "data": {
      "text/plain": [
       "[<matplotlib.lines.Line2D at 0x7f4083fc26d0>]"
      ]
     },
     "execution_count": 9,
     "metadata": {},
     "output_type": "execute_result"
    },
    {
     "data": {
      "image/png": "[encoded data removed]",
      "text/plain": [
       "<Figure size 720x360 with 1 Axes>"
      ]
     },
     "metadata": {
      "needs_background": "light"
     },
     "output_type": "display_data"
    }
   ],
   "source": [
    "plt.plot(flux_freqs, tran_flux)"
   ]
  },
  {
   "cell_type": "code",
   "execution_count": 10,
   "id": "dc11632d-1b57-45bd-9122-e4d4a0dc18ab",
   "metadata": {},
   "outputs": [
    {
     "data": {
      "text/plain": [
       "[<matplotlib.lines.Line2D at 0x7f4082fb41f0>]"
      ]
     },
     "execution_count": 10,
     "metadata": {},
     "output_type": "execute_result"
    },
    {
     "data": {
      "image/png": "[encoded data removed]",
      "text/plain": [
       "<Figure size 720x360 with 1 Axes>"
      ]
     },
     "metadata": {
      "needs_background": "light"
     },
     "output_type": "display_data"
    }
   ],
   "source": [
    "plt.plot(flux_freqs, T)"
   ]
  },
  {
   "cell_type": "code",
   "execution_count": null,
   "id": "36ad4590-da34-43c8-93f1-f1aa0abadc8b",
   "metadata": {},
   "outputs": [],
   "source": []
  }
 ],
 "metadata": {
  "kernelspec": {
   "display_name": "Python 3.8.10 64-bit",
   "language": "python",
   "name": "python3"
  },
  "language_info": {
   "codemirror_mode": {
    "name": "ipython",
    "version": 3
   },
   "file_extension": ".py",
   "mimetype": "text/x-python",
   "name": "python",
   "nbconvert_exporter": "python",
   "pygments_lexer": "ipython3",
   "version": "3.8.10"
  },
  "vscode": {
   "interpreter": {
    "hash": "916dbcbb3f70747c44a77c7bcd40155683ae19c65e1c03b4aa3499c5328201f1"
   }
  }
 },
 "nbformat": 4,
 "nbformat_minor": 5
}
