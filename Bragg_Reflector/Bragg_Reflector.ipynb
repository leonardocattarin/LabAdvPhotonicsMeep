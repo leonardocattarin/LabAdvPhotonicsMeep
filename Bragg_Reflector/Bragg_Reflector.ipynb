{
 "cells": [
  {
   "cell_type": "code",
   "execution_count": 1,
   "id": "e44a761a-6984-451c-96be-3dcb7d663f87",
   "metadata": {},
   "outputs": [],
   "source": [
    "import meep as mp\n",
    "import matplotlib.pyplot as plt\n",
    "import numpy as np\n",
    "from IPython.display import Video\n",
    "from scipy.constants import pi, c\n",
    "from scipy.signal import hilbert, find_peaks\n",
    "from scipy.interpolate import interp1d"
   ]
  },
  {
   "cell_type": "code",
   "execution_count": 2,
   "id": "6a631004-e964-45d5-9f32-31c0e29939d3",
   "metadata": {},
   "outputs": [],
   "source": [
    "plt.rcParams['figure.figsize'] = [10,5]"
   ]
  },
  {
   "cell_type": "code",
   "execution_count": 3,
   "id": "ed9c293b-9684-4b1c-927f-e708c1ff601a",
   "metadata": {},
   "outputs": [
    {
     "name": "stdout",
     "output_type": "stream",
     "text": [
      "1 meep Length unit is 1.0 um\n",
      "1 meep Time unit is 3.3356409519815204 fs\n",
      "1 meep Frequency unit is 299.792458 THz\n"
     ]
    }
   ],
   "source": [
    "#Define conversion functions/factors to get to/from meep units and kms\n",
    "#Length factor to transform lengths in kms\n",
    "l_unit = 1e-6 #1 um\n",
    "t_unit = l_unit/c #time unit is length/c\n",
    "\n",
    "#multiplicative constants to convert frequencies from meep to kms hertz\n",
    "freq_unit = c/l_unit\n",
    "\n",
    "print(\"1 meep Length unit is\", l_unit*1e+6, \"um\")\n",
    "print(\"1 meep Time unit is\", t_unit*1e+15, \"fs\")\n",
    "print(\"1 meep Frequency unit is\", freq_unit*1e-12, \"THz\")"
   ]
  },
  {
   "cell_type": "markdown",
   "id": "f6b57dbb",
   "metadata": {},
   "source": [
    "# Resolution"
   ]
  },
  {
   "cell_type": "code",
   "execution_count": 4,
   "id": "b32310ad",
   "metadata": {},
   "outputs": [
    {
     "name": "stdout",
     "output_type": "stream",
     "text": [
      "Pixel per unit:  20\n",
      "Space resolution [meep]:  0.05\n",
      "Time resolution [meep]:  0.025\n",
      "Space resolution [um]:  0.049999999999999996\n",
      "Time resolution [fs]:  0.08339102379953803\n"
     ]
    }
   ],
   "source": [
    "#courant factor\n",
    "S = 0.5\n",
    "\n",
    "#resolution is number of pixels per meep unit\n",
    "resolution = 20\n",
    "\n",
    "#resolutions in meep units\n",
    "space_res = 1/resolution\n",
    "time_res = space_res*S\n",
    "\n",
    "print(\"Pixel per unit: \", resolution)\n",
    "\n",
    "print(\"Space resolution [meep]: \", space_res)\n",
    "print(\"Time resolution [meep]: \", time_res)\n",
    "\n",
    "print(\"Space resolution [um]: \", space_res*l_unit*1e+6)\n",
    "print(\"Time resolution [fs]: \", time_res*t_unit*1e+15)"
   ]
  },
  {
   "cell_type": "markdown",
   "id": "8ea4fb08",
   "metadata": {},
   "source": [
    "# Geometry Definition\n",
    "Cell"
   ]
  },
  {
   "cell_type": "code",
   "execution_count": 5,
   "id": "e264b2f0-b4c8-4512-8fcc-f24bbbc648df",
   "metadata": {},
   "outputs": [],
   "source": [
    "#define cell size and resolution\n",
    "#Cell size is in meep units\n",
    "#center is in (0,0), ranges in x=(-sx/2,sx/2), y=(-sy/2,sy/2)\n",
    "sx = 24\n",
    "sy = 15\n",
    "\n",
    "cell = mp.Vector3(sx, sy)\n",
    "\n",
    "#boundary conditions thickness\n",
    "pml_thickness = 1.0\n",
    "\n",
    "#automatic positioning of boundaries\n",
    "x_bound_up = sx/2 - pml_thickness\n",
    "x_bound_low = -sx/2 + pml_thickness\n",
    "\n",
    "y_bound_up = sy/2 - pml_thickness\n",
    "y_bound_low = -sy/2 + pml_thickness"
   ]
  },
  {
   "cell_type": "markdown",
   "id": "1a0e46ab",
   "metadata": {},
   "source": [
    "# Loop\n"
   ]
  },
  {
   "cell_type": "code",
   "execution_count": 6,
   "id": "cb5efe13-e4ac-43b4-a023-3bc1795bc507",
   "metadata": {},
   "outputs": [
    {
     "name": "stdout",
     "output_type": "stream",
     "text": [
      "###############\n",
      "## Beginning Iteration  0  out of  21\n",
      "#Delta index: 0.1 \n",
      "\n",
      "#Dielectric constant eps_1:  2.1025\n",
      "#Dielectric constant eps_2:  2.4025000000000003\n",
      "#Dielectric constant Delta_eps:  -0.30000000000000027\n",
      "#Dielectric constant Ratio:  -0.14268727705112974\n",
      "#Source pulse frequency: fcent=  74.9481145  THz, df=  74.9481145  THz\n",
      "#Source vacuum wavelength: lambda =  4.0 um, dlambda =  4.0 um\n",
      "#Source material 1 wavelength: lambda =  2.7586206896551726 um, dlambda =  2.7586206896551726 um\n",
      "#Source material 2 wavelength: lambda =  2.5806451612903225 um, dlambda =  2.5806451612903225 um\n",
      "Mean freqeuency:  0.33319397993311034\n",
      "Delta freqeuency:  0.0317725752508361\n",
      "Ratio Delta/mean:  0.09535759096612291\n",
      "###############\n",
      "## Beginning Iteration  1  out of  21\n",
      "#Delta index: 0.2 \n",
      "\n",
      "#Dielectric constant eps_1:  2.1025\n",
      "#Dielectric constant eps_2:  2.7224999999999997\n",
      "#Dielectric constant Delta_eps:  -0.6199999999999997\n",
      "#Dielectric constant Ratio:  -0.294887039239001\n",
      "#Source pulse frequency: fcent=  74.9481145  THz, df=  74.9481145  THz\n",
      "#Source vacuum wavelength: lambda =  4.0 um, dlambda =  4.0 um\n",
      "#Source material 1 wavelength: lambda =  2.7586206896551726 um, dlambda =  2.7586206896551726 um\n",
      "#Source material 2 wavelength: lambda =  2.4242424242424243 um, dlambda =  2.4242424242424243 um\n"
     ]
    }
   ],
   "source": [
    "Dn_values = np.arange(0.1, 2.2, 0.1)\n",
    "Dn_number = len(Dn_values)\n",
    "\n",
    "bandgap_mean_array = np.array([])\n",
    "bandgap_delta_array = np.array([])\n",
    "bandgap_ratio_array = np.array([])\n",
    "\n",
    "for index_Dn,Dn in enumerate(Dn_values):\n",
    "\n",
    "    #materials refractive indexes\n",
    "    n_1 = 1.45\n",
    "    n_2 = n_1 + Dn\n",
    "\n",
    "    print(\"###############\")\n",
    "    print(\"## Beginning Iteration \",index_Dn,\" out of \", Dn_number)\n",
    "    print(\"#Delta index:\", Dn, \"\\n\")\n",
    "\n",
    "    print(\"#Dielectric constant eps_1: \", n_1*n_1)\n",
    "    print(\"#Dielectric constant eps_2: \", n_2*n_2)\n",
    "    print(\"#Dielectric constant Delta_eps: \", n_1*n_1-n_2*n_2)\n",
    "    print(\"#Dielectric constant Ratio: \", (n_1*n_1-n_2*n_2)/(n_1*n_1))\n",
    "\n",
    "\n",
    "    #Si 3.5\n",
    "    #SiO2 1.45\n",
    "\n",
    "    #Bragg params\n",
    "    #central cavity (if present)\n",
    "    width_cavity = 1\n",
    "\n",
    "    #Layer thickness\n",
    "    width_1 = 0.5\n",
    "    width_2 = 0.5\n",
    "\n",
    "    #Half the number of layers\n",
    "    N_layers = 12\n",
    "\n",
    "    #The x position of the BR boundaries\n",
    "    bragg_width = (width_2 + width_1)*N_layers\n",
    "\n",
    "    #Soure parameters\n",
    "    source_x = -bragg_width/2 - 4\n",
    "    source_y = 0\n",
    "\n",
    "    source_width = 11\n",
    "\n",
    "    #note: df is not really the frequency sigma\n",
    "    f_central = 0.25\n",
    "    df = 0.25\n",
    "\n",
    "\n",
    "    print(\"#Source pulse frequency: fcent= \", f_central*freq_unit*1e-12, \" THz, df= \",df*freq_unit*1e-12, \" THz\" )\n",
    "    print(\"#Source vacuum wavelength: lambda = \",  c/(f_central*freq_unit)*1e+6, \"um, dlambda = \",c/(df*freq_unit)*1e+6,\"um\")\n",
    "    print(\"#Source material 1 wavelength: lambda = \",  (c/n_1)/(f_central*freq_unit)*1e+6, \"um, dlambda = \", (c/n_1)/(df*freq_unit)*1e+6,\"um\")\n",
    "    print(\"#Source material 2 wavelength: lambda = \",  (c/n_2)/(f_central*freq_unit)*1e+6, \"um, dlambda = \", (c/n_2)/(df*freq_unit)*1e+6,\"um\")\n",
    "\n",
    "    #Monitor parameters\n",
    "    #input\n",
    "    mon_1_x = -bragg_width/2 - 2\n",
    "    mon_1_width = sy - 2*pml_thickness\n",
    "\n",
    "    #output\n",
    "    mon_2_x = bragg_width/2 + 2\n",
    "    mon_2_h = sy - 2*pml_thickness\n",
    "\n",
    "    #number of sampling points in frequency for fourier transform of fields accumulated\n",
    "    N_freq = 300\n",
    "\n",
    "    #central frequency\n",
    "    f_mon_central = f_central\n",
    "    #width of sampled frequency band\n",
    "    df_mon = df\n",
    "\n",
    "\n",
    "    #Point for simulation termination condition\n",
    "    check_pt = mp.Vector3(0, bragg_width/2 + 0.5)\n",
    "\n",
    "    #Background material\n",
    "    geometry = [mp.Block(mp.Vector3(mp.inf, mp.inf, mp.inf),\n",
    "                        center=mp.Vector3(0,0),\n",
    "                        material=mp.Medium(index=n_1))]\n",
    "\n",
    "    #define sources\n",
    "    #gaussian pulse with f_central and df\n",
    "    sources = [mp.Source(mp.GaussianSource(frequency=f_central, fwidth=df*2),\n",
    "                        component=mp.Ez,\n",
    "                        center=mp.Vector3(source_x, source_y),\n",
    "                        size=mp.Vector3(0, source_width))]\n",
    "\n",
    "    #define boundary conditions\n",
    "    pml_layers = [mp.PML(pml_thickness)]\n",
    "\n",
    "    #Instance simulation with chosen parameters\n",
    "    sim = mp.Simulation(cell_size=cell,\n",
    "                        boundary_layers=pml_layers,\n",
    "                        sources=sources,\n",
    "                        geometry=geometry,\n",
    "                        resolution=resolution)\n",
    "\n",
    "    # Flux Monitor 1\n",
    "    incident_fr = mp.FluxRegion(center=mp.Vector3(mon_1_x, 0), size=mp.Vector3(0, mon_1_width, 0))\n",
    "    incident = sim.add_flux(f_mon_central, df_mon, N_freq, incident_fr)\n",
    "\n",
    "    # Flux Monitor 2\n",
    "    tran_fr = mp.FluxRegion(center=mp.Vector3(mon_2_x, 0), size=mp.Vector3(0,mon_2_h,0))\n",
    "    tran = sim.add_flux(f_mon_central, df_mon, N_freq, tran_fr)\n",
    "\n",
    "    #Simulate\n",
    "    mp.verbosity(0)\n",
    "    sim.run(until_after_sources = mp.stop_when_fields_decayed(50, mp.Ez, check_pt, 5e-3))\n",
    "\n",
    "    #Get Fourier-transformed fields of incident pulse\n",
    "    norm_incident_data = sim.get_flux_data(incident)\n",
    "\n",
    "    #Get fluxes from fourier transformed fields transmitted\n",
    "    norm_tran_flux = mp.get_fluxes(tran)\n",
    "\n",
    "    #Get fluxes from fourier transformed incident fields\n",
    "    norm_inc_flux = mp.get_fluxes(incident)\n",
    "\n",
    "    flux_freqs = mp.get_flux_freqs(tran)\n",
    "\n",
    "    sim.reset_meep()\n",
    "\n",
    "    #define geometry\n",
    "\n",
    "    #Background material\n",
    "    geometry = [mp.Block(mp.Vector3(mp.inf, mp.inf, mp.inf),\n",
    "                        center=mp.Vector3(0,0),\n",
    "                        material=mp.Medium(index=n_1))]\n",
    "\n",
    "    #Layers Material\n",
    "    for ii in range(N_layers):\n",
    "        geometry.append(mp.Block(mp.Vector3(width_2, mp.inf, mp.inf),\n",
    "                        center=mp.Vector3(ii*(width_1+width_2) -bragg_width/2 + width_1 + width_2/2, 0),\n",
    "                        material=mp.Medium(index=n_2)))\n",
    "        \n",
    "    #define sources\n",
    "    sources = [mp.Source(mp.GaussianSource(frequency=f_central, fwidth=df*2),\n",
    "                        component=mp.Ez,\n",
    "                        center=mp.Vector3(source_x, 0),\n",
    "                        size=mp.Vector3(0, source_width))]\n",
    "\n",
    "    #define boundary conditions\n",
    "    pml_layers = [mp.PML(pml_thickness)]\n",
    "\n",
    "\n",
    "    #Instance simulation with chosen parameters\n",
    "    sim = mp.Simulation(cell_size=cell,\n",
    "                        boundary_layers=pml_layers,\n",
    "                        geometry=geometry,\n",
    "                        sources=sources,\n",
    "                        resolution=resolution)\n",
    "\n",
    "    #Desired frequencies are in (fcen-df/2, fcen+df/2)\n",
    "\n",
    "    # Flux Monitor 1\n",
    "    refl_fr = mp.FluxRegion(center=mp.Vector3(mon_1_x, 0), size=mp.Vector3(0,mon_1_width,0))\n",
    "    refl = sim.add_flux(f_mon_central, df_mon, N_freq, refl_fr)\n",
    "\n",
    "    # Flux Monitor 2\n",
    "    tran_fr = mp.FluxRegion(center=mp.Vector3(mon_2_x, 0), size=mp.Vector3(0,mon_2_h,0))\n",
    "    tran = sim.add_flux(f_mon_central, df_mon, N_freq, tran_fr)\n",
    "    \n",
    "    #load normalization data\n",
    "    sim.load_minus_flux_data(refl, norm_incident_data)\n",
    "\n",
    "    mp.verbosity(0)\n",
    "    sim.run(until_after_sources = mp.stop_when_fields_decayed(50, mp.Ez, check_pt, 5e-3))\n",
    "    #until_after_sources=mp.stop_when_fields_decayed(50,mp.Ez,pt,1e-3))\n",
    "\n",
    "    # Get Final Fluxes\n",
    "    bragg_tran_flux = np.array(mp.get_fluxes(tran))\n",
    "    bragg_refl_flux = np.array(mp.get_fluxes(refl))*(-1)\n",
    "\n",
    "    flux_freqs = np.array(mp.get_flux_freqs(refl))    \n",
    "\n",
    "    # Transmittance and reflectance\n",
    "\n",
    "    wvlength = 1/flux_freqs\n",
    "\n",
    "    T = bragg_tran_flux/norm_tran_flux\n",
    "    R = bragg_refl_flux/norm_tran_flux\n",
    "    Losses = 1-T-R    \n",
    "\n",
    "    diff_T = np.diff(T)\n",
    "    diff_R = np.diff(R)\n",
    "    diff_Losses = np.diff(Losses)\n",
    "\n",
    "    diff_R_abs =np.abs(diff_R)\n",
    "    max_index = np.argmax(diff_R)\n",
    "\n",
    "    peaks, _ = find_peaks(diff_R_abs, height=0.01)\n",
    "    ind = np.argpartition(diff_R[peaks][peaks>=max_index], -2)[-2:]\n",
    "    bandgap_bounds = flux_freqs[peaks][peaks>=max_index][ind][::-1]\n",
    "\n",
    "    bandgap_mean = np.mean(bandgap_bounds)\n",
    "    bandgap_delta = bandgap_bounds[1]-bandgap_bounds[0]\n",
    "    bandgap_ratio = bandgap_delta/bandgap_mean\n",
    "\n",
    "    print(\"Mean freqeuency: \",bandgap_mean)\n",
    "    print(\"Delta freqeuency: \",bandgap_delta)\n",
    "    print(\"Ratio Delta/mean: \",bandgap_ratio)\n",
    "\n",
    "    bandgap_mean_array = np.append(bandgap_mean_array, bandgap_mean)\n",
    "    bandgap_delta_array = np.append(bandgap_delta_array, bandgap_delta)\n",
    "    bandgap_ratio_array = np.append(bandgap_ratio_array, bandgap_ratio)\n",
    "\n"
   ]
  },
  {
   "cell_type": "code",
   "execution_count": null,
   "id": "9f50990f",
   "metadata": {},
   "outputs": [
    {
     "data": {
      "image/png": "[encoded data removed]",
      "text/plain": [
       "<Figure size 720x360 with 1 Axes>"
      ]
     },
     "metadata": {
      "needs_background": "light"
     },
     "output_type": "display_data"
    }
   ],
   "source": [
    "fig = plt.figure()\n",
    "\n",
    "plt.plot(Dn_values, bandgap_ratio_array, \"r*\")\n",
    "\n",
    "plt.xlabel(r\"Refractive index contrast $\\Delta n$\")\n",
    "plt.ylabel(r\"$\\Delta \\omega / \\omega_m$\")\n",
    "plt.grid()\n",
    "\n"
   ]
  },
  {
   "cell_type": "code",
   "execution_count": null,
   "id": "1f06696a",
   "metadata": {},
   "outputs": [],
   "source": [
    "fig = plt.figure()\n",
    "\n",
    "plt.plot(Dn_values, bandgap_mean_array, \"r*\")\n",
    "\n",
    "plt.xlabel(r\"Refractive index contrast $\\Delta n$\")\n",
    "plt.ylabel(r\"$\\omega_m$\")\n",
    "plt.grid()\n",
    "\n"
   ]
  },
  {
   "cell_type": "code",
   "execution_count": null,
   "id": "f150023b",
   "metadata": {},
   "outputs": [],
   "source": [
    "fig = plt.figure()\n",
    "\n",
    "plt.plot(Dn_values, bandgap_delta_array, \"r*\")\n",
    "\n",
    "plt.xlabel(r\"Refractive index contrast $\\Delta n$\")\n",
    "plt.ylabel(r\"$\\Delta \\omega\")\n",
    "plt.grid()\n"
   ]
  },
  {
   "cell_type": "markdown",
   "id": "f42cea80",
   "metadata": {},
   "source": [
    "Dubbi: formalmente come faccio a costruire una sorgente che eccita solo alcuni modi della struttura?\n",
    "Come faccio a capire quali modi eccita una sorgente arbitraria?\n",
    "Come misuro aitomaticamente il bandgap?"
   ]
  },
  {
   "cell_type": "markdown",
   "id": "58c9fde8",
   "metadata": {},
   "source": [
    "# Notes\n",
    "- Dn = +1.4, n_1 = 1.45, wm = 0.225, wmin = 0.18, wmax =0.275 Dw=0.095\n",
    "- Dn = 1, n_1 = 1.45, wm = 0.255, wmin = 0.215, wmax =0.287 Dw=0.072"
   ]
  }
 ],
 "metadata": {
  "kernelspec": {
   "display_name": "Python 3.9.7 ('lab_photonics')",
   "language": "python",
   "name": "python3"
  },
  "language_info": {
   "codemirror_mode": {
    "name": "ipython",
    "version": 3
   },
   "file_extension": ".py",
   "mimetype": "text/x-python",
   "name": "python",
   "nbconvert_exporter": "python",
   "pygments_lexer": "ipython3",
   "version": "3.9.7"
  },
  "vscode": {
   "interpreter": {
    "hash": "288b77951d47ff79106d43cb52c595832c17b084d38ea661deb9719da70991b6"
   }
  }
 },
 "nbformat": 4,
 "nbformat_minor": 5
}
