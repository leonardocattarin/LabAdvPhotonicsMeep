{
 "cells": [
  {
   "cell_type": "code",
   "execution_count": 1,
   "id": "e44a761a-6984-451c-96be-3dcb7d663f87",
   "metadata": {},
   "outputs": [],
   "source": [
    "import meep as mp\n",
    "import matplotlib.pyplot as plt\n",
    "import numpy as np\n",
    "from IPython.display import Video\n",
    "from scipy.constants import pi, c\n",
    "from scipy.signal import hilbert, find_peaks\n",
    "from scipy.interpolate import interp1d"
   ]
  },
  {
   "cell_type": "code",
   "execution_count": 2,
   "id": "6a631004-e964-45d5-9f32-31c0e29939d3",
   "metadata": {},
   "outputs": [],
   "source": [
    "plt.rcParams['figure.figsize'] = [10,5]"
   ]
  },
  {
   "cell_type": "code",
   "execution_count": 3,
   "id": "ed9c293b-9684-4b1c-927f-e708c1ff601a",
   "metadata": {},
   "outputs": [
    {
     "name": "stdout",
     "output_type": "stream",
     "text": [
      "1 meep Length unit is 1.0 um\n",
      "1 meep Time unit is 3.3356409519815204 fs\n",
      "1 meep Frequency unit is 299.792458 THz\n"
     ]
    }
   ],
   "source": [
    "#Define conversion functions/factors to get to/from meep units and kms\n",
    "#Length factor to transform lengths in kms\n",
    "l_unit = 1e-6 #1 um\n",
    "t_unit = l_unit/c #time unit is length/c\n",
    "\n",
    "#multiplicative constants to convert frequencies from meep to kms hertz\n",
    "freq_unit = c/l_unit\n",
    "\n",
    "print(\"1 meep Length unit is\", l_unit*1e+6, \"um\")\n",
    "print(\"1 meep Time unit is\", t_unit*1e+15, \"fs\")\n",
    "print(\"1 meep Frequency unit is\", freq_unit*1e-12, \"THz\")"
   ]
  },
  {
   "cell_type": "markdown",
   "id": "f6b57dbb",
   "metadata": {},
   "source": [
    "# Resolution"
   ]
  },
  {
   "cell_type": "code",
   "execution_count": 4,
   "id": "b32310ad",
   "metadata": {},
   "outputs": [
    {
     "name": "stdout",
     "output_type": "stream",
     "text": [
      "Pixel per unit:  20\n",
      "Space resolution [meep]:  0.05\n",
      "Time resolution [meep]:  0.025\n",
      "Space resolution [um]:  0.049999999999999996\n",
      "Time resolution [fs]:  0.08339102379953803\n"
     ]
    }
   ],
   "source": [
    "#courant factor\n",
    "S = 0.5\n",
    "\n",
    "#resolution is number of pixels per meep unit\n",
    "resolution = 20\n",
    "\n",
    "#resolutions in meep units\n",
    "space_res = 1/resolution\n",
    "time_res = space_res*S\n",
    "\n",
    "print(\"Pixel per unit: \", resolution)\n",
    "\n",
    "print(\"Space resolution [meep]: \", space_res)\n",
    "print(\"Time resolution [meep]: \", time_res)\n",
    "\n",
    "print(\"Space resolution [um]: \", space_res*l_unit*1e+6)\n",
    "print(\"Time resolution [fs]: \", time_res*t_unit*1e+15)"
   ]
  },
  {
   "cell_type": "markdown",
   "id": "8ea4fb08",
   "metadata": {},
   "source": [
    "# Geometry Definition\n",
    "Cell"
   ]
  },
  {
   "cell_type": "code",
   "execution_count": 5,
   "id": "e264b2f0-b4c8-4512-8fcc-f24bbbc648df",
   "metadata": {},
   "outputs": [],
   "source": [
    "#define cell size and resolution\n",
    "#Cell size is in meep units\n",
    "#center is in (0,0), ranges in x=(-sx/2,sx/2), y=(-sy/2,sy/2)\n",
    "sx = 20\n",
    "sy = 10\n",
    "\n",
    "cell = mp.Vector3(sx, sy)\n",
    "\n",
    "#boundary conditions thickness\n",
    "pml_thickness = 1.0\n",
    "\n",
    "#automatic positioning of boundaries\n",
    "x_bound_up = sx/2 - pml_thickness\n",
    "x_bound_low = -sx/2 + pml_thickness\n",
    "\n",
    "y_bound_up = sy/2 - pml_thickness\n",
    "y_bound_low = -sy/2 + pml_thickness"
   ]
  },
  {
   "cell_type": "markdown",
   "id": "1a0e46ab",
   "metadata": {},
   "source": [
    "Bragg Reflector\n"
   ]
  },
  {
   "cell_type": "code",
   "execution_count": 6,
   "id": "cb5efe13-e4ac-43b4-a023-3bc1795bc507",
   "metadata": {},
   "outputs": [],
   "source": [
    "#materials refractive indexes\n",
    "n_1 = 3.5 #Si\n",
    "n_2 = 1.45 #SiO2\n",
    "\n",
    "#Bragg params\n",
    "width_cavity = 1\n",
    "width_1 = 0.5\n",
    "width_2 = 0.5\n",
    "\n",
    "#Half the number of layers\n",
    "N_layer_half = 1\n",
    "\n",
    "#The x position of the BR boundaries\n",
    "bragg_boundary = width_cavity/2 + width_2/2 + width_2*(N_layer_half-1) + width_1*(N_layer_half-1) + 2*width_1\n"
   ]
  },
  {
   "cell_type": "markdown",
   "id": "b07cc81e",
   "metadata": {},
   "source": [
    "Source"
   ]
  },
  {
   "cell_type": "code",
   "execution_count": 8,
   "id": "e21bd24e",
   "metadata": {},
   "outputs": [
    {
     "name": "stdout",
     "output_type": "stream",
     "text": [
      "#Source pulse frequency: fcent=  44.9688687  THz, df=  29.9792458  THz\n",
      "#Source vacuum wavelength: lambda =  6.666666666666667 um, dlambda =  10.0 um\n",
      "#Source material 1 wavelength: lambda =  1.9047619047619047 um, dlambda =  2.857142857142857 um\n",
      "#Source material 2 wavelength: lambda =  4.597701149425287 um, dlambda =  6.8965517241379315 um\n"
     ]
    }
   ],
   "source": [
    "#Soure parameters\n",
    "source_x= -bragg_boundary - 4\n",
    "source_y = 0\n",
    "\n",
    "width_source = 5\n",
    "\n",
    "f_central = 0.15\n",
    "df = 0.1\n",
    "\n",
    "\n",
    "print(\"#Source pulse frequency: fcent= \", f_central*freq_unit*1e-12, \" THz, df= \",df*freq_unit*1e-12, \" THz\" )\n",
    "print(\"#Source vacuum wavelength: lambda = \",  c/(f_central*freq_unit)*1e+6, \"um, dlambda = \",c/(df*freq_unit)*1e+6,\"um\")\n",
    "print(\"#Source material 1 wavelength: lambda = \",  (c/n_1)/(f_central*freq_unit)*1e+6, \"um, dlambda = \", (c/n_1)/(df*freq_unit)*1e+6,\"um\")\n",
    "print(\"#Source material 2 wavelength: lambda = \",  (c/n_2)/(f_central*freq_unit)*1e+6, \"um, dlambda = \", (c/n_2)/(df*freq_unit)*1e+6,\"um\")"
   ]
  },
  {
   "cell_type": "markdown",
   "id": "cee17ff1",
   "metadata": {},
   "source": [
    "Monitors"
   ]
  },
  {
   "cell_type": "code",
   "execution_count": null,
   "id": "c2a8390a",
   "metadata": {},
   "outputs": [],
   "source": [
    "\n",
    "#Monitor parameters\n",
    "x_mon_1 = -bragg_boundary - 2\n",
    "h_mon_1 = sy - 2*pml_thickness\n",
    "\n",
    "x_mon_2 = bragg_boundary + 2\n",
    "h_mon_2 = sy - 2*pml_thickness\n",
    "\n",
    "N_freq = 100\n",
    "\n",
    "f_mon_central = f_central\n",
    "df_mon = df\n",
    "\n",
    "#Point for simulation termination\n",
    "check_pt = mp.Vector3(0, bragg_boundary + 0.5)\n"
   ]
  },
  {
   "cell_type": "markdown",
   "id": "7a772243",
   "metadata": {},
   "source": [
    "# Normalization Run"
   ]
  },
  {
   "cell_type": "code",
   "execution_count": 6,
   "id": "c2d0a7b7-f127-4dc9-a9c1-7ecd59906b27",
   "metadata": {},
   "outputs": [
    {
     "name": "stdout",
     "output_type": "stream",
     "text": [
      "-----------\n",
      "Initializing structure...\n",
      "time for choose_chunkdivision = 0.000138044 s\n",
      "Working in 2D dimensions.\n",
      "Computational cell is 20 x 10 x 0 with resolution 20\n",
      "time for set_epsilon = 0.094902 s\n",
      "-----------\n",
      "field decay(t = 50.025000000000006): 0.06846597894041982 / 0.06846597894041982 = 1.0\n",
      "field decay(t = 100.05000000000001): 0.11578767283844053 / 0.11578767283844053 = 1.0\n",
      "field decay(t = 150.07500000000002): 2.6670365221212823e-10 / 0.11578767283844053 = 2.303385547650327e-09\n",
      "run 0 finished at t = 150.07500000000002 (6003 timesteps)\n"
     ]
    }
   ],
   "source": [
    "\n",
    "\n",
    "#define sources\n",
    "sources = [mp.Source(mp.GaussianSource(frequency=f_central, fwidth=df),\n",
    "                     component=mp.Ez,\n",
    "                     center=mp.Vector3(source_x, 0),\n",
    "                     size=mp.Vector3(0, h_source))]\n",
    "\n",
    "#define boundary conditions\n",
    "pml_layers = [mp.PML(pml_thickness)]\n",
    "\n",
    "#Instance simulation with chosen parameters\n",
    "sim = mp.Simulation(cell_size=cell,\n",
    "                    boundary_layers=pml_layers,\n",
    "                    sources=sources,\n",
    "                    resolution=resolution)\n",
    "\n",
    "# Flux Monitor 1\n",
    "incident_fr = mp.FluxRegion(center=mp.Vector3(x_mon_1, 0), size=mp.Vector3(0, h_mon_1, 0))\n",
    "incident = sim.add_flux(f_mon_central, df_mon, N_freq, incident_fr)\n",
    "\n",
    "# Flux Monitor 2\n",
    "tran_fr = mp.FluxRegion(center=mp.Vector3(x_mon_2, 0), size=mp.Vector3(0,h_mon_2,0))\n",
    "tran = sim.add_flux(f_mon_central, df_mon, N_freq, tran_fr)\n",
    "\n",
    "#Simulate\n",
    "sim.run(until_after_sources = mp.stop_when_fields_decayed(50, mp.Ez, check_pt, 1e-3))\n",
    "\n",
    "#Get Fourier-transformed fields of incident pulse\n",
    "norm_incident_data = sim.get_flux_data(incident)\n",
    "\n",
    "#Get fluxes from fourier transformed fields transmitted\n",
    "norm_tran_flux = mp.get_fluxes(tran)"
   ]
  },
  {
   "cell_type": "code",
   "execution_count": 7,
   "id": "0cfe8caf-bb7a-4977-b003-eca86469b355",
   "metadata": {},
   "outputs": [],
   "source": [
    "sim.reset_meep()"
   ]
  },
  {
   "cell_type": "markdown",
   "id": "3ac5aa3c",
   "metadata": {},
   "source": [
    "# Actual Run"
   ]
  },
  {
   "cell_type": "code",
   "execution_count": 8,
   "id": "bee08b3b-51a5-4f10-a558-293d732f9b96",
   "metadata": {},
   "outputs": [],
   "source": [
    "#define geometry\n",
    "\n",
    "#Background material\n",
    "geometry = [mp.Block(mp.Vector3(2*bragg_boundary, mp.inf, mp.inf),\n",
    "                     center=mp.Vector3(0,0),\n",
    "                     material=mp.Medium(index=n_1))]\n",
    "\n",
    "#Layers Material\n",
    "for ii in range(N_layer_half):\n",
    "    geometry.append(mp.Block(mp.Vector3(width_2, mp.inf, mp.inf),\n",
    "                     center=mp.Vector3(width_cavity/2 + width_2/2 + width_2*ii + width_1*ii, 0),\n",
    "                     material=mp.Medium(index=n_2)))\n",
    "    \n",
    "    geometry.append(mp.Block(mp.Vector3(width_2, mp.inf, mp.inf),\n",
    "                     center=mp.Vector3(-width_cavity/2 - width_2/2 - width_2*ii - width_1*ii,0),\n",
    "                     material=mp.Medium(index=n_2)))\n",
    "    \n",
    "    \n",
    "#define sources\n",
    "sources = [mp.Source(mp.GaussianSource(frequency=f_central, fwidth=df),\n",
    "                     component=mp.Ez,\n",
    "                     center=mp.Vector3(source_x, 0),\n",
    "                     size=mp.Vector3(0, h_source))]\n",
    "\n",
    "#define boundary conditions\n",
    "pml_layers = [mp.PML(pml_thickness)]\n",
    "\n",
    "\n",
    "#Instance simulation with chosen parameters\n",
    "sim = mp.Simulation(cell_size=cell,\n",
    "                    boundary_layers=pml_layers,\n",
    "                    geometry=geometry,\n",
    "                    sources=sources,\n",
    "                    resolution=resolution)"
   ]
  },
  {
   "cell_type": "code",
   "execution_count": 9,
   "id": "e0dcd9c3-4510-4e4c-b3c0-ad98d1555452",
   "metadata": {},
   "outputs": [],
   "source": [
    "##Flux Monitors Definition\n",
    "\n",
    "#First instantiate a flux region object by telling its geometric parameters\n",
    "#Then call add_flux on simulation object, passing the fluxregion as parameter. Returns flux object\n",
    "\n",
    "#This tells meep to perform the following:\n",
    "#For each of the chosen frequencies, and for each of the fields components,\n",
    "#accumulate the discrete fourier transform until the end of the simulation\n",
    "\n",
    "#Desired frequencies are in (fcen-df/2, fcen+df/2)\n",
    "\n",
    "# Flux Monitor 1\n",
    "refl_fr = mp.FluxRegion(center=mp.Vector3(x_mon_1, 0), size=mp.Vector3(0,h_mon_1,0))\n",
    "refl = sim.add_flux(f_mon_central, df_mon, N_freq, refl_fr)\n",
    "\n",
    "# Flux Monitor 2\n",
    "tran_fr = mp.FluxRegion(center=mp.Vector3(x_mon_2, 0), size=mp.Vector3(0,h_mon_2,0))\n",
    "tran = sim.add_flux(f_mon_central, df_mon, N_freq, tran_fr)"
   ]
  },
  {
   "cell_type": "code",
   "execution_count": 10,
   "id": "a75718c9-1b71-445b-a2ff-2983ea707d15",
   "metadata": {},
   "outputs": [
    {
     "name": "stdout",
     "output_type": "stream",
     "text": [
      "-----------\n",
      "Initializing structure...\n",
      "time for choose_chunkdivision = 0.000151873 s\n",
      "Working in 2D dimensions.\n",
      "Computational cell is 20 x 10 x 0 with resolution 20\n",
      "     block, center = (0,0,0)\n",
      "          size (3.5,1e+20,1e+20)\n",
      "          axes (1,0,0), (0,1,0), (0,0,1)\n",
      "          dielectric constant epsilon diagonal = (12.25,12.25,12.25)\n",
      "     block, center = (0.75,0,0)\n",
      "          size (0.5,1e+20,1e+20)\n",
      "          axes (1,0,0), (0,1,0), (0,0,1)\n",
      "          dielectric constant epsilon diagonal = (2.1025,2.1025,2.1025)\n",
      "     block, center = (-0.75,0,0)\n",
      "          size (0.5,1e+20,1e+20)\n",
      "          axes (1,0,0), (0,1,0), (0,0,1)\n",
      "          dielectric constant epsilon diagonal = (2.1025,2.1025,2.1025)\n",
      "time for set_epsilon = 0.126511 s\n",
      "-----------\n"
     ]
    }
   ],
   "source": [
    "#load normalization data\n",
    "sim.load_minus_flux_data(refl, norm_incident_data)"
   ]
  },
  {
   "cell_type": "code",
   "execution_count": 11,
   "id": "95babcea-0a76-4bdb-b6d6-a6a6024ffc3d",
   "metadata": {},
   "outputs": [
    {
     "name": "stdout",
     "output_type": "stream",
     "text": [
      "field decay(t = 50.025000000000006): 0.0024683251922396816 / 0.0024683251922396816 = 1.0\n",
      "field decay(t = 100.05000000000001): 0.0043952719593633085 / 0.0043952719593633085 = 1.0\n",
      "field decay(t = 150.07500000000002): 9.222567577495903e-09 / 0.0043952719593633085 = 2.0982928161814743e-06\n",
      "Normalizing field data...\n",
      "run 0 finished at t = 150.07500000000002 (6003 timesteps)\n",
      "Generating MP4...\n"
     ]
    },
    {
     "data": {
      "image/png": "[encoded data removed]",
      "text/plain": [
       "<Figure size 720x360 with 1 Axes>"
      ]
     },
     "metadata": {
      "needs_background": "light"
     },
     "output_type": "display_data"
    }
   ],
   "source": [
    "#Rusn simulation and save animation of Ez\n",
    "animate = mp.Animate2D(sim,\n",
    "                       fields=mp.Ez,\n",
    "                       normalize=True,\n",
    "                       realtime=False,\n",
    "                       eps_parameters={'alpha':1, 'cmap':'RdBu', 'interpolation':'spline36'},\n",
    "                       field_parameters={'alpha':0.8, 'cmap':'RdBu', 'interpolation':'spline36'},\n",
    "                       boundary_parameters={'hatch':'o', 'linewidth':1.5, 'facecolor':'y', 'edgecolor':'b', 'alpha':0.3})\n",
    "\n",
    "\n",
    "sim.run(mp.at_every(1, animate), until_after_sources = mp.stop_when_fields_decayed(50, mp.Ez, check_pt, 1e-3))\n",
    "        #until_after_sources=mp.stop_when_fields_decayed(50,mp.Ez,pt,1e-3))\n",
    "\n",
    "animate.to_mp4(10, \"Ez.mp4\")"
   ]
  },
  {
   "cell_type": "code",
   "execution_count": 12,
   "id": "48dbb5d1-072b-4aa8-a9d1-226272c665fe",
   "metadata": {},
   "outputs": [
    {
     "data": {
      "text/html": [
       "<video src=\"Ez.mp4\" controls  >\n",
       "      Your browser does not support the <code>video</code> element.\n",
       "    </video>"
      ],
      "text/plain": [
       "<IPython.core.display.Video object>"
      ]
     },
     "execution_count": 12,
     "metadata": {},
     "output_type": "execute_result"
    }
   ],
   "source": [
    "Video(\"Ez.mp4\")"
   ]
  },
  {
   "cell_type": "code",
   "execution_count": 13,
   "id": "45319aea-0916-442b-af3c-b2b62273af53",
   "metadata": {},
   "outputs": [],
   "source": [
    "# Get Final Fluxes\n",
    "bragg_tran_flux = mp.get_fluxes(tran)\n",
    "bragg_refl_flux = mp.get_fluxes(refl)\n",
    "\n",
    "flux_freqs = mp.get_flux_freqs(refl)"
   ]
  },
  {
   "cell_type": "code",
   "execution_count": null,
   "id": "0d2c74df-41f5-4648-9284-68557bb9a22d",
   "metadata": {},
   "outputs": [],
   "source": []
  }
 ],
 "metadata": {
  "kernelspec": {
   "display_name": "Python 3.9.7 ('lab_photonics')",
   "language": "python",
   "name": "python3"
  },
  "language_info": {
   "codemirror_mode": {
    "name": "ipython",
    "version": 3
   },
   "file_extension": ".py",
   "mimetype": "text/x-python",
   "name": "python",
   "nbconvert_exporter": "python",
   "pygments_lexer": "ipython3",
   "version": "3.9.7"
  },
  "vscode": {
   "interpreter": {
    "hash": "288b77951d47ff79106d43cb52c595832c17b084d38ea661deb9719da70991b6"
   }
  }
 },
 "nbformat": 4,
 "nbformat_minor": 5
}
