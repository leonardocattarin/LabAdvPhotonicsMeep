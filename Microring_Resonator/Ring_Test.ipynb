{
 "cells": [
  {
   "cell_type": "code",
   "execution_count": 1,
   "id": "2b088b2b-0be4-42d9-b80b-3fee5aba56e9",
   "metadata": {},
   "outputs": [],
   "source": [
    "import meep as mp\n",
    "import matplotlib.pyplot as plt\n",
    "import numpy as np\n",
    "from IPython.display import Video"
   ]
  },
  {
   "cell_type": "code",
   "execution_count": 2,
   "id": "46999017-0dc9-4459-8bf0-eb67ffad94f2",
   "metadata": {},
   "outputs": [],
   "source": [
    "plt.rcParams['figure.figsize'] = [10,5]"
   ]
  },
  {
   "cell_type": "markdown",
   "id": "838e8892-a40b-4e8d-89ee-6e8bef9e2f4d",
   "metadata": {},
   "source": [
    "# Ring Resonator"
   ]
  },
  {
   "cell_type": "code",
   "execution_count": 3,
   "id": "f4fb005d-c35a-46af-aa32-0b61ae711c91",
   "metadata": {},
   "outputs": [],
   "source": [
    "n = 1.7\n",
    "w = 0.5 #ring width\n",
    "r = 2 #padding region\n",
    "pad = 2 \n",
    "dpml = 2\n",
    "\n",
    "fcen = 0.65 #central freqeuency, already optimized\n",
    "df = 0.2 #frequency width\n",
    "\n",
    "res = 16\n",
    "int_lim = 1e-3\n",
    "\n",
    "src_width = 0.8*w #source width\n",
    "\n",
    "silicon = mp.Medium(index=n)"
   ]
  },
  {
   "cell_type": "code",
   "execution_count": 4,
   "id": "f6f3ee3c-cf43-4306-9d24-655ecfe06e81",
   "metadata": {},
   "outputs": [],
   "source": [
    "#define two cylinders\n",
    "ext_ring = mp.Cylinder(radius=r+w, center=mp.Vector3(0,0), material=silicon)\n",
    "int_ring = mp.Cylinder(radius=r, center=mp.Vector3(0,0), material=mp.Medium(epsilon=1.0))\n",
    "\n",
    "#define simulation cell size\n",
    "sx = np.ceil(2*pad + 2*(r + w) + 2*dpml)\n",
    "sy = sx"
   ]
  },
  {
   "cell_type": "code",
   "execution_count": 5,
   "id": "f2272341-7f75-4e77-a6c8-9888b1f1eee2",
   "metadata": {},
   "outputs": [],
   "source": [
    "#define source\n",
    "#NOTE: it is preferrable to place sources NOT in points with high degree of symmetry\n",
    "#you risk to excite only certain modes! you want to excite all the modes\n",
    "src = mp.Source(mp.GaussianSource(fcen, fwidth=df),\n",
    "               mp.Ez,\n",
    "               center=mp.Vector3(r+w/2),\n",
    "                size=mp.Vector3(src_width)\n",
    "               )\n",
    "\n",
    "#Define simulation\n",
    "sim = mp.Simulation(cell_size = mp.Vector3(sx,sy),\n",
    "                   geometry =[ext_ring,int_ring],\n",
    "                   sources = [src],\n",
    "                   resolution = res,\n",
    "                   boundary_layers = [mp.PML(dpml)])"
   ]
  },
  {
   "cell_type": "code",
   "execution_count": 6,
   "id": "43ffb1be-02a9-4346-8545-cc0b65c53c34",
   "metadata": {},
   "outputs": [
    {
     "name": "stdout",
     "output_type": "stream",
     "text": [
      "-----------\n",
      "Initializing structure...\n",
      "time for choose_chunkdivision = 0.000329971 s\n",
      "Working in 2D dimensions.\n",
      "Computational cell is 13 x 13 x 0 with resolution 16\n",
      "     cylinder, center = (0,0,0)\n",
      "          radius 2.5, height 1e+20, axis (0, 0, 1)\n",
      "          dielectric constant epsilon diagonal = (2.89,2.89,2.89)\n",
      "     cylinder, center = (0,0,0)\n",
      "          radius 2, height 1e+20, axis (0, 0, 1)\n",
      "          dielectric constant epsilon diagonal = (1,1,1)\n",
      "time for set_epsilon = 0.133907 s\n",
      "-----------\n"
     ]
    },
    {
     "data": {
      "application/vnd.jupyter.widget-view+json": {
       "model_id": "968ba5f9bfa7483fbef6869e7afaecae",
       "version_major": 2,
       "version_minor": 0
      },
      "text/plain": [
       "FloatProgress(value=0.0, description='0% done ', max=450.0)"
      ]
     },
     "metadata": {},
     "output_type": "display_data"
    },
    {
     "name": "stdout",
     "output_type": "stream",
     "text": [
      "Meep progress: 365.1875/450.0 = 81.2% done in 4.0s, 0.9s to go\n",
      "on time step 11711 (time=365.969), 0.000341571 s/step\n",
      "harminv0:, frequency, imag. freq., Q, |amp|, amplitude, error\n",
      "harminv0:, 0.5812081995577392, -0.0016820630976287039, 172.7664676720808, 0.007860698083790817, 0.007376527609149278-0.0027161396863878465i, 7.3719570329906405e-06+0.0i\n",
      "harminv0:, 0.6219501062371632, -0.0010977387968281705, 283.28692947458853, 0.06633308135256247, 0.06030306149592073-0.027633647170521556i, 5.119323950957285e-07+0.0i\n",
      "harminv0:, 0.6624395673349206, -0.0007057853357307066, 469.2925269190315, 0.10521455426533392, 0.09413777356535398-0.04699129725184267i, 1.5149156086096961e-07+0.0i\n",
      "harminv0:, 0.7025334415131487, -0.0004429869444793222, 792.9505036981305, 0.03285739291198684, 0.02946980448572422-0.014530619138421864i, 3.359462567242099e-07+0.0i\n",
      "harminv0:, 0.7423704663469534, -0.0002556737867655151, 1451.7922930984712, 0.0020591327730748593, 0.0018918987368643783-0.0008128634243228873i, 4.833778621345476e-06+0.0i\n",
      "run 0 finished at t = 450.0 (14400 timesteps)\n"
     ]
    }
   ],
   "source": [
    "#Let's instruct Harminv where to check\n",
    "pt = mp.Vector3(r+ w/2,0)\n",
    "har = mp.Harminv(mp.Ez, pt, fcen, df)\n",
    "\n",
    "sim.run(mp.after_sources(har),\n",
    "        mp.at_every(50, mp.output_efield_z),\n",
    "       until_after_sources = 400)"
   ]
  },
  {
   "cell_type": "code",
   "execution_count": null,
   "id": "789679a0-83e9-4ead-9aad-465118264d95",
   "metadata": {},
   "outputs": [],
   "source": []
  }
 ],
 "metadata": {
  "kernelspec": {
   "display_name": "Python 3.8.10 64-bit",
   "language": "python",
   "name": "python3"
  },
  "language_info": {
   "codemirror_mode": {
    "name": "ipython",
    "version": 3
   },
   "file_extension": ".py",
   "mimetype": "text/x-python",
   "name": "python",
   "nbconvert_exporter": "python",
   "pygments_lexer": "ipython3",
   "version": "3.8.10"
  },
  "vscode": {
   "interpreter": {
    "hash": "916dbcbb3f70747c44a77c7bcd40155683ae19c65e1c03b4aa3499c5328201f1"
   }
  }
 },
 "nbformat": 4,
 "nbformat_minor": 5
}
