{
 "cells": [
  {
   "cell_type": "code",
   "execution_count": 1,
   "id": "e44a761a-6984-451c-96be-3dcb7d663f87",
   "metadata": {},
   "outputs": [],
   "source": [
    "import meep as mp\n",
    "import matplotlib.pyplot as plt\n",
    "import numpy as np\n",
    "from IPython.display import Video\n",
    "from scipy.constants import pi, c\n",
    "from scipy.signal import hilbert, find_peaks\n",
    "from scipy.interpolate import interp1d"
   ]
  },
  {
   "cell_type": "code",
   "execution_count": 2,
   "id": "6a631004-e964-45d5-9f32-31c0e29939d3",
   "metadata": {},
   "outputs": [],
   "source": [
    "plt.rcParams['figure.figsize'] = [10,5]"
   ]
  },
  {
   "cell_type": "code",
   "execution_count": 3,
   "id": "ed9c293b-9684-4b1c-927f-e708c1ff601a",
   "metadata": {},
   "outputs": [
    {
     "name": "stdout",
     "output_type": "stream",
     "text": [
      "1 meep Length unit is 1.0 um\n",
      "1 meep Time unit is 3.3356409519815204 fs\n",
      "1 meep Frequency unit is 299.792458 THz\n"
     ]
    }
   ],
   "source": [
    "#Define conversion functions/factors to get to/from meep units and kms\n",
    "#Length factor to transform lengths in kms\n",
    "l_unit = 1e-6 #1 um\n",
    "t_unit = l_unit/c #time unit is length/c\n",
    "\n",
    "#multiplicative constants to convert frequencies from meep to kms hertz\n",
    "freq_unit = c/l_unit\n",
    "\n",
    "print(\"1 meep Length unit is\", l_unit*1e+6, \"um\")\n",
    "print(\"1 meep Time unit is\", t_unit*1e+15, \"fs\")\n",
    "print(\"1 meep Frequency unit is\", freq_unit*1e-12, \"THz\")"
   ]
  },
  {
   "cell_type": "markdown",
   "id": "f6b57dbb",
   "metadata": {},
   "source": [
    "# Resolution"
   ]
  },
  {
   "cell_type": "code",
   "execution_count": 4,
   "id": "b32310ad",
   "metadata": {},
   "outputs": [
    {
     "name": "stdout",
     "output_type": "stream",
     "text": [
      "Pixel per unit:  20\n",
      "Space resolution [meep]:  0.05\n",
      "Time resolution [meep]:  0.025\n",
      "Space resolution [um]:  0.049999999999999996\n",
      "Time resolution [fs]:  0.08339102379953803\n"
     ]
    }
   ],
   "source": [
    "#courant factor\n",
    "S = 0.5\n",
    "\n",
    "#resolution is number of pixels per meep unit\n",
    "resolution = 20\n",
    "\n",
    "#resolutions in meep units\n",
    "space_res = 1/resolution\n",
    "time_res = space_res*S\n",
    "\n",
    "print(\"Pixel per unit: \", resolution)\n",
    "\n",
    "print(\"Space resolution [meep]: \", space_res)\n",
    "print(\"Time resolution [meep]: \", time_res)\n",
    "\n",
    "print(\"Space resolution [um]: \", space_res*l_unit*1e+6)\n",
    "print(\"Time resolution [fs]: \", time_res*t_unit*1e+15)"
   ]
  },
  {
   "cell_type": "markdown",
   "id": "8ea4fb08",
   "metadata": {},
   "source": [
    "# Geometry Definition\n",
    "Cell"
   ]
  },
  {
   "cell_type": "code",
   "execution_count": 5,
   "id": "e264b2f0-b4c8-4512-8fcc-f24bbbc648df",
   "metadata": {},
   "outputs": [],
   "source": [
    "#define cell size and resolution\n",
    "#Cell size is in meep units\n",
    "#center is in (0,0), ranges in x=(-sx/2,sx/2), y=(-sy/2,sy/2)\n",
    "sx = 24\n",
    "sy = 20\n",
    "\n",
    "cell = mp.Vector3(sx, sy)\n",
    "\n",
    "#boundary conditions thickness\n",
    "pml_thickness = 1.0\n",
    "\n",
    "#automatic positioning of boundaries\n",
    "x_bound_up = sx/2 - pml_thickness\n",
    "x_bound_low = -sx/2 + pml_thickness\n",
    "\n",
    "y_bound_up = sy/2 - pml_thickness\n",
    "y_bound_low = -sy/2 + pml_thickness"
   ]
  },
  {
   "cell_type": "code",
   "execution_count": 6,
   "id": "cb5efe13-e4ac-43b4-a023-3bc1795bc507",
   "metadata": {},
   "outputs": [],
   "source": [
    "#materials refractive indexes\n",
    "n_bgnd = 1\n",
    "n_wvg = 1.7\n",
    "n_ring = n_wvg\n",
    "\n",
    "#Separating distance\n",
    "d = 0.1\n",
    "\n",
    "#Width properties\n",
    "wvg_width = 1\n",
    "\n",
    "ring_r = 4\n",
    "ring_w = wvg_width\n",
    "\n",
    "#Position properties\n",
    "wvg_x = 0\n",
    "wvg_y = -(wvg_width + d + ring_w*2 + ring_r*2)/2 + wvg_width/2\n",
    "\n",
    "ring_x = 0\n",
    "ring_y = wvg_y + wvg_width/2 + d + ring_w + ring_r\n"
   ]
  },
  {
   "cell_type": "markdown",
   "id": "b07cc81e",
   "metadata": {},
   "source": [
    "Source"
   ]
  },
  {
   "cell_type": "code",
   "execution_count": 7,
   "id": "e21bd24e",
   "metadata": {},
   "outputs": [
    {
     "name": "stdout",
     "output_type": "stream",
     "text": [
      "#Source pulse frequency: fcent=  119.9169832  THz, df=  14.9896229  THz\n",
      "#Source vacuum wavelength: lambda =  2.5 um, dlambda =  20.0 um\n",
      "#Source wvg wavelength: lambda =  1.4705882352941178 um\n",
      "#Source ring wavelength: lambda =  1.4705882352941178 um\n"
     ]
    }
   ],
   "source": [
    "#Soure parameters\n",
    "source_x = x_bound_low + 1\n",
    "source_y = wvg_y\n",
    "\n",
    "source_width = wvg_width\n",
    "\n",
    "#note: df is not really the frequency sigma\n",
    "f_central = 0.4\n",
    "df = 0.05\n",
    "\n",
    "print(\"#Source pulse frequency: fcent= \", f_central*freq_unit*1e-12, \" THz, df= \",df*freq_unit*1e-12, \" THz\" )\n",
    "print(\"#Source vacuum wavelength: lambda = \",  c/(f_central*freq_unit)*1e+6, \"um, dlambda = \",c/(df*freq_unit)*1e+6,\"um\")\n",
    "print(\"#Source wvg wavelength: lambda = \",  (c/n_wvg)/(f_central*freq_unit)*1e+6, \"um\")\n",
    "print(\"#Source ring wavelength: lambda = \",  (c/n_ring)/(f_central*freq_unit)*1e+6, \"um\")"
   ]
  },
  {
   "cell_type": "markdown",
   "id": "cee17ff1",
   "metadata": {},
   "source": [
    "Monitors"
   ]
  },
  {
   "cell_type": "code",
   "execution_count": 8,
   "id": "c2a8390a",
   "metadata": {},
   "outputs": [],
   "source": [
    "\n",
    "#Monitor parameters\n",
    "#input\n",
    "mon_1_x = source_x + 1\n",
    "mon_1_y = wvg_y\n",
    "mon_1_width = wvg_width\n",
    "\n",
    "#output\n",
    "mon_2_x = x_bound_up - 1\n",
    "mon_2_y = wvg_y\n",
    "mon_2_width = wvg_width\n",
    "\n",
    "#number of sampling points in frequency for fourier transform of fields accumulated\n",
    "N_freq = 300\n",
    "\n",
    "#central frequency\n",
    "f_mon_central = f_central\n",
    "#width of sampled frequency band\n",
    "df_mon = df\n",
    "\n",
    "\n",
    "\n",
    "#Point for simulation termination condition\n",
    "check_pt = mp.Vector3(mon_2_x - 0.1, mon_2_y)\n"
   ]
  },
  {
   "cell_type": "markdown",
   "id": "7a772243",
   "metadata": {},
   "source": [
    "# Normalization Run\n",
    "No DBR"
   ]
  },
  {
   "cell_type": "code",
   "execution_count": 9,
   "id": "c2d0a7b7-f127-4dc9-a9c1-7ecd59906b27",
   "metadata": {},
   "outputs": [
    {
     "name": "stdout",
     "output_type": "stream",
     "text": [
      "-----------\n",
      "Initializing structure...\n",
      "time for choose_chunkdivision = 0.000263929 s\n",
      "Working in 2D dimensions.\n",
      "Computational cell is 24 x 20 x 0 with resolution 20\n",
      "     block, center = (0,-5.05,0)\n",
      "          size (1e+20,1,1e+20)\n",
      "          axes (1,0,0), (0,1,0), (0,0,1)\n",
      "          dielectric constant epsilon diagonal = (2.89,2.89,2.89)\n",
      "     cylinder, center = (0,0.55,0)\n",
      "          radius 5, height 1e+20, axis (0, 0, 1)\n",
      "          dielectric constant epsilon diagonal = (2.89,2.89,2.89)\n",
      "     cylinder, center = (0,0.55,0)\n",
      "          radius 4, height 1e+20, axis (0, 0, 1)\n",
      "          dielectric constant epsilon diagonal = (1,1,1)\n",
      "time for set_epsilon = 0.454382 s\n",
      "-----------\n",
      "on time step 1926 (time=48.15), 0.00207737 s/step\n",
      "field decay(t = 50.025000000000006): 4.876326898319912e-05 / 4.876326898319912e-05 = 1.0\n",
      "field decay(t = 100.05000000000001): 0.06557339165280754 / 0.06557339165280754 = 1.0\n",
      "on time step 4076 (time=101.9), 0.0018612 s/step\n",
      "field decay(t = 150.07500000000002): 0.015511936736080166 / 0.06557339165280754 = 0.23655840189282049\n",
      "on time step 6430 (time=160.75), 0.00169943 s/step\n",
      "field decay(t = 200.10000000000002): 0.008232183393863862 / 0.06557339165280754 = 0.12554152204679198\n",
      "on time step 8942 (time=223.55), 0.00159247 s/step\n",
      "field decay(t = 250.125): 0.004365990299894103 / 0.06557339165280754 = 0.06658173673569882\n",
      "on time step 11438 (time=285.95), 0.00160284 s/step\n",
      "field decay(t = 300.15000000000003): 0.0023190845036768133 / 0.06557339165280754 = 0.03536624300227913\n",
      "on time step 13937 (time=348.425), 0.00160087 s/step\n",
      "field decay(t = 350.175): 0.001238827666276517 / 0.06557339165280754 = 0.018892231056702957\n",
      "field decay(t = 400.20000000000005): 0.0006670815780465722 / 0.06557339165280754 = 0.010173052837934318\n",
      "on time step 16448 (time=411.2), 0.00159338 s/step\n",
      "field decay(t = 450.225): 0.0003588803192389701 / 0.06557339165280754 = 0.00547295648727672\n",
      "on time step 18960 (time=474), 0.00159438 s/step\n",
      "field decay(t = 500.25): 0.00019339594969549476 / 0.06557339165280754 = 0.0029493052718619667\n",
      "on time step 21440 (time=536), 0.00161388 s/step\n",
      "field decay(t = 550.275): 0.00010408732566803786 / 0.06557339165280754 = 0.0015873408869736471\n",
      "on time step 23933 (time=598.325), 0.00160472 s/step\n",
      "field decay(t = 600.3000000000001): 5.655020192784953e-05 / 0.06557339165280754 = 0.0008623955617130004\n",
      "Normalizing field data...\n",
      "run 0 finished at t = 600.3000000000001 (24012 timesteps)\n",
      "Generating MP4...\n"
     ]
    },
    {
     "data": {
      "image/png": "[encoded data removed]",
      "text/plain": [
       "<Figure size 720x360 with 1 Axes>"
      ]
     },
     "metadata": {
      "needs_background": "light"
     },
     "output_type": "display_data"
    }
   ],
   "source": [
    "#Geometry objects\n",
    "waveguide = mp.Block(mp.Vector3(mp.inf, wvg_width, mp.inf),\n",
    "                    center = mp.Vector3(wvg_x, wvg_y),\n",
    "                    material = mp.Medium(index=n_wvg))\n",
    "ext_ring = mp.Cylinder(radius=ring_r+ring_w,\n",
    "                    center=mp.Vector3(ring_x, ring_y),\n",
    "                    material = mp.Medium(index=n_ring))\n",
    "int_ring = mp.Cylinder(radius=ring_r,\n",
    "                    center=mp.Vector3(ring_x, ring_y))\n",
    "\n",
    "geometry = [waveguide,\n",
    "            ext_ring,\n",
    "            int_ring]\n",
    "\n",
    "#define sources\n",
    "#gaussian pulse with f_central and df\n",
    "sources = [mp.Source(mp.GaussianSource(frequency=f_central, fwidth=df*3),\n",
    "                     component=mp.Ez,\n",
    "                     center=mp.Vector3(source_x, source_y),\n",
    "                     size=mp.Vector3(0, source_width))]\n",
    "\n",
    "#define boundary conditions\n",
    "pml_layers = [mp.PML(pml_thickness)]\n",
    "\n",
    "#Instance simulation with chosen parameters\n",
    "sim = mp.Simulation(cell_size=cell,\n",
    "                    boundary_layers=pml_layers,\n",
    "                    sources=sources,\n",
    "                    geometry=geometry,\n",
    "                    resolution=resolution)\n",
    "\n",
    "# Flux Monitor 1\n",
    "incident_fr = mp.FluxRegion(center=mp.Vector3(mon_1_x, mon_1_y), size=mp.Vector3(0, mon_1_width, 0))\n",
    "incident = sim.add_flux(f_mon_central, df_mon, N_freq, incident_fr)\n",
    "\n",
    "# Flux Monitor 2\n",
    "tran_fr = mp.FluxRegion(center=mp.Vector3(mon_2_x, mon_2_y), size=mp.Vector3(0,mon_2_width,0))\n",
    "tran = sim.add_flux(f_mon_central, df_mon, N_freq, tran_fr)\n",
    "\n",
    "animate = mp.Animate2D(sim,\n",
    "                       fields=mp.Ez,\n",
    "                       normalize=True,\n",
    "                       realtime=False,\n",
    "                       eps_parameters={'alpha':1, 'cmap':'RdBu', 'interpolation':'spline36'},\n",
    "                       field_parameters={'alpha':0.8, 'cmap':'RdBu', 'interpolation':'spline36'},\n",
    "                       boundary_parameters={'hatch':'o', 'linewidth':1.5, 'facecolor':'y', 'edgecolor':'b', 'alpha':0.3})\n",
    "\n",
    "#Simulate\n",
    "mp.verbosity(1)\n",
    "sim.run(mp.at_every(1, animate), until_after_sources = mp.stop_when_fields_decayed(50, mp.Ez, check_pt, 1e-3))\n",
    "\n",
    "animate.to_mp4(10, \"Ez_norm.mp4\")"
   ]
  },
  {
   "cell_type": "code",
   "execution_count": 10,
   "id": "d3c29bef",
   "metadata": {},
   "outputs": [
    {
     "data": {
      "text/html": [
       "<video src=\"Ez_norm.mp4\" controls  >\n",
       "      Your browser does not support the <code>video</code> element.\n",
       "    </video>"
      ],
      "text/plain": [
       "<IPython.core.display.Video object>"
      ]
     },
     "execution_count": 10,
     "metadata": {},
     "output_type": "execute_result"
    }
   ],
   "source": [
    "Video(\"Ez_norm.mp4\")"
   ]
  },
  {
   "cell_type": "code",
   "execution_count": 11,
   "id": "89eb4181",
   "metadata": {},
   "outputs": [],
   "source": [
    "\n",
    "#Get Fourier-transformed fields of incident pulse\n",
    "norm_incident_data = sim.get_flux_data(incident)\n",
    "\n",
    "#Get fluxes from fourier transformed fields transmitted\n",
    "norm_tran_flux = mp.get_fluxes(tran)\n",
    "\n",
    "#Get fluxes from fourier transformed incident fields\n",
    "norm_inc_flux = mp.get_fluxes(incident)\n",
    "\n",
    "flux_freqs = mp.get_flux_freqs(tran)"
   ]
  },
  {
   "cell_type": "code",
   "execution_count": 12,
   "id": "65f9b67d",
   "metadata": {},
   "outputs": [
    {
     "data": {
      "image/png": "[encoded data removed]",
      "text/plain": [
       "<Figure size 720x360 with 1 Axes>"
      ]
     },
     "metadata": {
      "needs_background": "light"
     },
     "output_type": "display_data"
    }
   ],
   "source": [
    "plt.plot(flux_freqs, norm_inc_flux, label=\"Incident wave Flux\")\n",
    "plt.plot(flux_freqs, norm_tran_flux, label=\"Transmitted wave Flux\")\n",
    "\n",
    "plt.xlabel(\"Frequency [meep units]\")\n",
    "\n",
    "ax = plt.gca()\n",
    "\n",
    "def MU2THz(x):\n",
    "    return x *freq_unit*1e-12\n",
    "\n",
    "\n",
    "def THz2MU(x):\n",
    "    return x /(freq_unit*1e-12)\n",
    "\n",
    "secax = ax.secondary_xaxis('top', functions=(MU2THz, THz2MU))\n",
    "secax.set_xlabel('Frequency [THz]')\n",
    "\n",
    "plt.legend()\n",
    "plt.grid()"
   ]
  },
  {
   "cell_type": "code",
   "execution_count": 13,
   "id": "0cfe8caf-bb7a-4977-b003-eca86469b355",
   "metadata": {},
   "outputs": [],
   "source": [
    "sim.reset_meep()"
   ]
  },
  {
   "cell_type": "markdown",
   "id": "3ac5aa3c",
   "metadata": {},
   "source": [
    "# Actual Run"
   ]
  },
  {
   "cell_type": "code",
   "execution_count": 14,
   "id": "bee08b3b-51a5-4f10-a558-293d732f9b96",
   "metadata": {},
   "outputs": [
    {
     "ename": "NameError",
     "evalue": "name 'n_1' is not defined",
     "output_type": "error",
     "traceback": [
      "\u001b[0;31m---------------------------------------------------------------------------\u001b[0m",
      "\u001b[0;31mNameError\u001b[0m                                 Traceback (most recent call last)",
      "\u001b[0;32m/tmp/ipykernel_24906/1069935243.py\u001b[0m in \u001b[0;36m<module>\u001b[0;34m\u001b[0m\n\u001b[1;32m      4\u001b[0m geometry = [mp.Block(mp.Vector3(mp.inf, mp.inf, mp.inf),\n\u001b[1;32m      5\u001b[0m                      \u001b[0mcenter\u001b[0m\u001b[0;34m=\u001b[0m\u001b[0mmp\u001b[0m\u001b[0;34m.\u001b[0m\u001b[0mVector3\u001b[0m\u001b[0;34m(\u001b[0m\u001b[0;36m0\u001b[0m\u001b[0;34m,\u001b[0m\u001b[0;36m0\u001b[0m\u001b[0;34m)\u001b[0m\u001b[0;34m,\u001b[0m\u001b[0;34m\u001b[0m\u001b[0;34m\u001b[0m\u001b[0m\n\u001b[0;32m----> 6\u001b[0;31m                      material=mp.Medium(index=n_1))]\n\u001b[0m\u001b[1;32m      7\u001b[0m \u001b[0;34m\u001b[0m\u001b[0m\n\u001b[1;32m      8\u001b[0m \u001b[0;31m#Layers Material\u001b[0m\u001b[0;34m\u001b[0m\u001b[0;34m\u001b[0m\u001b[0m\n",
      "\u001b[0;31mNameError\u001b[0m: name 'n_1' is not defined"
     ]
    }
   ],
   "source": [
    "#define geometry\n",
    "\n",
    "#Background material\n",
    "geometry = [mp.Block(mp.Vector3(mp.inf, mp.inf, mp.inf),\n",
    "                     center=mp.Vector3(0,0),\n",
    "                     material=mp.Medium(index=n_1))]\n",
    "\n",
    "#Layers Material\n",
    "for ii in range(N_layers):\n",
    "    geometry.append(mp.Block(mp.Vector3(width_2, mp.inf, mp.inf),\n",
    "                     center=mp.Vector3(ii*(width_1+width_2) -bragg_width/2 + width_1 + width_2/2, 0),\n",
    "                     material=mp.Medium(index=n_2)))\n",
    "    \n",
    "#define sources\n",
    "sources = [mp.Source(mp.GaussianSource(frequency=f_central, fwidth=df*2),\n",
    "                     component=mp.Ez,\n",
    "                     center=mp.Vector3(source_x, 0),\n",
    "                     size=mp.Vector3(0, source_width))]\n",
    "\n",
    "#define boundary conditions\n",
    "pml_layers = [mp.PML(pml_thickness)]\n",
    "\n",
    "\n",
    "#Instance simulation with chosen parameters\n",
    "sim = mp.Simulation(cell_size=cell,\n",
    "                    boundary_layers=pml_layers,\n",
    "                    geometry=geometry,\n",
    "                    sources=sources,\n",
    "                    resolution=resolution)\n"
   ]
  },
  {
   "cell_type": "code",
   "execution_count": null,
   "id": "e0dcd9c3-4510-4e4c-b3c0-ad98d1555452",
   "metadata": {},
   "outputs": [],
   "source": [
    "##Flux Monitors Definition\n",
    "\n",
    "#First instantiate a flux region object by telling its geometric parameters\n",
    "#Then call add_flux on simulation object, passing the fluxregion as parameter. Returns flux object\n",
    "\n",
    "#This tells meep to perform the following:\n",
    "#For each of the chosen frequencies, and for each of the fields components,\n",
    "#accumulate the discrete fourier transform until the end of the simulation\n",
    "\n",
    "#Desired frequencies are in (fcen-df/2, fcen+df/2)\n",
    "\n",
    "# Flux Monitor 1\n",
    "refl_fr = mp.FluxRegion(center=mp.Vector3(mon_1_x, 0), size=mp.Vector3(0,mon_1_width,0))\n",
    "refl = sim.add_flux(f_mon_central, df_mon, N_freq, refl_fr)\n",
    "\n",
    "# Flux Monitor 2\n",
    "tran_fr = mp.FluxRegion(center=mp.Vector3(mon_2_x, 0), size=mp.Vector3(0,mon_2_h,0))\n",
    "tran = sim.add_flux(f_mon_central, df_mon, N_freq, tran_fr)"
   ]
  },
  {
   "cell_type": "code",
   "execution_count": null,
   "id": "a75718c9-1b71-445b-a2ff-2983ea707d15",
   "metadata": {},
   "outputs": [],
   "source": [
    "#load normalization data\n",
    "sim.load_minus_flux_data(refl, norm_incident_data)"
   ]
  },
  {
   "cell_type": "code",
   "execution_count": null,
   "id": "95babcea-0a76-4bdb-b6d6-a6a6024ffc3d",
   "metadata": {},
   "outputs": [],
   "source": [
    "#Runs simulation and save animation of Ez\n",
    "animate = mp.Animate2D(sim,\n",
    "                       fields=mp.Ez,\n",
    "                       normalize=True,\n",
    "                       realtime=False,\n",
    "                       eps_parameters={'alpha':1, 'cmap':'RdBu', 'interpolation':'spline36'},\n",
    "                       field_parameters={'alpha':0.8, 'cmap':'RdBu', 'interpolation':'spline36'},\n",
    "                       boundary_parameters={'hatch':'o', 'linewidth':1.5, 'facecolor':'y', 'edgecolor':'b', 'alpha':0.3})\n",
    "\n",
    "\n",
    "sim.run(mp.at_every(1, animate), until_after_sources = mp.stop_when_fields_decayed(50, mp.Ez, check_pt, 5e-3))\n",
    "        #until_after_sources=mp.stop_when_fields_decayed(50,mp.Ez,pt,1e-3))\n",
    "\n",
    "animate.to_mp4(10, \"Ez_DBR.mp4\")"
   ]
  },
  {
   "cell_type": "code",
   "execution_count": null,
   "id": "48dbb5d1-072b-4aa8-a9d1-226272c665fe",
   "metadata": {},
   "outputs": [],
   "source": [
    "Video(\"Ez_DBR.mp4\")"
   ]
  },
  {
   "cell_type": "code",
   "execution_count": null,
   "id": "45319aea-0916-442b-af3c-b2b62273af53",
   "metadata": {},
   "outputs": [],
   "source": [
    "# Get Final Fluxes\n",
    "bragg_tran_flux = np.array(mp.get_fluxes(tran))\n",
    "bragg_refl_flux = np.array(mp.get_fluxes(refl))*(-1)\n",
    "\n",
    "flux_freqs = np.array(mp.get_flux_freqs(refl))"
   ]
  },
  {
   "cell_type": "code",
   "execution_count": null,
   "id": "0d2c74df-41f5-4648-9284-68557bb9a22d",
   "metadata": {},
   "outputs": [],
   "source": [
    "plt.plot(flux_freqs, bragg_tran_flux, label=\"Transmitted wave Flux\")\n",
    "plt.plot(flux_freqs, norm_tran_flux, label=\"No structure Transmitted wave Flux\")\n",
    "\n",
    "plt.plot(flux_freqs, bragg_refl_flux, label=\"Reflected wave Flux\")\n",
    "\n",
    "plt.plot(flux_freqs, norm_inc_flux, label=\"Incident wave Flux\")\n",
    "\n",
    "ax = plt.gca()\n",
    "\n",
    "def MU2THz(x):\n",
    "    return x *freq_unit*1e-12\n",
    "\n",
    "\n",
    "def THz2MU(x):\n",
    "    return x /(freq_unit*1e-12)\n",
    "\n",
    "secax = ax.secondary_xaxis('top', functions=(MU2THz, THz2MU))\n",
    "secax.set_xlabel('Frequency [THz]')\n",
    "\n",
    "plt.legend()\n",
    "plt.grid()"
   ]
  },
  {
   "cell_type": "code",
   "execution_count": null,
   "id": "4d94cb03",
   "metadata": {},
   "outputs": [],
   "source": [
    "# Transmittance and reflectance\n",
    "\n",
    "wvlength = 1/flux_freqs\n",
    "\n",
    "T = bragg_tran_flux/norm_tran_flux\n",
    "R = bragg_refl_flux/norm_tran_flux\n",
    "Losses = 1-T-R\n",
    "\n",
    "plt.plot(flux_freqs, T, label=\"Transmittance\")\n",
    "plt.plot(flux_freqs, R, label=\"Reflectance\")\n",
    "plt.plot(flux_freqs, Losses, label=\"DBR Losses\")\n",
    "\n",
    "ax = plt.gca()\n",
    "\n",
    "def MU2THz(x):\n",
    "    return x *freq_unit*1e-12\n",
    "\n",
    "\n",
    "def THz2MU(x):\n",
    "    return x /(freq_unit*1e-12)\n",
    "\n",
    "secax = ax.secondary_xaxis('top', functions=(MU2THz, THz2MU))\n",
    "secax.set_xlabel('Frequency [THz]')\n",
    "\n",
    "plt.legend()\n",
    "plt.grid()"
   ]
  },
  {
   "cell_type": "markdown",
   "id": "f42cea80",
   "metadata": {},
   "source": [
    "Dubbi: formalmente come faccio a costruire una sorgente che eccita solo alcuni modi della struttura?\n",
    "Come faccio a capire quali modi eccita una sorgente arbitraria?\n",
    "Come misuro aitomaticamente il bandgap?"
   ]
  },
  {
   "cell_type": "code",
   "execution_count": null,
   "id": "52adaf1f",
   "metadata": {},
   "outputs": [],
   "source": []
  },
  {
   "cell_type": "markdown",
   "id": "58c9fde8",
   "metadata": {},
   "source": [
    "# Notes\n",
    "- Dn = +1.4, n_1 = 1.45, wm = 0.225, wmin = 0.18, wmax =0.275 Dw=0.095\n",
    "- Dn = 1, n_1 = 1.45, wm = 0.255, wmin = 0.215, wmax =0.287 Dw=0.072"
   ]
  },
  {
   "cell_type": "markdown",
   "id": "a134432c",
   "metadata": {},
   "source": [
    "# Bandgap Identification"
   ]
  },
  {
   "cell_type": "code",
   "execution_count": null,
   "id": "10f809ad",
   "metadata": {},
   "outputs": [],
   "source": [
    "# Transmittance and reflectance\n",
    "\n",
    "wvlength = 1/flux_freqs\n",
    "\n",
    "T = bragg_tran_flux/norm_tran_flux\n",
    "R = bragg_refl_flux/norm_tran_flux\n",
    "Losses = 1-T-R\n",
    "\n",
    "diff_T = np.diff(T)\n",
    "diff_R = np.diff(R)\n",
    "diff_Losses = np.diff(Losses)"
   ]
  },
  {
   "cell_type": "code",
   "execution_count": null,
   "id": "bbdf1a69",
   "metadata": {},
   "outputs": [],
   "source": [
    "print(len(diff_T))\n",
    "print(len(flux_freqs[:-1]))\n",
    "\n",
    "plt.plot(flux_freqs[:-1], diff_T, label=\"Transmittance\")\n",
    "plt.plot(flux_freqs[:-1], diff_R, label=\"Reflectance\")\n",
    "plt.plot(flux_freqs[:-1], diff_Losses, label=\"DBR Losses\")\n",
    "\n",
    "\n",
    "ax = plt.gca()\n",
    "\n",
    "def MU2THz(x):\n",
    "    return x *freq_unit*1e-12\n",
    "\n",
    "\n",
    "def THz2MU(x):\n",
    "    return x /(freq_unit*1e-12)\n",
    "\n",
    "secax = ax.secondary_xaxis('top', functions=(MU2THz, THz2MU))\n",
    "secax.set_xlabel('Frequency [THz]')\n",
    "\n",
    "\n",
    "\n",
    "plt.legend()\n",
    "plt.grid()"
   ]
  },
  {
   "cell_type": "code",
   "execution_count": null,
   "id": "4a5162e2",
   "metadata": {},
   "outputs": [],
   "source": [
    "#get maxima of drivative to get lower and upper bound of bandgap\n",
    "diff_R_abs =np.abs(diff_R)\n",
    "max_val = np.amax(diff_R)\n",
    "max_index = np.argmax(diff_R)\n",
    "\n",
    "peaks, _ = find_peaks(diff_R_abs, height=0.01)\n",
    "print(flux_freqs[peaks])\n",
    "print(flux_freqs[peaks][peaks>=max_index])\n",
    "\n",
    "ind = np.argpartition(diff_R[peaks][peaks>=max_index], -2)[-2:]\n",
    "bandgap_bounds = flux_freqs[peaks][peaks>=max_index][ind][::-1]\n",
    "\n",
    "print(bandgap_bounds)"
   ]
  },
  {
   "cell_type": "code",
   "execution_count": null,
   "id": "ddc2b3f0",
   "metadata": {},
   "outputs": [],
   "source": [
    "bandgap_mean = np.mean(bandgap_bounds)\n",
    "bandgap_delta = bandgap_bounds[1]-bandgap_bounds[0]\n",
    "bandgap_ratio = bandgap_delta/bandgap_mean\n",
    "\n",
    "print(\"Mean freqeuency: \",bandgap_mean)\n",
    "print(\"Delta freqeuency: \",bandgap_delta)\n",
    "print(\"Ratio Delta/mean: \",bandgap_ratio)"
   ]
  },
  {
   "cell_type": "code",
   "execution_count": null,
   "id": "89330b0f",
   "metadata": {},
   "outputs": [],
   "source": [
    "\n",
    "print(len(diff_T))\n",
    "print(len(flux_freqs[:-1]))\n",
    "\n",
    "plt.plot(flux_freqs[:-1], diff_T, label=\"Transmittance\")\n",
    "plt.plot(flux_freqs[:-1], diff_R, label=\"Reflectance\")\n",
    "plt.plot(flux_freqs[:-1], diff_Losses, label=\"DBR Losses\")\n",
    "\n",
    "plt.axvline(bandgap_bounds[0], color=\"red\", linestyle=\"dashed\")\n",
    "plt.axvline(bandgap_bounds[1], color=\"red\", linestyle=\"dashed\")\n",
    "plt.axvline(bandgap_mean, color=\"red\", linestyle=\"dashed\")\n",
    "\n",
    "\n",
    "ax = plt.gca()\n",
    "\n",
    "def MU2THz(x):\n",
    "    return x *freq_unit*1e-12\n",
    "\n",
    "\n",
    "def THz2MU(x):\n",
    "    return x /(freq_unit*1e-12)\n",
    "\n",
    "secax = ax.secondary_xaxis('top', functions=(MU2THz, THz2MU))\n",
    "secax.set_xlabel('Frequency [THz]')\n",
    "\n",
    "\n",
    "\n",
    "plt.legend()\n",
    "plt.grid()"
   ]
  },
  {
   "cell_type": "code",
   "execution_count": null,
   "metadata": {},
   "outputs": [],
   "source": []
  }
 ],
 "metadata": {
  "kernelspec": {
   "display_name": "Python 3.9.7 ('lab_photonics')",
   "language": "python",
   "name": "python3"
  },
  "language_info": {
   "codemirror_mode": {
    "name": "ipython",
    "version": 3
   },
   "file_extension": ".py",
   "mimetype": "text/x-python",
   "name": "python",
   "nbconvert_exporter": "python",
   "pygments_lexer": "ipython3",
   "version": "3.9.7"
  },
  "vscode": {
   "interpreter": {
    "hash": "288b77951d47ff79106d43cb52c595832c17b084d38ea661deb9719da70991b6"
   }
  }
 },
 "nbformat": 4,
 "nbformat_minor": 5
}
