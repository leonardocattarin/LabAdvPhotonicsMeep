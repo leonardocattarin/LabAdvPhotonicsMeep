{
 "cells": [
  {
   "cell_type": "code",
   "execution_count": 1,
   "id": "e44a761a-6984-451c-96be-3dcb7d663f87",
   "metadata": {},
   "outputs": [],
   "source": [
    "import meep as mp\n",
    "import matplotlib.pyplot as plt\n",
    "import numpy as np\n",
    "from IPython.display import Video\n",
    "from scipy.constants import pi, c\n",
    "from scipy.signal import hilbert, find_peaks\n",
    "from scipy.interpolate import interp1d"
   ]
  },
  {
   "cell_type": "code",
   "execution_count": 2,
   "id": "6a631004-e964-45d5-9f32-31c0e29939d3",
   "metadata": {},
   "outputs": [],
   "source": [
    "plt.rcParams['figure.figsize'] = [10,5]"
   ]
  },
  {
   "cell_type": "code",
   "execution_count": 3,
   "id": "ed9c293b-9684-4b1c-927f-e708c1ff601a",
   "metadata": {},
   "outputs": [
    {
     "name": "stdout",
     "output_type": "stream",
     "text": [
      "1 meep Length unit is 1.0 um\n",
      "1 meep Time unit is 3.3356409519815204 fs\n",
      "1 meep Frequency unit is 299.792458 THz\n"
     ]
    }
   ],
   "source": [
    "#Define conversion functions/factors to get to/from meep units and kms\n",
    "#Length factor to transform lengths in kms\n",
    "l_unit = 1e-6 #1 um\n",
    "t_unit = l_unit/c #time unit is length/c\n",
    "\n",
    "#multiplicative constants to convert frequencies from meep to kms hertz\n",
    "freq_unit = c/l_unit\n",
    "\n",
    "print(\"1 meep Length unit is\", l_unit*1e+6, \"um\")\n",
    "print(\"1 meep Time unit is\", t_unit*1e+15, \"fs\")\n",
    "print(\"1 meep Frequency unit is\", freq_unit*1e-12, \"THz\")"
   ]
  },
  {
   "cell_type": "markdown",
   "id": "f6b57dbb",
   "metadata": {},
   "source": [
    "# Resolution"
   ]
  },
  {
   "cell_type": "code",
   "execution_count": 4,
   "id": "b32310ad",
   "metadata": {},
   "outputs": [
    {
     "name": "stdout",
     "output_type": "stream",
     "text": [
      "Pixel per unit:  20\n",
      "Space resolution [meep]:  0.05\n",
      "Time resolution [meep]:  0.025\n",
      "Space resolution [um]:  0.049999999999999996\n",
      "Time resolution [fs]:  0.08339102379953803\n"
     ]
    }
   ],
   "source": [
    "#courant factor\n",
    "S = 0.5\n",
    "\n",
    "#resolution is number of pixels per meep unit\n",
    "resolution = 20\n",
    "\n",
    "#resolutions in meep units\n",
    "space_res = 1/resolution\n",
    "time_res = space_res*S\n",
    "\n",
    "print(\"Pixel per unit: \", resolution)\n",
    "\n",
    "print(\"Space resolution [meep]: \", space_res)\n",
    "print(\"Time resolution [meep]: \", time_res)\n",
    "\n",
    "print(\"Space resolution [um]: \", space_res*l_unit*1e+6)\n",
    "print(\"Time resolution [fs]: \", time_res*t_unit*1e+15)"
   ]
  },
  {
   "cell_type": "markdown",
   "id": "8ea4fb08",
   "metadata": {},
   "source": [
    "# Geometry Definition\n",
    "Cell"
   ]
  },
  {
   "cell_type": "code",
   "execution_count": 5,
   "id": "e264b2f0-b4c8-4512-8fcc-f24bbbc648df",
   "metadata": {},
   "outputs": [],
   "source": [
    "#define cell size and resolution\n",
    "#Cell size is in meep units\n",
    "#center is in (0,0), ranges in x=(-sx/2,sx/2), y=(-sy/2,sy/2)\n",
    "sx = 24\n",
    "sy = 20\n",
    "\n",
    "cell = mp.Vector3(sx, sy)\n",
    "\n",
    "#boundary conditions thickness\n",
    "pml_thickness = 1.0\n",
    "\n",
    "#automatic positioning of boundaries\n",
    "x_bound_up = sx/2 - pml_thickness\n",
    "x_bound_low = -sx/2 + pml_thickness\n",
    "\n",
    "y_bound_up = sy/2 - pml_thickness\n",
    "y_bound_low = -sy/2 + pml_thickness"
   ]
  },
  {
   "cell_type": "code",
   "execution_count": 6,
   "id": "cb5efe13-e4ac-43b4-a023-3bc1795bc507",
   "metadata": {},
   "outputs": [],
   "source": [
    "#materials refractive indexes\n",
    "n_bgnd = 1\n",
    "n_wvg = 1.7\n",
    "n_ring = n_wvg\n",
    "\n",
    "#Separating distance\n",
    "d = 0.1\n",
    "\n",
    "#Width properties\n",
    "wvg_width = 1\n",
    "\n",
    "ring_r = 4\n",
    "ring_w = wvg_width\n",
    "\n",
    "#Position properties\n",
    "wvg_x = 0\n",
    "wvg_y = -(wvg_width + d + ring_w*2 + ring_r*2)/2 + wvg_width/2\n",
    "\n",
    "ring_x = 0\n",
    "ring_y = wvg_y + wvg_width/2 + d + ring_w + ring_r\n"
   ]
  },
  {
   "cell_type": "markdown",
   "id": "b07cc81e",
   "metadata": {},
   "source": [
    "Source"
   ]
  },
  {
   "cell_type": "code",
   "execution_count": 7,
   "id": "e21bd24e",
   "metadata": {},
   "outputs": [
    {
     "name": "stdout",
     "output_type": "stream",
     "text": [
      "#Source pulse frequency: fcent=  119.9169832  THz, df=  149.896229  THz\n",
      "#Source vacuum wavelength: lambda =  2.5 um, dlambda =  2.0 um\n",
      "#Source wvg wavelength: lambda =  1.4705882352941178 um\n",
      "#Source ring wavelength: lambda =  1.4705882352941178 um\n"
     ]
    }
   ],
   "source": [
    "#Soure parameters\n",
    "source_x = x_bound_low + 1\n",
    "source_y = wvg_y\n",
    "\n",
    "source_width = wvg_width\n",
    "\n",
    "#note: df is not really the frequency sigma\n",
    "f_central = 0.4\n",
    "df = 0.5\n",
    "\n",
    "print(\"#Source pulse frequency: fcent= \", f_central*freq_unit*1e-12, \" THz, df= \",df*freq_unit*1e-12, \" THz\" )\n",
    "print(\"#Source vacuum wavelength: lambda = \",  c/(f_central*freq_unit)*1e+6, \"um, dlambda = \",c/(df*freq_unit)*1e+6,\"um\")\n",
    "print(\"#Source wvg wavelength: lambda = \",  (c/n_wvg)/(f_central*freq_unit)*1e+6, \"um\")\n",
    "print(\"#Source ring wavelength: lambda = \",  (c/n_ring)/(f_central*freq_unit)*1e+6, \"um\")"
   ]
  },
  {
   "cell_type": "markdown",
   "id": "cee17ff1",
   "metadata": {},
   "source": [
    "Monitors"
   ]
  },
  {
   "cell_type": "code",
   "execution_count": 8,
   "id": "c2a8390a",
   "metadata": {},
   "outputs": [],
   "source": [
    "\n",
    "#Monitor parameters\n",
    "#input\n",
    "mon_1_x = source_x + 1\n",
    "mon_1_y = wvg_y\n",
    "mon_1_width = wvg_width\n",
    "\n",
    "#output\n",
    "mon_2_x = x_bound_up - 1\n",
    "mon_2_y = wvg_y\n",
    "mon_2_width = wvg_width\n",
    "\n",
    "#number of sampling points in frequency for fourier transform of fields accumulated\n",
    "N_freq = 300\n",
    "\n",
    "#central frequency\n",
    "f_mon_central = f_central\n",
    "#width of sampled frequency band\n",
    "df_mon = df\n",
    "\n",
    "\n",
    "#Point for simulation termination condition\n",
    "check_pt = mp.Vector3(mon_2_x - 0.1, mon_2_y)\n"
   ]
  },
  {
   "cell_type": "markdown",
   "id": "f9336382",
   "metadata": {},
   "source": [
    "# Harminv\n",
    "Seek resonant frequencies"
   ]
  },
  {
   "cell_type": "code",
   "execution_count": 9,
   "id": "d10d2f00",
   "metadata": {},
   "outputs": [],
   "source": [
    "har_pt = mp.Vector3(ring_x + 0.5, ring_y + ring_r + ring_w/2)"
   ]
  },
  {
   "cell_type": "code",
   "execution_count": 10,
   "id": "75fb2f1d",
   "metadata": {},
   "outputs": [
    {
     "name": "stdout",
     "output_type": "stream",
     "text": [
      "-----------\n",
      "Initializing structure...\n",
      "time for choose_chunkdivision = 0.000291109 s\n",
      "Working in 2D dimensions.\n",
      "Computational cell is 24 x 20 x 0 with resolution 20\n",
      "     cylinder, center = (0,0.55,0)\n",
      "          radius 5, height 1e+20, axis (0, 0, 1)\n",
      "          dielectric constant epsilon diagonal = (2.89,2.89,2.89)\n",
      "     cylinder, center = (0,0.55,0)\n",
      "          radius 4, height 1e+20, axis (0, 0, 1)\n",
      "          dielectric constant epsilon diagonal = (1,1,1)\n",
      "time for set_epsilon = 0.571557 s\n",
      "-----------\n"
     ]
    },
    {
     "data": {
      "application/vnd.jupyter.widget-view+json": {
       "model_id": "a3af345407974867a8346f64c0f02de5",
       "version_major": 2,
       "version_minor": 0
      },
      "text/plain": [
       "FloatProgress(value=0.0, description='0% done ', max=300.0)"
      ]
     },
     "metadata": {},
     "output_type": "display_data"
    },
    {
     "name": "stdout",
     "output_type": "stream",
     "text": [
      "Meep progress: 45.875/300.0 = 15.3% done in 4.0s, 22.2s to go\n",
      "on time step 1840 (time=46), 0.00217972 s/step\n",
      "Meep progress: 100.30000000000001/300.0 = 33.4% done in 8.0s, 15.9s to go\n",
      "on time step 4022 (time=100.55), 0.00183346 s/step\n",
      "Meep progress: 158.0/300.0 = 52.7% done in 12.0s, 10.8s to go\n",
      "on time step 6330 (time=158.25), 0.00173333 s/step\n",
      "Meep progress: 212.125/300.0 = 70.7% done in 16.0s, 6.6s to go\n",
      "on time step 8492 (time=212.3), 0.0018502 s/step\n",
      "Meep progress: 266.35/300.0 = 88.8% done in 20.0s, 2.5s to go\n",
      "on time step 10663 (time=266.575), 0.00184345 s/step\n",
      "harminv0:, frequency, imag. freq., Q, |amp|, amplitude, error\n",
      "harminv0:, 0.18643133077859206, -0.0008952355757127126, 104.12417459514543, 1.25005009653076e-06, -6.667928982664721e-07-1.0573610900056615e-06i, 0.006501923588848394+0.0i\n",
      "harminv0:, 0.24952590752256712, -0.001684374674019346, 74.07078465717336, 0.003327082020310141, 0.0020985019062763487+0.002581814191460249i, 4.320751794796375e-05+0.0i\n",
      "harminv0:, 0.4926388379253369, 2.5813985977560304e-05, -9542.091607890006, 0.0183390080633413, 0.011508502856502128-0.014278430542226257i, 9.835500129476729e-07+0.0i\n",
      "harminv0:, 0.5714736566635267, 1.932847772900877e-05, -14783.203951075815, 0.022989063369382806, -0.01970633747300155-0.011838804753929906i, 1.8066690564024395e-07+0.0i\n",
      "harminv0:, 0.6107006303529916, 1.4880124868253705e-06, -205206.8231147384, 0.022462382203745454, 0.021295743198853682-0.007144923783751478i, 1.2487112775983185e-07+0.0i\n",
      "Normalizing field data...\n",
      "run 0 finished at t = 300.0 (12000 timesteps)\n",
      "Generating MP4...\n"
     ]
    },
    {
     "data": {
      "image/png": "[encoded data removed]",
      "text/plain": [
       "<Figure size 720x360 with 1 Axes>"
      ]
     },
     "metadata": {
      "needs_background": "light"
     },
     "output_type": "display_data"
    }
   ],
   "source": [
    "#Geometry objects\n",
    "ext_ring = mp.Cylinder(radius=ring_r+ring_w,\n",
    "                    center=mp.Vector3(ring_x, ring_y),\n",
    "                    material = mp.Medium(index=n_ring))\n",
    "int_ring = mp.Cylinder(radius=ring_r,\n",
    "                    center=mp.Vector3(ring_x, ring_y))\n",
    "\n",
    "geometry = [ext_ring,\n",
    "            int_ring]\n",
    "\n",
    "#define sources\n",
    "#gaussian pulse with f_central and df\n",
    "sources = [mp.Source(mp.GaussianSource(frequency=f_central, fwidth=df*3),\n",
    "                     component=mp.Ez,\n",
    "                     center=mp.Vector3(ring_x + ring_r + ring_w/2, ring_y),\n",
    "                     size=mp.Vector3(ring_w, 0)),\n",
    "\n",
    "                     mp.Source(mp.GaussianSource(frequency=f_central, fwidth=df*3),\n",
    "                     component=mp.Ez,\n",
    "                     center=mp.Vector3(-(ring_x + ring_r + ring_w/2), ring_y),\n",
    "                     size=mp.Vector3(ring_w, 0)),\n",
    "\n",
    "                     mp.Source(mp.GaussianSource(frequency=f_central, fwidth=df*3),\n",
    "                     component=mp.Ez,\n",
    "                     center=mp.Vector3(ring_x, ring_y))]\n",
    "\n",
    "#define boundary conditions\n",
    "pml_layers = [mp.PML(pml_thickness)]\n",
    "\n",
    "#Instance simulation with chosen parameters\n",
    "sim = mp.Simulation(cell_size=cell,\n",
    "                    boundary_layers=pml_layers,\n",
    "                    sources=sources,\n",
    "                    geometry=geometry,\n",
    "                    resolution=resolution)\n",
    "\n",
    "animate = mp.Animate2D(sim,\n",
    "                       fields=mp.Ez,\n",
    "                       normalize=True,\n",
    "                       realtime=False,\n",
    "                       eps_parameters={'alpha':1, 'cmap':'RdBu', 'interpolation':'spline36'},\n",
    "                       field_parameters={'alpha':0.8, 'cmap':'RdBu', 'interpolation':'spline36'},\n",
    "                       boundary_parameters={'hatch':'o', 'linewidth':1.5, 'facecolor':'y', 'edgecolor':'b', 'alpha':0.3})\n",
    "\n",
    "har = mp.Harminv(mp.Ez, har_pt, f_central, df)\n",
    "\n",
    "#Simulate\n",
    "mp.verbosity(1)\n",
    "sim.run(mp.after_sources(har), mp.at_every(1, animate), until=300)\n",
    "\n",
    "animate.to_mp4(10, \"Ez_Harminv.mp4\")"
   ]
  },
  {
   "cell_type": "code",
   "execution_count": 11,
   "id": "410d4225",
   "metadata": {},
   "outputs": [
    {
     "data": {
      "text/html": [
       "<video src=\"Ez_Harminv.mp4\" controls  >\n",
       "      Your browser does not support the <code>video</code> element.\n",
       "    </video>"
      ],
      "text/plain": [
       "<IPython.core.display.Video object>"
      ]
     },
     "execution_count": 11,
     "metadata": {},
     "output_type": "execute_result"
    }
   ],
   "source": [
    "Video(\"Ez_Harminv.mp4\")"
   ]
  },
  {
   "cell_type": "markdown",
   "id": "7a772243",
   "metadata": {},
   "source": [
    "# Normalization Run\n",
    "No DBR"
   ]
  },
  {
   "cell_type": "code",
   "execution_count": 12,
   "id": "b9abac79",
   "metadata": {},
   "outputs": [],
   "source": [
    "sim.reset_meep()"
   ]
  },
  {
   "cell_type": "code",
   "execution_count": 13,
   "id": "c2d0a7b7-f127-4dc9-a9c1-7ecd59906b27",
   "metadata": {},
   "outputs": [
    {
     "name": "stdout",
     "output_type": "stream",
     "text": [
      "-----------\n",
      "Initializing structure...\n",
      "time for choose_chunkdivision = 0.000279903 s\n",
      "Working in 2D dimensions.\n",
      "Computational cell is 24 x 20 x 0 with resolution 20\n",
      "     block, center = (0,-5.05,0)\n",
      "          size (1e+20,1,1e+20)\n",
      "          axes (1,0,0), (0,1,0), (0,0,1)\n",
      "          dielectric constant epsilon diagonal = (2.89,2.89,2.89)\n",
      "     cylinder, center = (0,0.55,0)\n",
      "          radius 5, height 1e+20, axis (0, 0, 1)\n",
      "          dielectric constant epsilon diagonal = (2.89,2.89,2.89)\n",
      "     cylinder, center = (0,0.55,0)\n",
      "          radius 4, height 1e+20, axis (0, 0, 1)\n",
      "          dielectric constant epsilon diagonal = (1,1,1)\n",
      "time for set_epsilon = 0.738729 s\n",
      "-----------\n",
      "on time step 1517 (time=37.925), 0.0026374 s/step\n",
      "field decay(t = 50.025000000000006): 0.07265070825685507 / 0.07265070825685507 = 1.0\n",
      "on time step 3387 (time=84.675), 0.00213964 s/step\n",
      "field decay(t = 100.05000000000001): 0.0032996271943261245 / 0.07265070825685507 = 0.04541768791379653\n",
      "on time step 5200 (time=130), 0.00221109 s/step\n",
      "field decay(t = 150.07500000000002): 0.001428521748013503 / 0.07265070825685507 = 0.01966287435165799\n",
      "on time step 6825 (time=170.625), 0.00246193 s/step\n",
      "field decay(t = 200.10000000000002): 0.0006846242057097393 / 0.07265070825685507 = 0.009423503529921065\n",
      "on time step 8754 (time=218.85), 0.00207371 s/step\n",
      "field decay(t = 250.125): 0.00034625549508980244 / 0.07265070825685507 = 0.004766030550805139\n",
      "on time step 10397 (time=259.925), 0.00243542 s/step\n",
      "field decay(t = 300.15000000000003): 0.00018122588542507435 / 0.07265070825685507 = 0.0024944820191477556\n",
      "on time step 12287 (time=307.175), 0.00211721 s/step\n",
      "field decay(t = 350.175): 9.680023393993037e-05 / 0.07265070825685507 = 0.001332405922289087\n",
      "on time step 14080 (time=352), 0.00223442 s/step\n",
      "on time step 15879 (time=396.975), 0.00222424 s/step\n",
      "field decay(t = 400.20000000000005): 5.24833017140961e-05 / 0.07265070825685507 = 0.0007224059196854968\n",
      "Normalizing field data...\n",
      "run 0 finished at t = 400.20000000000005 (16008 timesteps)\n",
      "Generating MP4...\n"
     ]
    },
    {
     "data": {
      "image/png": "[encoded data removed]",
      "text/plain": [
       "<Figure size 720x360 with 1 Axes>"
      ]
     },
     "metadata": {
      "needs_background": "light"
     },
     "output_type": "display_data"
    }
   ],
   "source": [
    "#Geometry objects\n",
    "waveguide = mp.Block(mp.Vector3(mp.inf, wvg_width, mp.inf),\n",
    "                    center = mp.Vector3(wvg_x, wvg_y),\n",
    "                    material = mp.Medium(index=n_wvg))\n",
    "ext_ring = mp.Cylinder(radius=ring_r+ring_w,\n",
    "                    center=mp.Vector3(ring_x, ring_y),\n",
    "                    material = mp.Medium(index=n_ring))\n",
    "int_ring = mp.Cylinder(radius=ring_r,\n",
    "                    center=mp.Vector3(ring_x, ring_y))\n",
    "\n",
    "geometry = [waveguide,\n",
    "            ext_ring,\n",
    "            int_ring]\n",
    "\n",
    "#define sources\n",
    "#gaussian pulse with f_central and df\n",
    "sources = [mp.Source(mp.GaussianSource(frequency=f_central, fwidth=df*3),\n",
    "                     component=mp.Ez,\n",
    "                     center=mp.Vector3(source_x, source_y),\n",
    "                     size=mp.Vector3(0, source_width))]\n",
    "\n",
    "#define boundary conditions\n",
    "pml_layers = [mp.PML(pml_thickness)]\n",
    "\n",
    "#Instance simulation with chosen parameters\n",
    "sim = mp.Simulation(cell_size=cell,\n",
    "                    boundary_layers=pml_layers,\n",
    "                    sources=sources,\n",
    "                    geometry=geometry,\n",
    "                    resolution=resolution)\n",
    "\n",
    "# Flux Monitor 1\n",
    "incident_fr = mp.FluxRegion(center=mp.Vector3(mon_1_x, mon_1_y), size=mp.Vector3(0, mon_1_width, 0))\n",
    "incident = sim.add_flux(f_mon_central, df_mon, N_freq, incident_fr)\n",
    "\n",
    "# Flux Monitor 2\n",
    "tran_fr = mp.FluxRegion(center=mp.Vector3(mon_2_x, mon_2_y), size=mp.Vector3(0,mon_2_width,0))\n",
    "tran = sim.add_flux(f_mon_central, df_mon, N_freq, tran_fr)\n",
    "\n",
    "animate = mp.Animate2D(sim,\n",
    "                       fields=mp.Ez,\n",
    "                       normalize=True,\n",
    "                       realtime=False,\n",
    "                       eps_parameters={'alpha':1, 'cmap':'RdBu', 'interpolation':'spline36'},\n",
    "                       field_parameters={'alpha':0.8, 'cmap':'RdBu', 'interpolation':'spline36'},\n",
    "                       boundary_parameters={'hatch':'o', 'linewidth':1.5, 'facecolor':'y', 'edgecolor':'b', 'alpha':0.3})\n",
    "\n",
    "#Simulate\n",
    "mp.verbosity(1)\n",
    "sim.run(mp.at_every(1, animate), until_after_sources = mp.stop_when_fields_decayed(50, mp.Ez, check_pt, 1e-3))\n",
    "\n",
    "animate.to_mp4(10, \"Ez_norm.mp4\")"
   ]
  },
  {
   "cell_type": "code",
   "execution_count": 14,
   "id": "d3c29bef",
   "metadata": {},
   "outputs": [
    {
     "data": {
      "text/html": [
       "<video src=\"Ez_norm.mp4\" controls  >\n",
       "      Your browser does not support the <code>video</code> element.\n",
       "    </video>"
      ],
      "text/plain": [
       "<IPython.core.display.Video object>"
      ]
     },
     "execution_count": 14,
     "metadata": {},
     "output_type": "execute_result"
    }
   ],
   "source": [
    "Video(\"Ez_norm.mp4\")"
   ]
  },
  {
   "cell_type": "code",
   "execution_count": 15,
   "id": "89eb4181",
   "metadata": {},
   "outputs": [],
   "source": [
    "\n",
    "#Get Fourier-transformed fields of incident pulse\n",
    "norm_incident_data = sim.get_flux_data(incident)\n",
    "\n",
    "#Get fluxes from fourier transformed fields transmitted\n",
    "norm_tran_flux = mp.get_fluxes(tran)\n",
    "\n",
    "#Get fluxes from fourier transformed incident fields\n",
    "norm_inc_flux = mp.get_fluxes(incident)\n",
    "\n",
    "flux_freqs = mp.get_flux_freqs(tran)"
   ]
  },
  {
   "cell_type": "code",
   "execution_count": 16,
   "id": "65f9b67d",
   "metadata": {},
   "outputs": [
    {
     "data": {
      "image/png": "[encoded data removed]",
      "text/plain": [
       "<Figure size 720x360 with 1 Axes>"
      ]
     },
     "metadata": {
      "needs_background": "light"
     },
     "output_type": "display_data"
    }
   ],
   "source": [
    "plt.plot(flux_freqs, norm_inc_flux, label=\"Incident wave Flux\")\n",
    "plt.plot(flux_freqs, norm_tran_flux, label=\"Transmitted wave Flux\")\n",
    "\n",
    "plt.xlabel(\"Frequency [meep units]\")\n",
    "\n",
    "ax = plt.gca()\n",
    "\n",
    "def MU2THz(x):\n",
    "    return x *freq_unit*1e-12\n",
    "\n",
    "\n",
    "def THz2MU(x):\n",
    "    return x /(freq_unit*1e-12)\n",
    "\n",
    "secax = ax.secondary_xaxis('top', functions=(MU2THz, THz2MU))\n",
    "secax.set_xlabel('Frequency [THz]')\n",
    "\n",
    "plt.legend()\n",
    "plt.grid()"
   ]
  },
  {
   "cell_type": "code",
   "execution_count": 17,
   "id": "0cfe8caf-bb7a-4977-b003-eca86469b355",
   "metadata": {},
   "outputs": [],
   "source": [
    "sim.reset_meep()"
   ]
  },
  {
   "cell_type": "markdown",
   "id": "3ac5aa3c",
   "metadata": {},
   "source": [
    "# Actual Run"
   ]
  },
  {
   "cell_type": "code",
   "execution_count": 18,
   "id": "bee08b3b-51a5-4f10-a558-293d732f9b96",
   "metadata": {},
   "outputs": [
    {
     "ename": "NameError",
     "evalue": "name 'n_1' is not defined",
     "output_type": "error",
     "traceback": [
      "\u001b[0;31m---------------------------------------------------------------------------\u001b[0m",
      "\u001b[0;31mNameError\u001b[0m                                 Traceback (most recent call last)",
      "\u001b[0;32m/tmp/ipykernel_7201/1069935243.py\u001b[0m in \u001b[0;36m<module>\u001b[0;34m\u001b[0m\n\u001b[1;32m      4\u001b[0m geometry = [mp.Block(mp.Vector3(mp.inf, mp.inf, mp.inf),\n\u001b[1;32m      5\u001b[0m                      \u001b[0mcenter\u001b[0m\u001b[0;34m=\u001b[0m\u001b[0mmp\u001b[0m\u001b[0;34m.\u001b[0m\u001b[0mVector3\u001b[0m\u001b[0;34m(\u001b[0m\u001b[0;36m0\u001b[0m\u001b[0;34m,\u001b[0m\u001b[0;36m0\u001b[0m\u001b[0;34m)\u001b[0m\u001b[0;34m,\u001b[0m\u001b[0;34m\u001b[0m\u001b[0;34m\u001b[0m\u001b[0m\n\u001b[0;32m----> 6\u001b[0;31m                      material=mp.Medium(index=n_1))]\n\u001b[0m\u001b[1;32m      7\u001b[0m \u001b[0;34m\u001b[0m\u001b[0m\n\u001b[1;32m      8\u001b[0m \u001b[0;31m#Layers Material\u001b[0m\u001b[0;34m\u001b[0m\u001b[0;34m\u001b[0m\u001b[0m\n",
      "\u001b[0;31mNameError\u001b[0m: name 'n_1' is not defined"
     ]
    }
   ],
   "source": [
    "#define geometry\n",
    "\n",
    "#Background material\n",
    "geometry = [mp.Block(mp.Vector3(mp.inf, mp.inf, mp.inf),\n",
    "                     center=mp.Vector3(0,0),\n",
    "                     material=mp.Medium(index=n_1))]\n",
    "\n",
    "#Layers Material\n",
    "for ii in range(N_layers):\n",
    "    geometry.append(mp.Block(mp.Vector3(width_2, mp.inf, mp.inf),\n",
    "                     center=mp.Vector3(ii*(width_1+width_2) -bragg_width/2 + width_1 + width_2/2, 0),\n",
    "                     material=mp.Medium(index=n_2)))\n",
    "    \n",
    "#define sources\n",
    "sources = [mp.Source(mp.GaussianSource(frequency=f_central, fwidth=df*2),\n",
    "                     component=mp.Ez,\n",
    "                     center=mp.Vector3(source_x, 0),\n",
    "                     size=mp.Vector3(0, source_width))]\n",
    "\n",
    "#define boundary conditions\n",
    "pml_layers = [mp.PML(pml_thickness)]\n",
    "\n",
    "\n",
    "#Instance simulation with chosen parameters\n",
    "sim = mp.Simulation(cell_size=cell,\n",
    "                    boundary_layers=pml_layers,\n",
    "                    geometry=geometry,\n",
    "                    sources=sources,\n",
    "                    resolution=resolution)\n"
   ]
  },
  {
   "cell_type": "code",
   "execution_count": null,
   "id": "e0dcd9c3-4510-4e4c-b3c0-ad98d1555452",
   "metadata": {},
   "outputs": [],
   "source": [
    "##Flux Monitors Definition\n",
    "\n",
    "#First instantiate a flux region object by telling its geometric parameters\n",
    "#Then call add_flux on simulation object, passing the fluxregion as parameter. Returns flux object\n",
    "\n",
    "#This tells meep to perform the following:\n",
    "#For each of the chosen frequencies, and for each of the fields components,\n",
    "#accumulate the discrete fourier transform until the end of the simulation\n",
    "\n",
    "#Desired frequencies are in (fcen-df/2, fcen+df/2)\n",
    "\n",
    "# Flux Monitor 1\n",
    "refl_fr = mp.FluxRegion(center=mp.Vector3(mon_1_x, 0), size=mp.Vector3(0,mon_1_width,0))\n",
    "refl = sim.add_flux(f_mon_central, df_mon, N_freq, refl_fr)\n",
    "\n",
    "# Flux Monitor 2\n",
    "tran_fr = mp.FluxRegion(center=mp.Vector3(mon_2_x, 0), size=mp.Vector3(0,mon_2_h,0))\n",
    "tran = sim.add_flux(f_mon_central, df_mon, N_freq, tran_fr)"
   ]
  },
  {
   "cell_type": "code",
   "execution_count": null,
   "id": "a75718c9-1b71-445b-a2ff-2983ea707d15",
   "metadata": {},
   "outputs": [],
   "source": [
    "#load normalization data\n",
    "sim.load_minus_flux_data(refl, norm_incident_data)"
   ]
  },
  {
   "cell_type": "code",
   "execution_count": null,
   "id": "95babcea-0a76-4bdb-b6d6-a6a6024ffc3d",
   "metadata": {},
   "outputs": [],
   "source": [
    "#Runs simulation and save animation of Ez\n",
    "animate = mp.Animate2D(sim,\n",
    "                       fields=mp.Ez,\n",
    "                       normalize=True,\n",
    "                       realtime=False,\n",
    "                       eps_parameters={'alpha':1, 'cmap':'RdBu', 'interpolation':'spline36'},\n",
    "                       field_parameters={'alpha':0.8, 'cmap':'RdBu', 'interpolation':'spline36'},\n",
    "                       boundary_parameters={'hatch':'o', 'linewidth':1.5, 'facecolor':'y', 'edgecolor':'b', 'alpha':0.3})\n",
    "\n",
    "\n",
    "sim.run(mp.at_every(1, animate), until_after_sources = mp.stop_when_fields_decayed(50, mp.Ez, check_pt, 5e-3))\n",
    "        #until_after_sources=mp.stop_when_fields_decayed(50,mp.Ez,pt,1e-3))\n",
    "\n",
    "animate.to_mp4(10, \"Ez_DBR.mp4\")"
   ]
  },
  {
   "cell_type": "code",
   "execution_count": null,
   "id": "48dbb5d1-072b-4aa8-a9d1-226272c665fe",
   "metadata": {},
   "outputs": [],
   "source": [
    "Video(\"Ez_DBR.mp4\")"
   ]
  },
  {
   "cell_type": "code",
   "execution_count": null,
   "id": "45319aea-0916-442b-af3c-b2b62273af53",
   "metadata": {},
   "outputs": [],
   "source": [
    "# Get Final Fluxes\n",
    "bragg_tran_flux = np.array(mp.get_fluxes(tran))\n",
    "bragg_refl_flux = np.array(mp.get_fluxes(refl))*(-1)\n",
    "\n",
    "flux_freqs = np.array(mp.get_flux_freqs(refl))"
   ]
  },
  {
   "cell_type": "code",
   "execution_count": null,
   "id": "0d2c74df-41f5-4648-9284-68557bb9a22d",
   "metadata": {},
   "outputs": [],
   "source": [
    "plt.plot(flux_freqs, bragg_tran_flux, label=\"Transmitted wave Flux\")\n",
    "plt.plot(flux_freqs, norm_tran_flux, label=\"No structure Transmitted wave Flux\")\n",
    "\n",
    "plt.plot(flux_freqs, bragg_refl_flux, label=\"Reflected wave Flux\")\n",
    "\n",
    "plt.plot(flux_freqs, norm_inc_flux, label=\"Incident wave Flux\")\n",
    "\n",
    "ax = plt.gca()\n",
    "\n",
    "def MU2THz(x):\n",
    "    return x *freq_unit*1e-12\n",
    "\n",
    "\n",
    "def THz2MU(x):\n",
    "    return x /(freq_unit*1e-12)\n",
    "\n",
    "secax = ax.secondary_xaxis('top', functions=(MU2THz, THz2MU))\n",
    "secax.set_xlabel('Frequency [THz]')\n",
    "\n",
    "plt.legend()\n",
    "plt.grid()"
   ]
  },
  {
   "cell_type": "code",
   "execution_count": null,
   "id": "4d94cb03",
   "metadata": {},
   "outputs": [],
   "source": [
    "# Transmittance and reflectance\n",
    "\n",
    "wvlength = 1/flux_freqs\n",
    "\n",
    "T = bragg_tran_flux/norm_tran_flux\n",
    "R = bragg_refl_flux/norm_tran_flux\n",
    "Losses = 1-T-R\n",
    "\n",
    "plt.plot(flux_freqs, T, label=\"Transmittance\")\n",
    "plt.plot(flux_freqs, R, label=\"Reflectance\")\n",
    "plt.plot(flux_freqs, Losses, label=\"DBR Losses\")\n",
    "\n",
    "ax = plt.gca()\n",
    "\n",
    "def MU2THz(x):\n",
    "    return x *freq_unit*1e-12\n",
    "\n",
    "\n",
    "def THz2MU(x):\n",
    "    return x /(freq_unit*1e-12)\n",
    "\n",
    "secax = ax.secondary_xaxis('top', functions=(MU2THz, THz2MU))\n",
    "secax.set_xlabel('Frequency [THz]')\n",
    "\n",
    "plt.legend()\n",
    "plt.grid()"
   ]
  },
  {
   "cell_type": "markdown",
   "id": "f42cea80",
   "metadata": {},
   "source": [
    "Dubbi: formalmente come faccio a costruire una sorgente che eccita solo alcuni modi della struttura?\n",
    "Come faccio a capire quali modi eccita una sorgente arbitraria?\n",
    "Come misuro aitomaticamente il bandgap?"
   ]
  },
  {
   "cell_type": "code",
   "execution_count": null,
   "id": "52adaf1f",
   "metadata": {},
   "outputs": [],
   "source": []
  },
  {
   "cell_type": "markdown",
   "id": "58c9fde8",
   "metadata": {},
   "source": [
    "# Notes\n",
    "- Dn = +1.4, n_1 = 1.45, wm = 0.225, wmin = 0.18, wmax =0.275 Dw=0.095\n",
    "- Dn = 1, n_1 = 1.45, wm = 0.255, wmin = 0.215, wmax =0.287 Dw=0.072"
   ]
  },
  {
   "cell_type": "markdown",
   "id": "a134432c",
   "metadata": {},
   "source": [
    "# $\\Delta \\phi$ calculation"
   ]
  },
  {
   "cell_type": "code",
   "execution_count": null,
   "id": "10f809ad",
   "metadata": {},
   "outputs": [],
   "source": [
    "# Transmittance and reflectance\n",
    "\n",
    "wvlength = 1/flux_freqs\n",
    "\n",
    "T = bragg_tran_flux/norm_tran_flux\n",
    "R = bragg_refl_flux/norm_tran_flux\n",
    "Losses = 1-T-R\n",
    "\n",
    "diff_T = np.diff(T)\n",
    "diff_R = np.diff(R)\n",
    "diff_Losses = np.diff(Losses)"
   ]
  },
  {
   "cell_type": "code",
   "execution_count": null,
   "id": "bbdf1a69",
   "metadata": {},
   "outputs": [],
   "source": [
    "print(len(diff_T))\n",
    "print(len(flux_freqs[:-1]))\n",
    "\n",
    "plt.plot(flux_freqs[:-1], diff_T, label=\"Transmittance\")\n",
    "plt.plot(flux_freqs[:-1], diff_R, label=\"Reflectance\")\n",
    "plt.plot(flux_freqs[:-1], diff_Losses, label=\"DBR Losses\")\n",
    "\n",
    "\n",
    "ax = plt.gca()\n",
    "\n",
    "def MU2THz(x):\n",
    "    return x *freq_unit*1e-12\n",
    "\n",
    "\n",
    "def THz2MU(x):\n",
    "    return x /(freq_unit*1e-12)\n",
    "\n",
    "secax = ax.secondary_xaxis('top', functions=(MU2THz, THz2MU))\n",
    "secax.set_xlabel('Frequency [THz]')\n",
    "\n",
    "\n",
    "\n",
    "plt.legend()\n",
    "plt.grid()"
   ]
  },
  {
   "cell_type": "code",
   "execution_count": null,
   "id": "4a5162e2",
   "metadata": {},
   "outputs": [],
   "source": [
    "#get maxima of drivative to get lower and upper bound of bandgap\n",
    "diff_R_abs =np.abs(diff_R)\n",
    "max_val = np.amax(diff_R)\n",
    "max_index = np.argmax(diff_R)\n",
    "\n",
    "peaks, _ = find_peaks(diff_R_abs, height=0.01)\n",
    "print(flux_freqs[peaks])\n",
    "print(flux_freqs[peaks][peaks>=max_index])\n",
    "\n",
    "ind = np.argpartition(diff_R[peaks][peaks>=max_index], -2)[-2:]\n",
    "bandgap_bounds = flux_freqs[peaks][peaks>=max_index][ind][::-1]\n",
    "\n",
    "print(bandgap_bounds)"
   ]
  },
  {
   "cell_type": "code",
   "execution_count": null,
   "id": "ddc2b3f0",
   "metadata": {},
   "outputs": [],
   "source": [
    "bandgap_mean = np.mean(bandgap_bounds)\n",
    "bandgap_delta = bandgap_bounds[1]-bandgap_bounds[0]\n",
    "bandgap_ratio = bandgap_delta/bandgap_mean\n",
    "\n",
    "print(\"Mean freqeuency: \",bandgap_mean)\n",
    "print(\"Delta freqeuency: \",bandgap_delta)\n",
    "print(\"Ratio Delta/mean: \",bandgap_ratio)"
   ]
  },
  {
   "cell_type": "code",
   "execution_count": null,
   "id": "89330b0f",
   "metadata": {},
   "outputs": [],
   "source": [
    "\n",
    "print(len(diff_T))\n",
    "print(len(flux_freqs[:-1]))\n",
    "\n",
    "plt.plot(flux_freqs[:-1], diff_T, label=\"Transmittance\")\n",
    "plt.plot(flux_freqs[:-1], diff_R, label=\"Reflectance\")\n",
    "plt.plot(flux_freqs[:-1], diff_Losses, label=\"DBR Losses\")\n",
    "\n",
    "plt.axvline(bandgap_bounds[0], color=\"red\", linestyle=\"dashed\")\n",
    "plt.axvline(bandgap_bounds[1], color=\"red\", linestyle=\"dashed\")\n",
    "plt.axvline(bandgap_mean, color=\"red\", linestyle=\"dashed\")\n",
    "\n",
    "\n",
    "ax = plt.gca()\n",
    "\n",
    "def MU2THz(x):\n",
    "    return x *freq_unit*1e-12\n",
    "\n",
    "\n",
    "def THz2MU(x):\n",
    "    return x /(freq_unit*1e-12)\n",
    "\n",
    "secax = ax.secondary_xaxis('top', functions=(MU2THz, THz2MU))\n",
    "secax.set_xlabel('Frequency [THz]')\n",
    "\n",
    "\n",
    "\n",
    "plt.legend()\n",
    "plt.grid()"
   ]
  },
  {
   "cell_type": "code",
   "execution_count": null,
   "metadata": {},
   "outputs": [],
   "source": []
  }
 ],
 "metadata": {
  "kernelspec": {
   "display_name": "Python 3.9.7 ('lab_photonics')",
   "language": "python",
   "name": "python3"
  },
  "language_info": {
   "codemirror_mode": {
    "name": "ipython",
    "version": 3
   },
   "file_extension": ".py",
   "mimetype": "text/x-python",
   "name": "python",
   "nbconvert_exporter": "python",
   "pygments_lexer": "ipython3",
   "version": "3.9.7"
  },
  "vscode": {
   "interpreter": {
    "hash": "288b77951d47ff79106d43cb52c595832c17b084d38ea661deb9719da70991b6"
   }
  }
 },
 "nbformat": 4,
 "nbformat_minor": 5
}
