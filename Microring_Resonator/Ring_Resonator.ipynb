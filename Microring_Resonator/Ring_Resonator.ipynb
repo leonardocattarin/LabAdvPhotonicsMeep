{
 "cells": [
  {
   "cell_type": "code",
   "execution_count": 1,
   "id": "e44a761a-6984-451c-96be-3dcb7d663f87",
   "metadata": {},
   "outputs": [],
   "source": [
    "import meep as mp\n",
    "import matplotlib.pyplot as plt\n",
    "import numpy as np\n",
    "from IPython.display import Video\n",
    "from scipy.constants import pi, c\n",
    "from scipy.signal import hilbert, find_peaks\n",
    "from scipy.interpolate import interp1d\n",
    "from scipy.optimize import curve_fit\n",
    "from matplotlib.ticker import FormatStrFormatter, FuncFormatter\n",
    "import matplotlib\n"
   ]
  },
  {
   "cell_type": "code",
   "execution_count": 2,
   "id": "6a631004-e964-45d5-9f32-31c0e29939d3",
   "metadata": {},
   "outputs": [],
   "source": [
    "plt.rcParams['figure.figsize'] = [10,5]"
   ]
  },
  {
   "cell_type": "code",
   "execution_count": 3,
   "id": "ed9c293b-9684-4b1c-927f-e708c1ff601a",
   "metadata": {},
   "outputs": [
    {
     "name": "stdout",
     "output_type": "stream",
     "text": [
      "1 meep Length unit is 1.0 um\n",
      "1 meep Time unit is 3.3356409519815204 fs\n",
      "1 meep Frequency unit is 299.792458 THz\n"
     ]
    }
   ],
   "source": [
    "#Define conversion functions/factors to get to/from meep units and kms\n",
    "#Length factor to transform lengths in kms\n",
    "l_unit = 1e-6 #1 um\n",
    "t_unit = l_unit/c #time unit is length/c\n",
    "\n",
    "#multiplicative constants to convert frequencies from meep to kms hertz\n",
    "freq_unit = c/l_unit\n",
    "\n",
    "print(\"1 meep Length unit is\", l_unit*1e+6, \"um\")\n",
    "print(\"1 meep Time unit is\", t_unit*1e+15, \"fs\")\n",
    "print(\"1 meep Frequency unit is\", freq_unit*1e-12, \"THz\")"
   ]
  },
  {
   "cell_type": "markdown",
   "id": "f6b57dbb",
   "metadata": {},
   "source": [
    "# Resolution"
   ]
  },
  {
   "cell_type": "code",
   "execution_count": 4,
   "id": "b32310ad",
   "metadata": {},
   "outputs": [
    {
     "name": "stdout",
     "output_type": "stream",
     "text": [
      "Pixel per unit:  20\n",
      "Space resolution [meep]:  0.05\n",
      "Time resolution [meep]:  0.025\n",
      "Space resolution [um]:  0.049999999999999996\n",
      "Time resolution [fs]:  0.08339102379953803\n",
      "Time sampling frequency [meep]:  40.0\n",
      "Nyqvist frequency [meep]:  20.0\n"
     ]
    }
   ],
   "source": [
    "#courant factor\n",
    "S = 0.5\n",
    "\n",
    "#resolution is number of pixels per meep unit\n",
    "resolution = 20\n",
    "\n",
    "#resolutions in meep units\n",
    "space_res = 1/resolution\n",
    "time_res = space_res*S\n",
    "\n",
    "print(\"Pixel per unit: \", resolution)\n",
    "\n",
    "print(\"Space resolution [meep]: \", space_res)\n",
    "print(\"Time resolution [meep]: \", time_res)\n",
    "\n",
    "print(\"Space resolution [um]: \", space_res*l_unit*1e+6)\n",
    "print(\"Time resolution [fs]: \", time_res*t_unit*1e+15)\n",
    "\n",
    "time_freq = 1/time_res\n",
    "print(\"Time sampling frequency [meep]: \", time_freq)\n",
    "print(\"Nyqvist frequency [meep]: \", time_freq/2)"
   ]
  },
  {
   "cell_type": "markdown",
   "id": "8ea4fb08",
   "metadata": {},
   "source": [
    "# Geometry Definition\n",
    "Cell"
   ]
  },
  {
   "cell_type": "code",
   "execution_count": 5,
   "id": "e264b2f0-b4c8-4512-8fcc-f24bbbc648df",
   "metadata": {},
   "outputs": [],
   "source": [
    "#define cell size and resolution\n",
    "#Cell size is in meep units\n",
    "#center is in (0,0), ranges in x=(-sx/2,sx/2), y=(-sy/2,sy/2)\n",
    "sx = 32\n",
    "sy = 20\n",
    "\n",
    "cell = mp.Vector3(sx, sy)\n",
    "\n",
    "#boundary conditions thickness\n",
    "pml_thickness = 1.0\n",
    "\n",
    "#automatic positioning of boundaries\n",
    "x_bound_up = sx/2 - pml_thickness\n",
    "x_bound_low = -sx/2 + pml_thickness\n",
    "\n",
    "y_bound_up = sy/2 - pml_thickness\n",
    "y_bound_low = -sy/2 + pml_thickness"
   ]
  },
  {
   "cell_type": "markdown",
   "id": "ba7a7ec1",
   "metadata": {},
   "source": [
    "## Running parameters"
   ]
  },
  {
   "cell_type": "code",
   "execution_count": 6,
   "id": "3adadce1",
   "metadata": {},
   "outputs": [],
   "source": [
    "distances = np.arange(0.05,0.7,0.05)\n",
    "loop_f_central_resonance = []"
   ]
  },
  {
   "cell_type": "markdown",
   "id": "0c50d21a",
   "metadata": {},
   "source": [
    "# Resonance Search"
   ]
  },
  {
   "cell_type": "code",
   "execution_count": 7,
   "id": "61e7cfb8",
   "metadata": {},
   "outputs": [
    {
     "name": "stdout",
     "output_type": "stream",
     "text": [
      "Beginning Resonance search\n",
      "###############\n",
      "Beginning iteration:  0\n",
      "Distance:  0.05\n"
     ]
    }
   ],
   "source": [
    "print(\"Beginning Resonance search\")\n",
    "\n",
    "for index,d in enumerate(distances):\n",
    "    #Geometry objects\n",
    "    print(\"###############\")\n",
    "    print(\"Beginning iteration: \",index)\n",
    "    print(\"Distance: \",d)\n",
    "\n",
    "    #materials refractive indexes\n",
    "    n_bgnd = 1\n",
    "    n_wvg = 3.55\n",
    "    n_ring = n_wvg\n",
    "\n",
    "    #Width properties\n",
    "    wvg_width = 1.6\n",
    "\n",
    "    ring_r = 3\n",
    "    ring_w = wvg_width\n",
    "\n",
    "    #Position properties\n",
    "    wvg_x = 0\n",
    "    wvg_y = -(wvg_width + d + ring_w*2 + ring_r*2)/2 + wvg_width/2\n",
    "\n",
    "    ring_x = 0\n",
    "    ring_y = wvg_y + wvg_width/2 + d + ring_w + ring_r\n",
    "\n",
    "    #Soure parameters\n",
    "    source_x = x_bound_low + 1\n",
    "    source_y = wvg_y\n",
    "\n",
    "    source_width = wvg_width\n",
    "\n",
    "    #Resonance values\n",
    "    f_central_guess = 0.14\n",
    "    df_guess = 0.01\n",
    "    #central frequency\n",
    "    f_mon = f_central_guess\n",
    "    #width of sampled frequency band\n",
    "    df_mon = df_guess\n",
    "\n",
    "    #Monitor parameters\n",
    "    #input\n",
    "    mon_1_x = source_x + 0.5\n",
    "    mon_1_y = wvg_y\n",
    "    mon_1_width = wvg_width\n",
    "\n",
    "    #output\n",
    "    mon_2_x = x_bound_up - 1\n",
    "    mon_2_y = wvg_y\n",
    "    mon_2_width = wvg_width\n",
    "\n",
    "    #number of sampling points in frequency for fourier transform of fields accumulated\n",
    "    N_freq = 300\n",
    "\n",
    "    check_pt = mp.Vector3(mon_2_x - 0.1, mon_2_y)\n",
    "    \n",
    "    waveguide = mp.Block(mp.Vector3(mp.inf, wvg_width, mp.inf),\n",
    "                    center = mp.Vector3(wvg_x, wvg_y),\n",
    "                    material = mp.Medium(index=n_wvg))\n",
    "    ext_ring = mp.Cylinder(radius=ring_r+ring_w,\n",
    "                    center=mp.Vector3(ring_x, ring_y),\n",
    "                    material = mp.Medium(index=n_ring))\n",
    "    int_ring = mp.Cylinder(radius=ring_r,\n",
    "                    center=mp.Vector3(ring_x, ring_y))\n",
    "\n",
    "    geometry = [waveguide,\n",
    "            ext_ring,\n",
    "            int_ring]\n",
    "\n",
    "    #define sources\n",
    "    #gaussian pulse with f_central and df\n",
    "    sources = [mp.Source(mp.GaussianSource(frequency=f_central_guess, fwidth=df_guess*3),\n",
    "                        component=mp.Ez,\n",
    "                        center=mp.Vector3(source_x, source_y),\n",
    "                        size=mp.Vector3(0, source_width))]\n",
    "\n",
    "    #define boundary conditions\n",
    "    pml_layers = [mp.PML(pml_thickness)]\n",
    "\n",
    "    #Instance simulation with chosen parameters\n",
    "    sim = mp.Simulation(cell_size=cell,\n",
    "                        boundary_layers=pml_layers,\n",
    "                        sources=sources,\n",
    "                        geometry=geometry,\n",
    "                        resolution=resolution)\n",
    "\n",
    "    # Flux Monitor 1\n",
    "    incident_fr = mp.FluxRegion(center=mp.Vector3(mon_1_x, mon_1_y), size=mp.Vector3(0, mon_1_width, 0))\n",
    "    incident = sim.add_flux(f_mon, df_mon, N_freq, incident_fr)\n",
    "\n",
    "    # Flux Monitor 2\n",
    "    tran_fr = mp.FluxRegion(center=mp.Vector3(mon_2_x, mon_2_y), size=mp.Vector3(0,mon_2_width,0))\n",
    "    tran = sim.add_flux(f_mon, df_mon, N_freq, tran_fr)\n",
    "\n",
    "    #Simulate\n",
    "    mp.verbosity(0)\n",
    "    sim.run( until_after_sources = mp.stop_when_fields_decayed(50, mp.Ez, check_pt, 1e-3))\n",
    "\n",
    "    #Get fluxes from fourier transformed fields transmitted\n",
    "    norm_tran_flux = mp.get_fluxes(tran)\n",
    "\n",
    "    #Get fluxes from fourier transformed incident fields\n",
    "    norm_inc_flux = mp.get_fluxes(incident)\n",
    "\n",
    "    flux_freqs = mp.get_flux_freqs(tran)\n",
    "\n",
    "    Tr = np.array(norm_tran_flux)/np.array(norm_inc_flux)\n",
    "    freq_res_main = flux_freqs[np.argmin(Tr)]\n",
    "\n",
    "    loop_f_central_resonance = np.append(loop_f_central_resonance, freq_res_main)\n",
    "    print(\"Resonance frequency: \", freq_res_main )\n",
    "\n",
    "    sim.reset_meep()\n",
    "print(loop_f_central_resonance)"
   ]
  },
  {
   "cell_type": "markdown",
   "id": "72fdd9de",
   "metadata": {},
   "source": [
    "# $\\Delta \\phi$ calculation"
   ]
  },
  {
   "cell_type": "code",
   "execution_count": null,
   "id": "60b89d45",
   "metadata": {},
   "outputs": [],
   "source": [
    "run_time = 500\n",
    "\n",
    "Delta_Phi_list = []"
   ]
  },
  {
   "cell_type": "code",
   "execution_count": null,
   "id": "d1719073",
   "metadata": {},
   "outputs": [
    {
     "name": "stdout",
     "output_type": "stream",
     "text": [
      "###############\n",
      "Beginning iteration:  0\n",
      "Distance:  0.05\n",
      "Frequency:  0.14025083612040135\n"
     ]
    },
    {
     "data": {
      "application/vnd.jupyter.widget-view+json": {
       "model_id": "5fa5bb0d2c4245dbafcc240de54ffbe2",
       "version_major": 2,
       "version_minor": 0
      },
      "text/plain": [
       "FloatProgress(value=0.0, description='0% done ', max=500.0)"
      ]
     },
     "metadata": {},
     "output_type": "display_data"
    }
   ],
   "source": [
    "for index,d in enumerate(distances):\n",
    "    print(\"###############\")\n",
    "    print(\"Beginning iteration: \",index)\n",
    "    print(\"Distance: \", d)\n",
    "    print(\"Frequency: \", loop_f_central_resonance[index])\n",
    "\n",
    "    #materials refractive indexes\n",
    "    n_bgnd = 1\n",
    "    n_wvg = 3.55\n",
    "    n_ring = n_wvg\n",
    "\n",
    "    #Width properties\n",
    "    wvg_width = 1.6\n",
    "\n",
    "    ring_r = 3\n",
    "    ring_w = wvg_width\n",
    "\n",
    "    #Position properties\n",
    "    wvg_x = 0\n",
    "    wvg_y = -(wvg_width + d + ring_w*2 + ring_r*2)/2 + wvg_width/2\n",
    "\n",
    "    ring_x = 0\n",
    "    ring_y = wvg_y + wvg_width/2 + d + ring_w + ring_r\n",
    "\n",
    "    #Soure parameters\n",
    "    source_x = x_bound_low + 1\n",
    "    source_y = wvg_y\n",
    "\n",
    "    source_width = wvg_width\n",
    "\n",
    "\n",
    "    #Geometry objects\n",
    "    waveguide = mp.Block(mp.Vector3(mp.inf, wvg_width, mp.inf),\n",
    "                        center = mp.Vector3(wvg_x, wvg_y),\n",
    "                        material = mp.Medium(index=n_wvg))\n",
    "    ext_ring = mp.Cylinder(radius=ring_r+ring_w,\n",
    "                        center=mp.Vector3(ring_x, ring_y),\n",
    "                        material = mp.Medium(index=n_ring))\n",
    "    int_ring = mp.Cylinder(radius=ring_r,\n",
    "                        center=mp.Vector3(ring_x, ring_y))\n",
    "\n",
    "    geometry = [waveguide,\n",
    "                ext_ring,\n",
    "                int_ring]\n",
    "\n",
    "    #define sources\n",
    "    #gaussian pulse with f_central and df\n",
    "    sources = [mp.Source(mp.ContinuousSource(frequency=loop_f_central_resonance[index], width=20),\n",
    "                        component=mp.Ez,\n",
    "                        center=mp.Vector3(source_x, source_y),\n",
    "                        size=mp.Vector3(0, source_width))]\n",
    "\n",
    "    #define boundary conditions\n",
    "    pml_layers = [mp.PML(pml_thickness)]\n",
    "\n",
    "    #Instance simulation with chosen parameters\n",
    "    sim = mp.Simulation(cell_size=cell,\n",
    "                        boundary_layers=pml_layers,\n",
    "                        sources=sources,\n",
    "                        geometry=geometry,\n",
    "                        resolution=resolution)\n",
    "\n",
    "\n",
    "    #Simulate\n",
    "    mp.verbosity(0)\n",
    "    sim.run(until=run_time)\n",
    "\n",
    "    ez_data_wvg = sim.get_array(center=mp.Vector3(0,wvg_y), size=mp.Vector3(sx, 0.001), component=mp.Ez)\n",
    "    print(ez_data_wvg.shape)\n",
    "\n",
    "    x = np.arange(-sx/2, sx/2, 1/resolution)\n",
    "\n",
    "    init_mask = (x>(source_x + 0.4))&(x<((-1)*(ring_r+ring_w)))\n",
    "\n",
    "    init_wave = ez_data_wvg[init_mask][:,0]\n",
    "    init_x = x[init_mask]\n",
    "\n",
    "\n",
    "    fin_mask = (x>(ring_r+ring_w))&(x<(x_bound_up-0.4))\n",
    "\n",
    "    fin_wave = ez_data_wvg[fin_mask][:,0]\n",
    "    fin_x = x[fin_mask]\n",
    "\n",
    "    init_peaks, _ = find_peaks(init_wave)\n",
    "    fin_peaks, _ = find_peaks(fin_wave)\n",
    "\n",
    "    init_x_peaks = init_x[init_peaks]\n",
    "    fin_x_peaks = fin_x[fin_peaks]\n",
    "\n",
    "    def func_linear(m, k, phi):\n",
    "        return (m*2*pi + pi/2 -phi)/k\n",
    "\n",
    "    popt_init, pcov_init = curve_fit(func_linear, [i[0] for i in enumerate(init_x_peaks)], init_x_peaks)\n",
    "\n",
    "    k_fit_init = popt_init[0]\n",
    "    phi_init = popt_init[1]%(2*pi)\n",
    "\n",
    "    print(\"K_init: \",k_fit_init,\" phi_init:\", phi_init)\n",
    "\n",
    "    popt_fin, pcov_fin = curve_fit(func_linear, [i[0] for i in enumerate(fin_x_peaks)], fin_x_peaks)\n",
    "\n",
    "    k_fit_fin = popt_fin[0]\n",
    "    phi_fin = popt_fin[1]%(2*pi)\n",
    "\n",
    "    print(\"K_fin: \",k_fit_fin,\" phi_fin:\", phi_fin)\n",
    "\n",
    "\n",
    "    Delta_Phi = phi_fin - phi_init\n",
    "    print(\"Delta Phi:\", Delta_Phi, \", Degrees: \",Delta_Phi*360/(2*pi))\n",
    "\n",
    "    Delta_Phi_list = np.append(Delta_Phi_list, Delta_Phi)\n",
    "    sim.reset_meep()"
   ]
  },
  {
   "cell_type": "code",
   "execution_count": null,
   "id": "7e806cec",
   "metadata": {},
   "outputs": [
    {
     "data": {
      "image/png": "[encoded data removed]",
      "text/plain": [
       "<Figure size 720x360 with 1 Axes>"
      ]
     },
     "metadata": {
      "needs_background": "light"
     },
     "output_type": "display_data"
    }
   ],
   "source": [
    "plt.plot(distances, Delta_Phi_list, \"r*\")\n",
    "\n",
    "plt.xlabel(r\"Distance d [meep units]\")\n",
    "plt.ylabel(r\"$\\Delta \\Phi$\")\n",
    "\n",
    "ax = plt.gca()\n",
    "ax.yaxis.set_major_locator(matplotlib.ticker.MultipleLocator(base=np.pi))\n",
    "ax.yaxis.set_major_formatter(FuncFormatter(\n",
    "   lambda val,pos: '{:.0g}$\\pi$'.format(val/np.pi) if val !=0 else '0'\n",
    "))\n",
    "plt.ylim(0,2*np.pi)\n",
    "\n",
    "plt.grid()"
   ]
  },
  {
   "cell_type": "code",
   "execution_count": null,
   "id": "61892e65",
   "metadata": {},
   "outputs": [],
   "source": []
  }
 ],
 "metadata": {
  "kernelspec": {
   "display_name": "Python 3.9.7 ('lab_photonics')",
   "language": "python",
   "name": "python3"
  },
  "language_info": {
   "codemirror_mode": {
    "name": "ipython",
    "version": 3
   },
   "file_extension": ".py",
   "mimetype": "text/x-python",
   "name": "python",
   "nbconvert_exporter": "python",
   "pygments_lexer": "ipython3",
   "version": "3.9.7"
  },
  "vscode": {
   "interpreter": {
    "hash": "288b77951d47ff79106d43cb52c595832c17b084d38ea661deb9719da70991b6"
   }
  }
 },
 "nbformat": 4,
 "nbformat_minor": 5
}
