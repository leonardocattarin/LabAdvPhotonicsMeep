{
 "cells": [
  {
   "cell_type": "code",
   "execution_count": 1,
   "id": "e44a761a-6984-451c-96be-3dcb7d663f87",
   "metadata": {},
   "outputs": [],
   "source": [
    "import meep as mp\n",
    "import matplotlib.pyplot as plt\n",
    "import numpy as np\n",
    "from IPython.display import Video\n",
    "from scipy.constants import pi, c\n",
    "from scipy.signal import hilbert, find_peaks\n",
    "from scipy.interpolate import interp1d\n",
    "from scipy.optimize import curve_fit\n"
   ]
  },
  {
   "cell_type": "code",
   "execution_count": 2,
   "id": "6a631004-e964-45d5-9f32-31c0e29939d3",
   "metadata": {},
   "outputs": [],
   "source": [
    "plt.rcParams['figure.figsize'] = [10,5]"
   ]
  },
  {
   "cell_type": "code",
   "execution_count": 3,
   "id": "ed9c293b-9684-4b1c-927f-e708c1ff601a",
   "metadata": {},
   "outputs": [
    {
     "name": "stdout",
     "output_type": "stream",
     "text": [
      "1 meep Length unit is 1.0 um\n",
      "1 meep Time unit is 3.3356409519815204 fs\n",
      "1 meep Frequency unit is 299.792458 THz\n"
     ]
    }
   ],
   "source": [
    "#Define conversion functions/factors to get to/from meep units and kms\n",
    "#Length factor to transform lengths in kms\n",
    "l_unit = 1e-6 #1 um\n",
    "t_unit = l_unit/c #time unit is length/c\n",
    "\n",
    "#multiplicative constants to convert frequencies from meep to kms hertz\n",
    "freq_unit = c/l_unit\n",
    "\n",
    "print(\"1 meep Length unit is\", l_unit*1e+6, \"um\")\n",
    "print(\"1 meep Time unit is\", t_unit*1e+15, \"fs\")\n",
    "print(\"1 meep Frequency unit is\", freq_unit*1e-12, \"THz\")"
   ]
  },
  {
   "cell_type": "markdown",
   "id": "f6b57dbb",
   "metadata": {},
   "source": [
    "# Resolution"
   ]
  },
  {
   "cell_type": "code",
   "execution_count": 4,
   "id": "b32310ad",
   "metadata": {},
   "outputs": [
    {
     "name": "stdout",
     "output_type": "stream",
     "text": [
      "Pixel per unit:  20\n",
      "Space resolution [meep]:  0.05\n",
      "Time resolution [meep]:  0.025\n",
      "Space resolution [um]:  0.049999999999999996\n",
      "Time resolution [fs]:  0.08339102379953803\n"
     ]
    }
   ],
   "source": [
    "#courant factor\n",
    "S = 0.5\n",
    "\n",
    "#resolution is number of pixels per meep unit\n",
    "resolution = 20\n",
    "\n",
    "#resolutions in meep units\n",
    "space_res = 1/resolution\n",
    "time_res = space_res*S\n",
    "\n",
    "print(\"Pixel per unit: \", resolution)\n",
    "\n",
    "print(\"Space resolution [meep]: \", space_res)\n",
    "print(\"Time resolution [meep]: \", time_res)\n",
    "\n",
    "print(\"Space resolution [um]: \", space_res*l_unit*1e+6)\n",
    "print(\"Time resolution [fs]: \", time_res*t_unit*1e+15)"
   ]
  },
  {
   "cell_type": "markdown",
   "id": "8ea4fb08",
   "metadata": {},
   "source": [
    "# Geometry Definition\n",
    "Cell"
   ]
  },
  {
   "cell_type": "code",
   "execution_count": 5,
   "id": "e264b2f0-b4c8-4512-8fcc-f24bbbc648df",
   "metadata": {},
   "outputs": [],
   "source": [
    "#define cell size and resolution\n",
    "#Cell size is in meep units\n",
    "#center is in (0,0), ranges in x=(-sx/2,sx/2), y=(-sy/2,sy/2)\n",
    "sx = 24\n",
    "sy = 20\n",
    "\n",
    "cell = mp.Vector3(sx, sy)\n",
    "\n",
    "#boundary conditions thickness\n",
    "pml_thickness = 1.0\n",
    "\n",
    "#automatic positioning of boundaries\n",
    "x_bound_up = sx/2 - pml_thickness\n",
    "x_bound_low = -sx/2 + pml_thickness\n",
    "\n",
    "y_bound_up = sy/2 - pml_thickness\n",
    "y_bound_low = -sy/2 + pml_thickness"
   ]
  },
  {
   "cell_type": "markdown",
   "id": "72fdd9de",
   "metadata": {},
   "source": [
    "# $\\Delta \\phi$ calculation"
   ]
  },
  {
   "cell_type": "code",
   "execution_count": 6,
   "id": "3adadce1",
   "metadata": {},
   "outputs": [
    {
     "ename": "TypeError",
     "evalue": "'int' object is not callable",
     "output_type": "error",
     "traceback": [
      "\u001b[0;31m---------------------------------------------------------------------------\u001b[0m",
      "\u001b[0;31mTypeError\u001b[0m                                 Traceback (most recent call last)",
      "\u001b[0;32m/tmp/ipykernel_7586/4254828316.py\u001b[0m in \u001b[0;36m<module>\u001b[0;34m\u001b[0m\n\u001b[1;32m      2\u001b[0m \u001b[0;34m\u001b[0m\u001b[0m\n\u001b[1;32m      3\u001b[0m \u001b[0mdistances\u001b[0m \u001b[0;34m=\u001b[0m \u001b[0mnp\u001b[0m\u001b[0;34m.\u001b[0m\u001b[0marange\u001b[0m\u001b[0;34m(\u001b[0m\u001b[0;36m0.1\u001b[0m\u001b[0;34m,\u001b[0m\u001b[0;36m1\u001b[0m\u001b[0;34m,\u001b[0m\u001b[0;36m0.1\u001b[0m\u001b[0;34m)\u001b[0m\u001b[0;34m\u001b[0m\u001b[0;34m\u001b[0m\u001b[0m\n\u001b[0;32m----> 4\u001b[0;31m \u001b[0mloop_f_central_resonance\u001b[0m \u001b[0;34m=\u001b[0m \u001b[0mnp\u001b[0m\u001b[0;34m.\u001b[0m\u001b[0mones\u001b[0m\u001b[0;34m(\u001b[0m\u001b[0mdistances\u001b[0m\u001b[0;34m.\u001b[0m\u001b[0msize\u001b[0m\u001b[0;34m(\u001b[0m\u001b[0;34m)\u001b[0m\u001b[0;34m)\u001b[0m\u001b[0;34m\u001b[0m\u001b[0;34m\u001b[0m\u001b[0m\n\u001b[0m\u001b[1;32m      5\u001b[0m \u001b[0;34m\u001b[0m\u001b[0m\n\u001b[1;32m      6\u001b[0m \u001b[0mDelta_Phi_list\u001b[0m \u001b[0;34m=\u001b[0m \u001b[0;34m[\u001b[0m\u001b[0;34m]\u001b[0m\u001b[0;34m\u001b[0m\u001b[0;34m\u001b[0m\u001b[0m\n",
      "\u001b[0;31mTypeError\u001b[0m: 'int' object is not callable"
     ]
    }
   ],
   "source": [
    "run_time = 500\n",
    "\n",
    "distances = np.arange(0.1,1,0.1)\n",
    "loop_f_central_resonance = np.ones(distances.shape())*0.4529\n",
    "\n",
    "Delta_Phi_list = []"
   ]
  },
  {
   "cell_type": "code",
   "execution_count": null,
   "id": "d1719073",
   "metadata": {},
   "outputs": [],
   "source": [
    "for index,d in enumerate(distances):\n",
    "    print(\"###############\")\n",
    "    print(\"Beginning iteration: \",index)\n",
    "    print(\"Distance: \",d)\n",
    "    print(\"Frequency: \", loop_f_central_resonance[index])\n",
    "\n",
    "\n",
    "\n",
    "    #materials refractive indexes\n",
    "    n_bgnd = 1\n",
    "    n_wvg = 1.7\n",
    "    n_ring = n_wvg\n",
    "\n",
    "    #Width properties\n",
    "    wvg_width = 1\n",
    "\n",
    "    ring_r = 4\n",
    "    ring_w = wvg_width\n",
    "\n",
    "    #Position properties\n",
    "    wvg_x = 0\n",
    "    wvg_y = -(wvg_width + d + ring_w*2 + ring_r*2)/2 + wvg_width/2\n",
    "\n",
    "    ring_x = 0\n",
    "    ring_y = wvg_y + wvg_width/2 + d + ring_w + ring_r\n",
    "\n",
    "    #Soure parameters\n",
    "    source_x = x_bound_low + 1\n",
    "    source_y = wvg_y\n",
    "\n",
    "    source_width = wvg_width\n",
    "\n",
    "\n",
    "    #Geometry objects\n",
    "    waveguide = mp.Block(mp.Vector3(mp.inf, wvg_width, mp.inf),\n",
    "                        center = mp.Vector3(wvg_x, wvg_y),\n",
    "                        material = mp.Medium(index=n_wvg))\n",
    "    ext_ring = mp.Cylinder(radius=ring_r+ring_w,\n",
    "                        center=mp.Vector3(ring_x, ring_y),\n",
    "                        material = mp.Medium(index=n_ring))\n",
    "    int_ring = mp.Cylinder(radius=ring_r,\n",
    "                        center=mp.Vector3(ring_x, ring_y))\n",
    "\n",
    "    geometry = [waveguide,\n",
    "                ext_ring,\n",
    "                int_ring]\n",
    "\n",
    "    #define sources\n",
    "    #gaussian pulse with f_central and df\n",
    "    sources = [mp.Source(mp.ContinuousSource(frequency=loop_f_central_resonance[index], width=20),\n",
    "                        component=mp.Ez,\n",
    "                        center=mp.Vector3(source_x, source_y),\n",
    "                        size=mp.Vector3(0, source_width))]\n",
    "\n",
    "    #define boundary conditions\n",
    "    pml_layers = [mp.PML(pml_thickness)]\n",
    "\n",
    "    #Instance simulation with chosen parameters\n",
    "    sim = mp.Simulation(cell_size=cell,\n",
    "                        boundary_layers=pml_layers,\n",
    "                        sources=sources,\n",
    "                        geometry=geometry,\n",
    "                        resolution=resolution)\n",
    "\n",
    "\n",
    "    #Simulate\n",
    "    mp.verbosity(0)\n",
    "    sim.run(until=run_time)\n",
    "\n",
    "    ez_data_wvg = sim.get_array(center=mp.Vector3(0,wvg_y), size=mp.Vector3(sx, 0.001), component=mp.Ez)\n",
    "    print(ez_data_wvg.shape)\n",
    "\n",
    "    x = np.arange(-sx/2, sx/2, 1/resolution)\n",
    "\n",
    "    init_wave = ez_data_wvg[:int(len(ez_data_wvg)/3)][:,0]\n",
    "    init_x = x[:int(len(ez_data_wvg)/3)]\n",
    "\n",
    "    fin_wave = ez_data_wvg[int(2*len(ez_data_wvg)/3):][:,0]\n",
    "    fin_x = x[int(2*len(ez_data_wvg)/3):]\n",
    "\n",
    "    init_peaks, _ = find_peaks(init_wave, height=0.1)\n",
    "    fin_peaks, _ = find_peaks(fin_wave, height=0.0)\n",
    "\n",
    "    init_x_peaks = init_x[init_peaks]\n",
    "    fin_x_peaks = fin_x[fin_peaks]\n",
    "\n",
    "    def func_linear(m, k, phi):\n",
    "        return (m*2*pi + pi/2 -phi)/k\n",
    "\n",
    "    popt_init, pcov_init = curve_fit(func_linear, [i[0] for i in enumerate(init_x_peaks)], init_x_peaks)\n",
    "\n",
    "    k_fit_init = popt_init[0]\n",
    "    phi_init = popt_init[1]%(2*pi)-pi\n",
    "\n",
    "    print(\"K_init: \",k_fit_init,\" phi_init:\", phi_init)\n",
    "\n",
    "    popt_fin, pcov_fin = curve_fit(func_linear, [i[0] for i in enumerate(fin_x_peaks)], fin_x_peaks)\n",
    "\n",
    "    k_fit_fin = popt_fin[0]\n",
    "    phi_fin = popt_fin[1]%(2*pi)-pi\n",
    "\n",
    "    print(\"K_fin: \",k_fit_fin,\" phi_fin:\", phi_fin)\n",
    "\n",
    "\n",
    "    Delta_Phi = phi_fin - phi_init\n",
    "    print(\"Delta Phi:\", Delta_Phi, \", Degrees: \",Delta_Phi*360/(2*pi))\n",
    "    \n",
    "    Delta_Phi_list = np.append(Delta_Phi_list, Delta_Phi)\n",
    "\n",
    "\n"
   ]
  },
  {
   "cell_type": "code",
   "execution_count": null,
   "id": "7e806cec",
   "metadata": {},
   "outputs": [],
   "source": [
    "plt.plot(distances, Delta_Phi_list, \"r*\")\n",
    "\n",
    "plt.xlabel(r\"Distance d [meep units]\")\n",
    "plt.ylabel(r\"$\\Delta \\Phi$\")\n",
    "plt.grid()"
   ]
  }
 ],
 "metadata": {
  "kernelspec": {
   "display_name": "Python 3.9.7 ('lab_photonics')",
   "language": "python",
   "name": "python3"
  },
  "language_info": {
   "codemirror_mode": {
    "name": "ipython",
    "version": 3
   },
   "file_extension": ".py",
   "mimetype": "text/x-python",
   "name": "python",
   "nbconvert_exporter": "python",
   "pygments_lexer": "ipython3",
   "version": "3.9.7"
  },
  "vscode": {
   "interpreter": {
    "hash": "288b77951d47ff79106d43cb52c595832c17b084d38ea661deb9719da70991b6"
   }
  }
 },
 "nbformat": 4,
 "nbformat_minor": 5
}
