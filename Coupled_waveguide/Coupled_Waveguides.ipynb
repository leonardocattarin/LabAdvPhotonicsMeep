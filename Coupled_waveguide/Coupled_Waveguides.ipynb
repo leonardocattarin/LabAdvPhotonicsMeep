{
 "cells": [
  {
   "cell_type": "code",
   "execution_count": 1,
   "id": "9e7b8d9b-bcc0-4331-9ba6-bf43f2b4e0dd",
   "metadata": {},
   "outputs": [],
   "source": [
    "import meep as mp\n",
    "import matplotlib.pyplot as plt\n",
    "import numpy as np\n",
    "from IPython.display import Video\n",
    "from scipy.constants import pi, c\n",
    "from scipy.signal import hilbert, find_peaks\n",
    "from scipy.interpolate import interp1d\n",
    "from scipy.optimize import curve_fit"
   ]
  },
  {
   "cell_type": "code",
   "execution_count": 2,
   "id": "2cabeb63-22c5-497c-bb7c-6e10ade737f6",
   "metadata": {},
   "outputs": [],
   "source": [
    "plt.rcParams['figure.figsize'] = [4,3]\n",
    "plt.rcParams['figure.dpi'] = 150\n",
    "plt.rcParams['savefig.dpi'] = 300\n",
    "\n",
    "plt.rc('font', family='serif')\n",
    "plt.rc('xtick', labelsize='x-small')\n",
    "plt.rc('ytick', labelsize='x-small')"
   ]
  },
  {
   "cell_type": "markdown",
   "id": "7d78ce43",
   "metadata": {},
   "source": [
    "$\\lambda[u] = \\frac{c}{f[u]} \\Rightarrow f[u] = \\frac{c}{\\lambda[u]}$\n",
    "\n",
    "$l[u] = a \\cdot l[mu]$ \n",
    "\n",
    "$t[u] = a/c \\cdot t[mu]$\n",
    "\n",
    "$f[u] = c/a \\cdot f[mu]$\n",
    "\n",
    "$a \\lambda [mu]  = \\frac{c}{f[mu]c/a} \\Rightarrow a \\lambda [mu]  = \\frac{a}{f[mu]} \\Rightarrow f[mu] = \\frac{1}{\\lambda[mu]}$"
   ]
  },
  {
   "cell_type": "markdown",
   "id": "6d2b52a4",
   "metadata": {},
   "source": [
    "Stability relation:\n",
    "\n",
    "$\\frac{c \\Delta t[u]}{\\Delta x[u]}=S \\Rightarrow$\n",
    "\n",
    "$\\frac{c \\Delta t[mu] \\cdot a/c}{\\Delta x[mu] a}=S \\Rightarrow \\frac{\\Delta t[mu] }{\\Delta x[mu] }=S$"
   ]
  },
  {
   "cell_type": "code",
   "execution_count": 3,
   "id": "58ec2f85-9d86-4521-9c21-5f1029260dc1",
   "metadata": {},
   "outputs": [
    {
     "name": "stdout",
     "output_type": "stream",
     "text": [
      "1 meep Length unit is 1.0 um\n",
      "1 meep Time unit is 3.3356409519815204 fs\n",
      "1 meep Frequency unit is 299.792458 THz\n"
     ]
    }
   ],
   "source": [
    "#Define conversion functions/factors to get to/from meep units and kms\n",
    "#just need to specify c value\n",
    "#meep to units\n",
    "#Length factor to transform from meep units to kms\n",
    "l_unit = 1e-6 #1 um\n",
    "t_unit = l_unit/c #time unit is length/c\n",
    "\n",
    "#multiplicative constants to convert frequencies from meep to kms hertz\n",
    "freq_unit = c/l_unit\n",
    "\n",
    "print(\"1 meep Length unit is\", l_unit*1e+6, \"um\")\n",
    "print(\"1 meep Time unit is\", t_unit*1e+15, \"fs\")\n",
    "print(\"1 meep Frequency unit is\", freq_unit*1e-12, \"THz\")"
   ]
  },
  {
   "cell_type": "code",
   "execution_count": 4,
   "id": "74b1649c",
   "metadata": {},
   "outputs": [
    {
     "name": "stdout",
     "output_type": "stream",
     "text": [
      "Pixel per unit:  20\n",
      "Space resolution [meep]:  0.05\n",
      "Time resolution [meep]:  0.025\n",
      "Space resolution [um]:  0.049999999999999996\n",
      "Time resolution [fs]:  0.08339102379953803\n"
     ]
    }
   ],
   "source": [
    "#courant factor\n",
    "S = 0.5\n",
    "\n",
    "#resolution is number of pixels per meep unit\n",
    "resolution = 20\n",
    "\n",
    "#resolutions in meep units\n",
    "space_res = 1/resolution\n",
    "time_res = space_res*S\n",
    "\n",
    "print(\"Pixel per unit: \", resolution)\n",
    "\n",
    "print(\"Space resolution [meep]: \", space_res)\n",
    "print(\"Time resolution [meep]: \", time_res)\n",
    "\n",
    "print(\"Space resolution [um]: \", space_res*l_unit*1e+6)\n",
    "print(\"Time resolution [fs]: \", time_res*t_unit*1e+15)"
   ]
  },
  {
   "cell_type": "markdown",
   "id": "8ea4fb08",
   "metadata": {},
   "source": [
    "# Geometry Definition"
   ]
  },
  {
   "cell_type": "code",
   "execution_count": 5,
   "id": "e264b2f0-b4c8-4512-8fcc-f24bbbc648df",
   "metadata": {},
   "outputs": [],
   "source": [
    "#define cell size and resolution\n",
    "#Cell size is in meep units\n",
    "#center is in (0,0), ranges in x=(-sx/2,sx/2)=(-8,8), y=(-sy/2,sy/2)=(-4,4)\n",
    "sx = 90\n",
    "sy = 7\n",
    "\n",
    "cell = mp.Vector3(sx, sy)\n",
    "\n",
    "#boundary conditions thickness\n",
    "pml_thickness = 1.0\n",
    "\n",
    "#automatic positioning of boundaries\n",
    "x_bound_up = sx/2 - pml_thickness\n",
    "x_bound_low = -sx/2 + pml_thickness\n",
    "\n",
    "y_bound_up = sy/2 - pml_thickness\n",
    "y_bound_low = -sy/2 + pml_thickness"
   ]
  },
  {
   "cell_type": "markdown",
   "id": "fa3f5324",
   "metadata": {},
   "source": [
    "# Distance Dependence"
   ]
  },
  {
   "cell_type": "code",
   "execution_count": 6,
   "id": "a2615a1c-3364-4056-9661-48cf9c0f08c1",
   "metadata": {},
   "outputs": [
    {
     "name": "stdout",
     "output_type": "stream",
     "text": [
      "###############\n",
      "## Beginning Iteration 0 out of 13\n",
      "#Waveguide gap: 0.0 meep units\n",
      "#Source frequency: 44.9688687 THz\n",
      "#Source vacuum wavelength: 6.666666666666667 um\n",
      "#Source background material wavelength: 1.7316017316017314 um\n",
      "#Source waveguide wavelength: 1.4814814814814814 um\n"
     ]
    },
    {
     "data": {
      "application/vnd.jupyter.widget-view+json": {
       "model_id": "7c1724d231fd4c9ea0fb73f0d7097bb9",
       "version_major": 2,
       "version_minor": 0
      },
      "text/plain": [
       "FloatProgress(value=0.0, description='0% done ', max=500.0)"
      ]
     },
     "metadata": {},
     "output_type": "display_data"
    },
    {
     "name": "stdout",
     "output_type": "stream",
     "text": [
      "(1800, 2)\n",
      "(1800, 2)\n",
      "#coupling length: 8.349999999999454 Meep Units\n",
      "#coupling length: 8.349999999999454 um\n",
      "## Iteration Ending\n",
      "###############\n",
      "## Beginning Iteration 1 out of 13\n",
      "#Waveguide gap: 0.1 meep units\n",
      "#Source frequency: 44.9688687 THz\n",
      "#Source vacuum wavelength: 6.666666666666667 um\n",
      "#Source background material wavelength: 1.7316017316017314 um\n",
      "#Source waveguide wavelength: 1.4814814814814814 um\n"
     ]
    },
    {
     "data": {
      "application/vnd.jupyter.widget-view+json": {
       "model_id": "6058b96403d949799be1d12a059958f1",
       "version_major": 2,
       "version_minor": 0
      },
      "text/plain": [
       "FloatProgress(value=0.0, description='0% done ', max=500.0)"
      ]
     },
     "metadata": {},
     "output_type": "display_data"
    },
    {
     "name": "stdout",
     "output_type": "stream",
     "text": [
      "(1800, 2)\n",
      "(1800, 2)\n",
      "#coupling length: 8.59999999999944 Meep Units\n",
      "#coupling length: 8.59999999999944 um\n",
      "## Iteration Ending\n",
      "###############\n",
      "## Beginning Iteration 2 out of 13\n",
      "#Waveguide gap: 0.2 meep units\n",
      "#Source frequency: 44.9688687 THz\n",
      "#Source vacuum wavelength: 6.666666666666667 um\n",
      "#Source background material wavelength: 1.7316017316017314 um\n",
      "#Source waveguide wavelength: 1.4814814814814814 um\n"
     ]
    },
    {
     "data": {
      "application/vnd.jupyter.widget-view+json": {
       "model_id": "b43bc16e3d294f838ad628b6bd6cf5bc",
       "version_major": 2,
       "version_minor": 0
      },
      "text/plain": [
       "FloatProgress(value=0.0, description='0% done ', max=500.0)"
      ]
     },
     "metadata": {},
     "output_type": "display_data"
    },
    {
     "name": "stdout",
     "output_type": "stream",
     "text": [
      "(1800, 2)\n",
      "(1800, 2)\n",
      "#coupling length: 10.049999999999358 Meep Units\n",
      "#coupling length: 10.049999999999356 um\n",
      "## Iteration Ending\n",
      "###############\n",
      "## Beginning Iteration 3 out of 13\n",
      "#Waveguide gap: 0.30000000000000004 meep units\n",
      "#Source frequency: 44.9688687 THz\n",
      "#Source vacuum wavelength: 6.666666666666667 um\n",
      "#Source background material wavelength: 1.7316017316017314 um\n",
      "#Source waveguide wavelength: 1.4814814814814814 um\n"
     ]
    },
    {
     "data": {
      "application/vnd.jupyter.widget-view+json": {
       "model_id": "4d09331a72044fb683a894322da80337",
       "version_major": 2,
       "version_minor": 0
      },
      "text/plain": [
       "FloatProgress(value=0.0, description='0% done ', max=500.0)"
      ]
     },
     "metadata": {},
     "output_type": "display_data"
    },
    {
     "name": "stdout",
     "output_type": "stream",
     "text": [
      "(1800, 2)\n",
      "(1800, 2)\n",
      "#coupling length: 11.699999999999264 Meep Units\n",
      "#coupling length: 11.699999999999262 um\n",
      "## Iteration Ending\n",
      "###############\n",
      "## Beginning Iteration 4 out of 13\n",
      "#Waveguide gap: 0.4 meep units\n",
      "#Source frequency: 44.9688687 THz\n",
      "#Source vacuum wavelength: 6.666666666666667 um\n",
      "#Source background material wavelength: 1.7316017316017314 um\n",
      "#Source waveguide wavelength: 1.4814814814814814 um\n"
     ]
    },
    {
     "data": {
      "application/vnd.jupyter.widget-view+json": {
       "model_id": "d29ac4480e2643b084f80f64104e2099",
       "version_major": 2,
       "version_minor": 0
      },
      "text/plain": [
       "FloatProgress(value=0.0, description='0% done ', max=500.0)"
      ]
     },
     "metadata": {},
     "output_type": "display_data"
    },
    {
     "name": "stdout",
     "output_type": "stream",
     "text": [
      "(1800, 2)\n",
      "(1800, 2)\n",
      "#coupling length: 13.599999999999156 Meep Units\n",
      "#coupling length: 13.599999999999154 um\n",
      "## Iteration Ending\n",
      "###############\n",
      "## Beginning Iteration 5 out of 13\n",
      "#Waveguide gap: 0.5 meep units\n",
      "#Source frequency: 44.9688687 THz\n",
      "#Source vacuum wavelength: 6.666666666666667 um\n",
      "#Source background material wavelength: 1.7316017316017314 um\n",
      "#Source waveguide wavelength: 1.4814814814814814 um\n"
     ]
    },
    {
     "data": {
      "application/vnd.jupyter.widget-view+json": {
       "model_id": "2eb44011954a4e13990a77510043511c",
       "version_major": 2,
       "version_minor": 0
      },
      "text/plain": [
       "FloatProgress(value=0.0, description='0% done ', max=500.0)"
      ]
     },
     "metadata": {},
     "output_type": "display_data"
    },
    {
     "name": "stdout",
     "output_type": "stream",
     "text": [
      "(1800, 2)\n",
      "(1800, 2)\n",
      "#coupling length: 15.79999999999903 Meep Units\n",
      "#coupling length: 15.799999999999029 um\n",
      "## Iteration Ending\n",
      "###############\n",
      "## Beginning Iteration 6 out of 13\n",
      "#Waveguide gap: 0.6000000000000001 meep units\n",
      "#Source frequency: 44.9688687 THz\n",
      "#Source vacuum wavelength: 6.666666666666667 um\n",
      "#Source background material wavelength: 1.7316017316017314 um\n",
      "#Source waveguide wavelength: 1.4814814814814814 um\n"
     ]
    },
    {
     "data": {
      "application/vnd.jupyter.widget-view+json": {
       "model_id": "436493bfd13340a4a29de3df3473a3ff",
       "version_major": 2,
       "version_minor": 0
      },
      "text/plain": [
       "FloatProgress(value=0.0, description='0% done ', max=500.0)"
      ]
     },
     "metadata": {},
     "output_type": "display_data"
    },
    {
     "name": "stdout",
     "output_type": "stream",
     "text": [
      "(1800, 2)\n",
      "(1800, 2)\n",
      "#coupling length: 18.44999999999888 Meep Units\n",
      "#coupling length: 18.44999999999888 um\n",
      "## Iteration Ending\n",
      "###############\n",
      "## Beginning Iteration 7 out of 13\n",
      "#Waveguide gap: 0.7000000000000001 meep units\n",
      "#Source frequency: 44.9688687 THz\n",
      "#Source vacuum wavelength: 6.666666666666667 um\n",
      "#Source background material wavelength: 1.7316017316017314 um\n",
      "#Source waveguide wavelength: 1.4814814814814814 um\n"
     ]
    },
    {
     "data": {
      "application/vnd.jupyter.widget-view+json": {
       "model_id": "f7305b17358342a99b77d504fe05cf37",
       "version_major": 2,
       "version_minor": 0
      },
      "text/plain": [
       "FloatProgress(value=0.0, description='0% done ', max=500.0)"
      ]
     },
     "metadata": {},
     "output_type": "display_data"
    },
    {
     "name": "stdout",
     "output_type": "stream",
     "text": [
      "(1800, 2)\n",
      "(1800, 2)\n",
      "#coupling length: 21.549999999998704 Meep Units\n",
      "#coupling length: 21.549999999998704 um\n",
      "## Iteration Ending\n",
      "###############\n",
      "## Beginning Iteration 8 out of 13\n",
      "#Waveguide gap: 0.8 meep units\n",
      "#Source frequency: 44.9688687 THz\n",
      "#Source vacuum wavelength: 6.666666666666667 um\n",
      "#Source background material wavelength: 1.7316017316017314 um\n",
      "#Source waveguide wavelength: 1.4814814814814814 um\n"
     ]
    },
    {
     "data": {
      "application/vnd.jupyter.widget-view+json": {
       "model_id": "df3a9bd80dce4aef957116d56436a892",
       "version_major": 2,
       "version_minor": 0
      },
      "text/plain": [
       "FloatProgress(value=0.0, description='0% done ', max=500.0)"
      ]
     },
     "metadata": {},
     "output_type": "display_data"
    },
    {
     "name": "stdout",
     "output_type": "stream",
     "text": [
      "(1800, 2)\n",
      "(1800, 2)\n",
      "#coupling length: 25.1499999999985 Meep Units\n",
      "#coupling length: 25.149999999998496 um\n",
      "## Iteration Ending\n",
      "###############\n",
      "## Beginning Iteration 9 out of 13\n",
      "#Waveguide gap: 0.9 meep units\n",
      "#Source frequency: 44.9688687 THz\n",
      "#Source vacuum wavelength: 6.666666666666667 um\n",
      "#Source background material wavelength: 1.7316017316017314 um\n",
      "#Source waveguide wavelength: 1.4814814814814814 um\n"
     ]
    },
    {
     "data": {
      "application/vnd.jupyter.widget-view+json": {
       "model_id": "5c371a2545dd45a6b16d6fee7f702f64",
       "version_major": 2,
       "version_minor": 0
      },
      "text/plain": [
       "FloatProgress(value=0.0, description='0% done ', max=500.0)"
      ]
     },
     "metadata": {},
     "output_type": "display_data"
    },
    {
     "name": "stdout",
     "output_type": "stream",
     "text": [
      "(1800, 2)\n",
      "(1800, 2)\n",
      "#coupling length: 29.749999999998238 Meep Units\n",
      "#coupling length: 29.749999999998238 um\n",
      "## Iteration Ending\n",
      "###############\n",
      "## Beginning Iteration 10 out of 13\n",
      "#Waveguide gap: 1.0 meep units\n",
      "#Source frequency: 44.9688687 THz\n",
      "#Source vacuum wavelength: 6.666666666666667 um\n",
      "#Source background material wavelength: 1.7316017316017314 um\n",
      "#Source waveguide wavelength: 1.4814814814814814 um\n"
     ]
    },
    {
     "data": {
      "application/vnd.jupyter.widget-view+json": {
       "model_id": "7042d45f9b204fbea3541d1de1b7df53",
       "version_major": 2,
       "version_minor": 0
      },
      "text/plain": [
       "FloatProgress(value=0.0, description='0% done ', max=500.0)"
      ]
     },
     "metadata": {},
     "output_type": "display_data"
    },
    {
     "name": "stdout",
     "output_type": "stream",
     "text": [
      "(1800, 2)\n",
      "(1800, 2)\n",
      "#coupling length: 34.99999999999794 Meep Units\n",
      "#coupling length: 34.99999999999794 um\n",
      "## Iteration Ending\n",
      "###############\n",
      "## Beginning Iteration 11 out of 13\n",
      "#Waveguide gap: 1.1 meep units\n",
      "#Source frequency: 44.9688687 THz\n",
      "#Source vacuum wavelength: 6.666666666666667 um\n",
      "#Source background material wavelength: 1.7316017316017314 um\n",
      "#Source waveguide wavelength: 1.4814814814814814 um\n"
     ]
    },
    {
     "data": {
      "application/vnd.jupyter.widget-view+json": {
       "model_id": "a576ca3dc5bd401c8356c984e5dca85d",
       "version_major": 2,
       "version_minor": 0
      },
      "text/plain": [
       "FloatProgress(value=0.0, description='0% done ', max=500.0)"
      ]
     },
     "metadata": {},
     "output_type": "display_data"
    },
    {
     "name": "stdout",
     "output_type": "stream",
     "text": [
      "(1800, 2)\n",
      "(1800, 2)\n",
      "#coupling length: 40.899999999997604 Meep Units\n",
      "#coupling length: 40.8999999999976 um\n",
      "## Iteration Ending\n",
      "###############\n",
      "## Beginning Iteration 12 out of 13\n",
      "#Waveguide gap: 1.2000000000000002 meep units\n",
      "#Source frequency: 44.9688687 THz\n",
      "#Source vacuum wavelength: 6.666666666666667 um\n",
      "#Source background material wavelength: 1.7316017316017314 um\n",
      "#Source waveguide wavelength: 1.4814814814814814 um\n"
     ]
    },
    {
     "data": {
      "application/vnd.jupyter.widget-view+json": {
       "model_id": "6b2a7beab65348eda7b79a5b9ed3b832",
       "version_major": 2,
       "version_minor": 0
      },
      "text/plain": [
       "FloatProgress(value=0.0, description='0% done ', max=500.0)"
      ]
     },
     "metadata": {},
     "output_type": "display_data"
    },
    {
     "name": "stdout",
     "output_type": "stream",
     "text": [
      "(1800, 2)\n",
      "(1800, 2)\n",
      "#coupling length: 47.9499999999972 Meep Units\n",
      "#coupling length: 47.9499999999972 um\n",
      "## Iteration Ending\n"
     ]
    }
   ],
   "source": [
    "#Iteration on different parameters values\n",
    "#Parameters: gap d, source frequency f, waveguides widths wvg_1_width, wvg_2_width\n",
    "#waveguide refractive index\n",
    "\n",
    "gaps_values = np.arange(0, 1.3, 0.1)\n",
    "gaps_number = len(gaps_values)\n",
    "#np.array([0, 0.03, 0.04, 0.05, 0.06, 0.07, 0.08, 0.09, 0.1, 0.12])\n",
    "\n",
    "lengths = np.array([])\n",
    "\n",
    "for index_d, d in enumerate(gaps_values):\n",
    "    print(\"###############\")\n",
    "    print(\"## Beginning Iteration\", index_d, \"out of\", gaps_number)\n",
    "    print(\"#Waveguide gap:\", d, \"meep units\")\n",
    "    #Geometry and sources definition\n",
    "    #each block has 3d widths, vector for center and material\n",
    "    #permettivities are expressed as relatives. otherwise can use refractive index\n",
    "\n",
    "    #waveguides widths\n",
    "    wvg_1_width = 1\n",
    "    wvg_2_width = wvg_1_width\n",
    "\n",
    "    #waveguides center positions\n",
    "    wvg_1_y = 0.5\n",
    "    wvg_2_y = wvg_1_y - wvg_1_width/2 - d - wvg_2_width/2\n",
    "\n",
    "    #waveguide material parameters\n",
    "    index_bgnd = 3.85\n",
    "    index_1 = 4.5\n",
    "    index_2 = index_1\n",
    "\n",
    "    #Source parameters: frequency and turn on time [meep]\n",
    "    f_source = 0.15 \n",
    "    t_source = 1\n",
    "    \n",
    "    #source position\n",
    "    x_source = -sx/2 + pml_thickness + 0.3\n",
    "    y_source = wvg_1_y\n",
    "\n",
    "    src_width = wvg_1_width\n",
    "\n",
    "    print(\"#Source frequency:\", f_source*freq_unit*1e-12, \"THz\")\n",
    "    print(\"#Source vacuum wavelength:\", c/(f_source*freq_unit)*1e+6, \"um\")\n",
    "    print(\"#Source background material wavelength:\", (c/index_bgnd)/(f_source*freq_unit)*1e+6, \"um\")\n",
    "    print(\"#Source waveguide wavelength:\", (c/index_1)/(f_source*freq_unit)*1e+6, \"um\")\n",
    "\n",
    "    #define geometry\n",
    "    geometry = [mp.Block(mp.Vector3(mp.inf,mp.inf,mp.inf),\n",
    "                         center=mp.Vector3(0, 0),\n",
    "                         material=mp.Medium(index=index_bgnd)),\n",
    "        \n",
    "        \n",
    "                mp.Block(mp.Vector3(mp.inf,wvg_1_width,mp.inf),\n",
    "                         center=mp.Vector3(0, wvg_1_y),\n",
    "                         material=mp.Medium(index=index_1)),\n",
    "\n",
    "                mp.Block(mp.Vector3(mp.inf,wvg_2_width,mp.inf),\n",
    "                         center=mp.Vector3(0, wvg_2_y),\n",
    "                         material=mp.Medium(index=index_2))\n",
    "               ]\n",
    "\n",
    "    #define sources objects\n",
    "    sources = [mp.Source(mp.ContinuousSource(frequency=f_source, width=t_source),\n",
    "                         component=mp.Ez,\n",
    "                         center=mp.Vector3(x_source,y_source),\n",
    "                         size=mp.Vector3(0,src_width))]\n",
    "\n",
    "    #define boundary conditions\n",
    "    pml_layers = [mp.PML(pml_thickness)]\n",
    "\n",
    "\n",
    "    #Instance simulation with chosen parameters\n",
    "    sim = mp.Simulation(cell_size=cell,\n",
    "                        boundary_layers=pml_layers,\n",
    "                        geometry=geometry,\n",
    "                        sources=sources,\n",
    "                        resolution=resolution)\n",
    "\n",
    "    mp.verbosity(0)\n",
    "    sim.run(until=500)\n",
    "\n",
    "    #Get Ez profiles in waveguides\n",
    "    ez_data_wvg_1 = sim.get_array(center=mp.Vector3(0,wvg_1_y), size=mp.Vector3(sx, 0.01), component=mp.Ez)\n",
    "    print(ez_data_wvg_1.shape)\n",
    "\n",
    "    ez_data_wvg_2 = sim.get_array(center=mp.Vector3(0,wvg_2_y), size=mp.Vector3(sx, 0.01), component=mp.Ez)\n",
    "    print(ez_data_wvg_2.shape)\n",
    "\n",
    "    x = np.arange(-sx/2, sx/2, 1/resolution)\n",
    "\n",
    "    #envelopes calculation using Hilbert transform\n",
    "    envelope_1 = np.abs(hilbert(ez_data_wvg_1[:,0]))\n",
    "    envelope_2 = np.abs(hilbert(ez_data_wvg_2[:,0]))\n",
    "\n",
    "    max_val = np.amax(envelope_1)\n",
    "    max_index = np.argmax(envelope_1)\n",
    "\n",
    "    threshold = 0.15\n",
    "\n",
    "    #logical mask to get only values with e field under 15% of original value\n",
    "    values_mask = (envelope_1<threshold*max_val) & (x>x_source) & (x<x_bound_up)\n",
    "    try:  \n",
    "        l_coupling = (x[values_mask])[0]-x_source\n",
    "        print(\"#coupling length:\", l_coupling, \"Meep Units\")\n",
    "        print(\"#coupling length:\", l_coupling*l_unit*1e+6, \"um\")\n",
    "        lengths = np.append(lengths, l_coupling)\n",
    "    except:\n",
    "        print(\"#Problem while calculating the coupling length\")\n",
    "    \n",
    "    print(\"## Iteration Ending\")"
   ]
  },
  {
   "cell_type": "code",
   "execution_count": 7,
   "id": "299bd264-8fc1-4870-84c5-2fc8e5d80a51",
   "metadata": {},
   "outputs": [
    {
     "name": "stdout",
     "output_type": "stream",
     "text": [
      "Param 1: 7.289729713465962 1.5662868966427932\n",
      "Param 2: 6.019088272033753 1.7011447645965445 1.7682185938021262\n",
      "Param 3: 26.703290798081163 -0.07142251572967506 8.756593374950558\n"
     ]
    },
    {
     "data": {
      "image/png": "[encoded data removed]",
      "text/plain": [
       "<Figure size 600x450 with 1 Axes>"
      ]
     },
     "metadata": {
      "needs_background": "light"
     },
     "output_type": "display_data"
    }
   ],
   "source": [
    "fig = plt.figure()\n",
    "\n",
    "plt.plot(gaps_values, lengths, \"r*\")\n",
    "\n",
    "plt.xlabel(r\"Waveguides distances $d$ [meep units]\")\n",
    "plt.ylabel(r\"Coupling length $l_c$ [meep units]\")\n",
    "plt.grid()\n",
    "\n",
    "#maybe use waveguide 2's field to get coupling distance?\n",
    "\n",
    "def func_1(x, a, b):\n",
    "    return a*np.exp(b*x)\n",
    "\n",
    "def func_2(x, a, b, c):\n",
    "    return a*np.exp(b*x) + c\n",
    "\n",
    "def func_3(x, a, b, c):\n",
    "    return a*x**2 +b*x + c\n",
    "\n",
    "popt_1, pcov_1 = curve_fit(func_1, gaps_values, lengths)\n",
    "popt_2, pcov_2 = curve_fit(func_2, gaps_values, lengths)\n",
    "popt_3, pcov_3 = curve_fit(func_3, gaps_values, lengths)\n",
    "\n",
    "dummy_gaps = np.arange(np.amin(gaps_values), np.amax(gaps_values), 0.01)\n",
    "\n",
    "plt.plot(dummy_gaps, func_1(dummy_gaps, *popt_1), label=r\"$a \\cdot exp(bx)$\")\n",
    "plt.plot(dummy_gaps, func_2(dummy_gaps, *popt_2), label=r\"$a \\cdot exp(bx)+c$\")\n",
    "plt.plot(dummy_gaps, func_3(dummy_gaps, *popt_3), label=r\"$a x^2 +bx + c$\")\n",
    "\n",
    "plt.legend()\n",
    "\n",
    "print(\"Param 1:\",*popt_1)\n",
    "print(\"Param 2:\",*popt_2)\n",
    "print(\"Param 3:\",*popt_3)\n"
   ]
  },
  {
   "cell_type": "code",
   "execution_count": null,
   "id": "94085807",
   "metadata": {},
   "outputs": [],
   "source": []
  },
  {
   "cell_type": "markdown",
   "id": "0e3176bd-4240-44d7-8df0-d2bfaefa82bf",
   "metadata": {},
   "source": [
    "# Width Dependence\n",
    "Linearity breaks under 0.6 width"
   ]
  },
  {
   "cell_type": "code",
   "execution_count": 8,
   "id": "42cffd27",
   "metadata": {},
   "outputs": [
    {
     "name": "stdout",
     "output_type": "stream",
     "text": [
      "###############\n",
      "## Beginning Iteration  0  out of  9\n",
      "#Waveguide gap: 0.6 meep units\n",
      "#Waveguide width: 0.5 meep units\n",
      "#Source frequency: 44.9688687 THz\n",
      "#Source vacuum wavelength: 6.666666666666667 um\n",
      "#Source background material wavelength: 1.7316017316017314 um\n",
      "#Source waveguide wavelength: 1.6666666666666667 um\n"
     ]
    },
    {
     "data": {
      "application/vnd.jupyter.widget-view+json": {
       "model_id": "051b62d988584df180bcbc352034075f",
       "version_major": 2,
       "version_minor": 0
      },
      "text/plain": [
       "FloatProgress(value=0.0, description='0% done ', max=300.0)"
      ]
     },
     "metadata": {},
     "output_type": "display_data"
    },
    {
     "name": "stdout",
     "output_type": "stream",
     "text": [
      "(1800, 2)\n",
      "(1800, 2)\n",
      "#coupling length: 9.799999999999372 Meep Units\n",
      "#coupling length: 9.79999999999937 um\n",
      "## Iteration Ending\n",
      "###############\n",
      "###############\n",
      "## Beginning Iteration  1  out of  9\n",
      "#Waveguide gap: 0.6 meep units\n",
      "#Waveguide width: 0.6 meep units\n",
      "#Source frequency: 44.9688687 THz\n",
      "#Source vacuum wavelength: 6.666666666666667 um\n",
      "#Source background material wavelength: 1.7316017316017314 um\n",
      "#Source waveguide wavelength: 1.6666666666666667 um\n"
     ]
    },
    {
     "data": {
      "application/vnd.jupyter.widget-view+json": {
       "model_id": "1d9f290bed704e2a9316f279cc50ce73",
       "version_major": 2,
       "version_minor": 0
      },
      "text/plain": [
       "FloatProgress(value=0.0, description='0% done ', max=300.0)"
      ]
     },
     "metadata": {},
     "output_type": "display_data"
    },
    {
     "name": "stdout",
     "output_type": "stream",
     "text": [
      "(1800, 2)\n",
      "(1800, 2)\n",
      "#coupling length: 9.899999999999366 Meep Units\n",
      "#coupling length: 9.899999999999366 um\n",
      "## Iteration Ending\n",
      "###############\n",
      "###############\n",
      "## Beginning Iteration  2  out of  9\n",
      "#Waveguide gap: 0.6 meep units\n",
      "#Waveguide width: 0.7 meep units\n",
      "#Source frequency: 44.9688687 THz\n",
      "#Source vacuum wavelength: 6.666666666666667 um\n",
      "#Source background material wavelength: 1.7316017316017314 um\n",
      "#Source waveguide wavelength: 1.6666666666666667 um\n"
     ]
    },
    {
     "data": {
      "application/vnd.jupyter.widget-view+json": {
       "model_id": "2eaea118dc53412eb2013cc1a84b74fe",
       "version_major": 2,
       "version_minor": 0
      },
      "text/plain": [
       "FloatProgress(value=0.0, description='0% done ', max=300.0)"
      ]
     },
     "metadata": {},
     "output_type": "display_data"
    },
    {
     "name": "stdout",
     "output_type": "stream",
     "text": [
      "(1800, 2)\n",
      "(1800, 2)\n",
      "#coupling length: 11.59999999999927 Meep Units\n",
      "#coupling length: 11.59999999999927 um\n",
      "## Iteration Ending\n",
      "###############\n",
      "###############\n",
      "## Beginning Iteration  3  out of  9\n",
      "#Waveguide gap: 0.6 meep units\n",
      "#Waveguide width: 0.7999999999999999 meep units\n",
      "#Source frequency: 44.9688687 THz\n",
      "#Source vacuum wavelength: 6.666666666666667 um\n",
      "#Source background material wavelength: 1.7316017316017314 um\n",
      "#Source waveguide wavelength: 1.6666666666666667 um\n"
     ]
    },
    {
     "data": {
      "application/vnd.jupyter.widget-view+json": {
       "model_id": "05f2f3b10eb34323a256f6bc9762e5b7",
       "version_major": 2,
       "version_minor": 0
      },
      "text/plain": [
       "FloatProgress(value=0.0, description='0% done ', max=300.0)"
      ]
     },
     "metadata": {},
     "output_type": "display_data"
    },
    {
     "name": "stdout",
     "output_type": "stream",
     "text": [
      "(1800, 2)\n",
      "(1800, 2)\n",
      "#coupling length: 14.849999999999085 Meep Units\n",
      "#coupling length: 14.849999999999083 um\n",
      "## Iteration Ending\n",
      "###############\n",
      "###############\n",
      "## Beginning Iteration  4  out of  9\n",
      "#Waveguide gap: 0.6 meep units\n",
      "#Waveguide width: 0.8999999999999999 meep units\n",
      "#Source frequency: 44.9688687 THz\n",
      "#Source vacuum wavelength: 6.666666666666667 um\n",
      "#Source background material wavelength: 1.7316017316017314 um\n",
      "#Source waveguide wavelength: 1.6666666666666667 um\n"
     ]
    },
    {
     "data": {
      "application/vnd.jupyter.widget-view+json": {
       "model_id": "a768717e9d284c36820aa668320bf039",
       "version_major": 2,
       "version_minor": 0
      },
      "text/plain": [
       "FloatProgress(value=0.0, description='0% done ', max=300.0)"
      ]
     },
     "metadata": {},
     "output_type": "display_data"
    },
    {
     "name": "stdout",
     "output_type": "stream",
     "text": [
      "(1800, 2)\n",
      "(1800, 2)\n",
      "#coupling length: 16.599999999998985 Meep Units\n",
      "#coupling length: 16.599999999998985 um\n",
      "## Iteration Ending\n",
      "###############\n",
      "###############\n",
      "## Beginning Iteration  5  out of  9\n",
      "#Waveguide gap: 0.6 meep units\n",
      "#Waveguide width: 0.9999999999999999 meep units\n",
      "#Source frequency: 44.9688687 THz\n",
      "#Source vacuum wavelength: 6.666666666666667 um\n",
      "#Source background material wavelength: 1.7316017316017314 um\n",
      "#Source waveguide wavelength: 1.6666666666666667 um\n"
     ]
    },
    {
     "data": {
      "application/vnd.jupyter.widget-view+json": {
       "model_id": "bdd2e5e794c741e98b4052d924e9bf22",
       "version_major": 2,
       "version_minor": 0
      },
      "text/plain": [
       "FloatProgress(value=0.0, description='0% done ', max=300.0)"
      ]
     },
     "metadata": {},
     "output_type": "display_data"
    },
    {
     "name": "stdout",
     "output_type": "stream",
     "text": [
      "(1800, 2)\n",
      "(1800, 2)\n",
      "#coupling length: 19.999999999998792 Meep Units\n",
      "#coupling length: 19.999999999998792 um\n",
      "## Iteration Ending\n",
      "###############\n",
      "###############\n",
      "## Beginning Iteration  6  out of  9\n",
      "#Waveguide gap: 0.6 meep units\n",
      "#Waveguide width: 1.0999999999999999 meep units\n",
      "#Source frequency: 44.9688687 THz\n",
      "#Source vacuum wavelength: 6.666666666666667 um\n",
      "#Source background material wavelength: 1.7316017316017314 um\n",
      "#Source waveguide wavelength: 1.6666666666666667 um\n"
     ]
    },
    {
     "data": {
      "application/vnd.jupyter.widget-view+json": {
       "model_id": "dabc24c7ebd048fcac7f7d1824e11514",
       "version_major": 2,
       "version_minor": 0
      },
      "text/plain": [
       "FloatProgress(value=0.0, description='0% done ', max=300.0)"
      ]
     },
     "metadata": {},
     "output_type": "display_data"
    },
    {
     "name": "stdout",
     "output_type": "stream",
     "text": [
      "(1800, 2)\n",
      "(1800, 2)\n",
      "#coupling length: 23.299999999998604 Meep Units\n",
      "#coupling length: 23.299999999998604 um\n",
      "## Iteration Ending\n",
      "###############\n",
      "###############\n",
      "## Beginning Iteration  7  out of  9\n",
      "#Waveguide gap: 0.6 meep units\n",
      "#Waveguide width: 1.1999999999999997 meep units\n",
      "#Source frequency: 44.9688687 THz\n",
      "#Source vacuum wavelength: 6.666666666666667 um\n",
      "#Source background material wavelength: 1.7316017316017314 um\n",
      "#Source waveguide wavelength: 1.6666666666666667 um\n"
     ]
    },
    {
     "data": {
      "application/vnd.jupyter.widget-view+json": {
       "model_id": "a641e8cd4f02485c8ad2458430b77800",
       "version_major": 2,
       "version_minor": 0
      },
      "text/plain": [
       "FloatProgress(value=0.0, description='0% done ', max=300.0)"
      ]
     },
     "metadata": {},
     "output_type": "display_data"
    },
    {
     "name": "stdout",
     "output_type": "stream",
     "text": [
      "(1800, 2)\n",
      "(1800, 2)\n",
      "#coupling length: 26.54999999999842 Meep Units\n",
      "#coupling length: 26.54999999999842 um\n",
      "## Iteration Ending\n",
      "###############\n",
      "###############\n",
      "## Beginning Iteration  8  out of  9\n",
      "#Waveguide gap: 0.6 meep units\n",
      "#Waveguide width: 1.2999999999999998 meep units\n",
      "#Source frequency: 44.9688687 THz\n",
      "#Source vacuum wavelength: 6.666666666666667 um\n",
      "#Source background material wavelength: 1.7316017316017314 um\n",
      "#Source waveguide wavelength: 1.6666666666666667 um\n"
     ]
    },
    {
     "data": {
      "application/vnd.jupyter.widget-view+json": {
       "model_id": "4ac079cd614f44ecb3cfebafcaed1b4e",
       "version_major": 2,
       "version_minor": 0
      },
      "text/plain": [
       "FloatProgress(value=0.0, description='0% done ', max=300.0)"
      ]
     },
     "metadata": {},
     "output_type": "display_data"
    },
    {
     "name": "stdout",
     "output_type": "stream",
     "text": [
      "(1800, 2)\n",
      "(1800, 2)\n",
      "#coupling length: 28.249999999998323 Meep Units\n",
      "#coupling length: 28.249999999998323 um\n",
      "## Iteration Ending\n",
      "###############\n"
     ]
    }
   ],
   "source": [
    "#Iteration on different parameters values\n",
    "#Parameters: gap d, source frequency f, waveguides widths wvg_1_width, wvg_2_width\n",
    "#waveguide refractive index\n",
    "\n",
    "widths_values = np.arange(0.5, 1.4, 0.1)\n",
    "widths_number = len(widths_values)\n",
    "#np.array([0, 0.03, 0.04, 0.05, 0.06, 0.07, 0.08, 0.09, 0.1, 0.12])\n",
    "\n",
    "lengths = np.array([])\n",
    "\n",
    "d = 0.6\n",
    "\n",
    "for index_w,w in enumerate(widths_values):\n",
    "    print(\"###############\")\n",
    "    print(\"## Beginning Iteration \",index_w,\" out of \", widths_number)\n",
    "    print(\"#Waveguide gap:\", d, \"meep units\")\n",
    "    print(\"#Waveguide width:\", w, \"meep units\")\n",
    "    #Geometry and sources definition\n",
    "    #each block has 3d widths, vector for center and material\n",
    "    #permettivities are expressed as relatives. otherwise can use refractive index\n",
    "\n",
    "    #waveguides widths\n",
    "    wvg_1_width = w\n",
    "    wvg_2_width = wvg_1_width\n",
    "\n",
    "    #waveguides center positions\n",
    "    wvg_1_y = d/2+w/2\n",
    "    wvg_2_y = wvg_1_y - wvg_1_width/2 - d - wvg_2_width/2\n",
    "\n",
    "    #waveguide material parameters\n",
    "    index_bgnd = 3.85\n",
    "    index_1 = 4\n",
    "    index_2 = index_1\n",
    "\n",
    "    #print(\"#Waveguide refractive index: \", np.sqrt(eps))\n",
    "\n",
    "    #Source parameters: frequency and turn on time [meep]\n",
    "    f_source = 0.15 \n",
    "    #exponential time to turn on source, to avoid steep jumps\n",
    "    t_source = 1\n",
    "    src_width = wvg_1_width\n",
    "\n",
    "    #source position\n",
    "    x_source = -sx/2 + pml_thickness + 0.3\n",
    "    y_source = wvg_1_y\n",
    "\n",
    "    print(\"#Source frequency:\", f_source*freq_unit*1e-12, \"THz\")\n",
    "    print(\"#Source vacuum wavelength:\", c/(f_source*freq_unit)*1e+6, \"um\")\n",
    "    print(\"#Source background material wavelength:\", (c/index_bgnd)/(f_source*freq_unit)*1e+6, \"um\")\n",
    "    print(\"#Source waveguide wavelength:\", (c/index_1)/(f_source*freq_unit)*1e+6, \"um\")\n",
    "\n",
    "    #define geometry\n",
    "    geometry = [mp.Block(mp.Vector3(mp.inf,mp.inf,mp.inf),\n",
    "                         center=mp.Vector3(0, 0),\n",
    "                         material=mp.Medium(index=index_bgnd)),\n",
    "        \n",
    "        \n",
    "                mp.Block(mp.Vector3(mp.inf,wvg_1_width,mp.inf),\n",
    "                         center=mp.Vector3(0, wvg_1_y),\n",
    "                         material=mp.Medium(index=index_1)),\n",
    "\n",
    "                mp.Block(mp.Vector3(mp.inf,wvg_2_width,mp.inf),\n",
    "                         center=mp.Vector3(0, wvg_2_y),\n",
    "                         material=mp.Medium(index=index_2))\n",
    "               ]\n",
    "\n",
    "    #define sources objects\n",
    "    sources = [mp.Source(mp.ContinuousSource(frequency=f_source, width=t_source),\n",
    "                         component=mp.Ez,\n",
    "                         center=mp.Vector3(x_source,y_source),\n",
    "                         size=mp.Vector3(0,src_width))]\n",
    "\n",
    "    #define boundary conditions\n",
    "    pml_layers = [mp.PML(pml_thickness)]\n",
    "\n",
    "\n",
    "    #Instance simulation with chosen parameters\n",
    "    sim = mp.Simulation(cell_size=cell,\n",
    "                        boundary_layers=pml_layers,\n",
    "                        geometry=geometry,\n",
    "                        sources=sources,\n",
    "                        resolution=resolution)\n",
    "\n",
    "    mp.verbosity(0)\n",
    "    sim.run(until=300)\n",
    "\n",
    "    #Get Ez profiles in waveguides\n",
    "    ez_data_wvg_1 = sim.get_array(center=mp.Vector3(0,wvg_1_y), size=mp.Vector3(sx, 0.01), component=mp.Ez)\n",
    "    print(ez_data_wvg_1.shape)\n",
    "\n",
    "    ez_data_wvg_2 = sim.get_array(center=mp.Vector3(0,wvg_2_y), size=mp.Vector3(sx, 0.01), component=mp.Ez)\n",
    "    print(ez_data_wvg_2.shape)\n",
    "\n",
    "    x = np.arange(-sx/2, sx/2, 1/resolution)\n",
    "\n",
    "    #envelopes calculation using Hilbert transform\n",
    "    envelope_1 = np.abs(hilbert(ez_data_wvg_1[:,0]))\n",
    "    envelope_2 = np.abs(hilbert(ez_data_wvg_2[:,0]))\n",
    "\n",
    "    max_val = np.amax(envelope_1)\n",
    "    max_index = np.argmax(envelope_1)\n",
    "\n",
    "    threshold = 0.15\n",
    "\n",
    "    #logical mask to get only values with e field under 10% of original value\n",
    "    values_mask = (envelope_1<threshold*max_val) & (x>x_source) & (x<x_bound_up)\n",
    "    try:  \n",
    "        l_coupling = (x[values_mask])[0]-x_source\n",
    "        print(\"#coupling length:\", l_coupling, \"Meep Units\")\n",
    "        print(\"#coupling length:\", l_coupling*l_unit*1e+6, \"um\")\n",
    "        lengths = np.append(lengths, l_coupling)\n",
    "    except:\n",
    "        print(\"#Problem while calculating the coupling length\")\n",
    "    \n",
    "    print(\"## Iteration Ending\")\n",
    "    print(\"###############\")"
   ]
  },
  {
   "cell_type": "code",
   "execution_count": 9,
   "id": "12b75bc1",
   "metadata": {},
   "outputs": [
    {
     "name": "stdout",
     "output_type": "stream",
     "text": [
      "Param 1: -4.9727777537556745 25.383333306640917\n"
     ]
    },
    {
     "data": {
      "image/png": "[encoded data removed]",
      "text/plain": [
       "<Figure size 600x450 with 1 Axes>"
      ]
     },
     "metadata": {
      "needs_background": "light"
     },
     "output_type": "display_data"
    }
   ],
   "source": [
    "fig_width = plt.figure()\n",
    "\n",
    "plt.plot(widths_values[:lengths.size], lengths, \"r*\")\n",
    "\n",
    "plt.xlabel(r\"Waveguides widths $W$ [meep units]\")\n",
    "plt.ylabel(r\"Coupling length $l_c$ [meep units]\")\n",
    "plt.grid()\n",
    "\n",
    "#maybe use waveguide 2's field to get coupling distance?\n",
    "\n",
    "def func_1(x, a, b):\n",
    "    return b*x + a\n",
    "\n",
    "\n",
    "popt_1, pcov_1 = curve_fit(func_1, widths_values[:lengths.size], lengths)\n",
    "\n",
    "dummy_gaps = np.arange(np.amin(widths_values), np.amax(widths_values), 0.01)\n",
    "\n",
    "plt.plot(dummy_gaps, func_1(dummy_gaps, *popt_1), label=r\"$a +bx$\")\n",
    "\n",
    "\n",
    "plt.legend()\n",
    "\n",
    "print(\"Param 1:\",*popt_1)"
   ]
  },
  {
   "cell_type": "markdown",
   "id": "7edaaf85",
   "metadata": {},
   "source": [
    "# Refractive index "
   ]
  },
  {
   "cell_type": "markdown",
   "id": "922a1430",
   "metadata": {},
   "source": [
    "change the refractive index contrast "
   ]
  },
  {
   "cell_type": "code",
   "execution_count": 10,
   "id": "85b28452",
   "metadata": {},
   "outputs": [
    {
     "name": "stdout",
     "output_type": "stream",
     "text": [
      "###############\n",
      "## Beginning Iteration 0 out of 13\n",
      "#Waveguide refractive index: 3.9\n",
      "#Source frequency: 44.9688687 THz\n",
      "#Source vacuum wavelength: 6.666666666666667 um\n",
      "#Source background material wavelength: 1.7316017316017314 um\n",
      "#Source waveguide wavelength: 1.7094017094017095 um\n"
     ]
    },
    {
     "data": {
      "application/vnd.jupyter.widget-view+json": {
       "model_id": "616d01a502f54807b535b9c1eae5875a",
       "version_major": 2,
       "version_minor": 0
      },
      "text/plain": [
       "FloatProgress(value=0.0, description='0% done ', max=300.0)"
      ]
     },
     "metadata": {},
     "output_type": "display_data"
    },
    {
     "name": "stdout",
     "output_type": "stream",
     "text": [
      "(1800, 2)\n",
      "(1800, 2)\n",
      "#coupling length: 15.049999999999073 Meep Units\n",
      "#coupling length: 15.049999999999073 um\n",
      "## Iteration Ending\n",
      "###############\n",
      "## Beginning Iteration 1 out of 13\n",
      "#Waveguide refractive index: 3.9499999999999997\n",
      "#Source frequency: 44.9688687 THz\n",
      "#Source vacuum wavelength: 6.666666666666667 um\n",
      "#Source background material wavelength: 1.7316017316017314 um\n",
      "#Source waveguide wavelength: 1.6877637130801688 um\n"
     ]
    },
    {
     "data": {
      "application/vnd.jupyter.widget-view+json": {
       "model_id": "4f46fe71059d47b29f6517535a9d0afe",
       "version_major": 2,
       "version_minor": 0
      },
      "text/plain": [
       "FloatProgress(value=0.0, description='0% done ', max=300.0)"
      ]
     },
     "metadata": {},
     "output_type": "display_data"
    },
    {
     "name": "stdout",
     "output_type": "stream",
     "text": [
      "(1800, 2)\n",
      "(1800, 2)\n",
      "#coupling length: 18.499999999998877 Meep Units\n",
      "#coupling length: 18.499999999998877 um\n",
      "## Iteration Ending\n",
      "###############\n",
      "## Beginning Iteration 2 out of 13\n",
      "#Waveguide refractive index: 3.9999999999999996\n",
      "#Source frequency: 44.9688687 THz\n",
      "#Source vacuum wavelength: 6.666666666666667 um\n",
      "#Source background material wavelength: 1.7316017316017314 um\n",
      "#Source waveguide wavelength: 1.6666666666666672 um\n"
     ]
    },
    {
     "data": {
      "application/vnd.jupyter.widget-view+json": {
       "model_id": "39fbfea238544dbaacdf4d0d182a2860",
       "version_major": 2,
       "version_minor": 0
      },
      "text/plain": [
       "FloatProgress(value=0.0, description='0% done ', max=300.0)"
      ]
     },
     "metadata": {},
     "output_type": "display_data"
    },
    {
     "name": "stdout",
     "output_type": "stream",
     "text": [
      "(1800, 2)\n",
      "(1800, 2)\n",
      "#coupling length: 23.3999999999986 Meep Units\n",
      "#coupling length: 23.399999999998595 um\n",
      "## Iteration Ending\n",
      "###############\n",
      "## Beginning Iteration 3 out of 13\n",
      "#Waveguide refractive index: 4.049999999999999\n",
      "#Source frequency: 44.9688687 THz\n",
      "#Source vacuum wavelength: 6.666666666666667 um\n",
      "#Source background material wavelength: 1.7316017316017314 um\n",
      "#Source waveguide wavelength: 1.6460905349794244 um\n"
     ]
    },
    {
     "data": {
      "application/vnd.jupyter.widget-view+json": {
       "model_id": "a01577751c5e49e5a2f1f7525623f986",
       "version_major": 2,
       "version_minor": 0
      },
      "text/plain": [
       "FloatProgress(value=0.0, description='0% done ', max=300.0)"
      ]
     },
     "metadata": {},
     "output_type": "display_data"
    },
    {
     "name": "stdout",
     "output_type": "stream",
     "text": [
      "(1800, 2)\n",
      "(1800, 2)\n",
      "#coupling length: 26.69999999999841 Meep Units\n",
      "#coupling length: 26.699999999998408 um\n",
      "## Iteration Ending\n",
      "###############\n",
      "## Beginning Iteration 4 out of 13\n",
      "#Waveguide refractive index: 4.1\n",
      "#Source frequency: 44.9688687 THz\n",
      "#Source vacuum wavelength: 6.666666666666667 um\n",
      "#Source background material wavelength: 1.7316017316017314 um\n",
      "#Source waveguide wavelength: 1.6260162601626018 um\n"
     ]
    },
    {
     "data": {
      "application/vnd.jupyter.widget-view+json": {
       "model_id": "862272afe9dd4667a45cb5d04a71b14f",
       "version_major": 2,
       "version_minor": 0
      },
      "text/plain": [
       "FloatProgress(value=0.0, description='0% done ', max=300.0)"
      ]
     },
     "metadata": {},
     "output_type": "display_data"
    },
    {
     "name": "stdout",
     "output_type": "stream",
     "text": [
      "(1800, 2)\n",
      "(1800, 2)\n",
      "#coupling length: 28.349999999998317 Meep Units\n",
      "#coupling length: 28.349999999998317 um\n",
      "## Iteration Ending\n",
      "###############\n",
      "## Beginning Iteration 5 out of 13\n",
      "#Waveguide refractive index: 4.149999999999999\n",
      "#Source frequency: 44.9688687 THz\n",
      "#Source vacuum wavelength: 6.666666666666667 um\n",
      "#Source background material wavelength: 1.7316017316017314 um\n",
      "#Source waveguide wavelength: 1.6064257028112456 um\n"
     ]
    },
    {
     "data": {
      "application/vnd.jupyter.widget-view+json": {
       "model_id": "08cd22dbf6f143f7bab0429dbd9537ba",
       "version_major": 2,
       "version_minor": 0
      },
      "text/plain": [
       "FloatProgress(value=0.0, description='0% done ', max=300.0)"
      ]
     },
     "metadata": {},
     "output_type": "display_data"
    },
    {
     "name": "stdout",
     "output_type": "stream",
     "text": [
      "(1800, 2)\n",
      "(1800, 2)\n",
      "#coupling length: 29.69999999999824 Meep Units\n",
      "#coupling length: 29.699999999998237 um\n",
      "## Iteration Ending\n",
      "###############\n",
      "## Beginning Iteration 6 out of 13\n",
      "#Waveguide refractive index: 4.199999999999999\n",
      "#Source frequency: 44.9688687 THz\n",
      "#Source vacuum wavelength: 6.666666666666667 um\n",
      "#Source background material wavelength: 1.7316017316017314 um\n",
      "#Source waveguide wavelength: 1.5873015873015872 um\n"
     ]
    },
    {
     "data": {
      "application/vnd.jupyter.widget-view+json": {
       "model_id": "ce430acaf5b44a879bef1c68ab0f410a",
       "version_major": 2,
       "version_minor": 0
      },
      "text/plain": [
       "FloatProgress(value=0.0, description='0% done ', max=300.0)"
      ]
     },
     "metadata": {},
     "output_type": "display_data"
    },
    {
     "name": "stdout",
     "output_type": "stream",
     "text": [
      "(1800, 2)\n",
      "(1800, 2)\n",
      "#coupling length: 30.899999999998172 Meep Units\n",
      "#coupling length: 30.89999999999817 um\n",
      "## Iteration Ending\n",
      "###############\n",
      "## Beginning Iteration 7 out of 13\n",
      "#Waveguide refractive index: 4.249999999999998\n",
      "#Source frequency: 44.9688687 THz\n",
      "#Source vacuum wavelength: 6.666666666666667 um\n",
      "#Source background material wavelength: 1.7316017316017314 um\n",
      "#Source waveguide wavelength: 1.568627450980393 um\n"
     ]
    },
    {
     "data": {
      "application/vnd.jupyter.widget-view+json": {
       "model_id": "35b0876457164dc594152ab5f462774a",
       "version_major": 2,
       "version_minor": 0
      },
      "text/plain": [
       "FloatProgress(value=0.0, description='0% done ', max=300.0)"
      ]
     },
     "metadata": {},
     "output_type": "display_data"
    },
    {
     "name": "stdout",
     "output_type": "stream",
     "text": [
      "(1800, 2)\n",
      "(1800, 2)\n",
      "#coupling length: 31.84999999999812 Meep Units\n",
      "#coupling length: 31.84999999999812 um\n",
      "## Iteration Ending\n",
      "###############\n",
      "## Beginning Iteration 8 out of 13\n",
      "#Waveguide refractive index: 4.299999999999999\n",
      "#Source frequency: 44.9688687 THz\n",
      "#Source vacuum wavelength: 6.666666666666667 um\n",
      "#Source background material wavelength: 1.7316017316017314 um\n",
      "#Source waveguide wavelength: 1.5503875968992251 um\n"
     ]
    },
    {
     "data": {
      "application/vnd.jupyter.widget-view+json": {
       "model_id": "6edd5c82dd1b44bc9dde020dc5d8512c",
       "version_major": 2,
       "version_minor": 0
      },
      "text/plain": [
       "FloatProgress(value=0.0, description='0% done ', max=300.0)"
      ]
     },
     "metadata": {},
     "output_type": "display_data"
    },
    {
     "name": "stdout",
     "output_type": "stream",
     "text": [
      "(1800, 2)\n",
      "(1800, 2)\n",
      "#coupling length: 32.64999999999807 Meep Units\n",
      "#coupling length: 32.64999999999807 um\n",
      "## Iteration Ending\n",
      "###############\n",
      "## Beginning Iteration 9 out of 13\n",
      "#Waveguide refractive index: 4.349999999999998\n",
      "#Source frequency: 44.9688687 THz\n",
      "#Source vacuum wavelength: 6.666666666666667 um\n",
      "#Source background material wavelength: 1.7316017316017314 um\n",
      "#Source waveguide wavelength: 1.53256704980843 um\n"
     ]
    },
    {
     "data": {
      "application/vnd.jupyter.widget-view+json": {
       "model_id": "93d49d9cc2ba4ef1a10a6b9639e1b28d",
       "version_major": 2,
       "version_minor": 0
      },
      "text/plain": [
       "FloatProgress(value=0.0, description='0% done ', max=300.0)"
      ]
     },
     "metadata": {},
     "output_type": "display_data"
    },
    {
     "name": "stdout",
     "output_type": "stream",
     "text": [
      "(1800, 2)\n",
      "(1800, 2)\n",
      "#coupling length: 34.04999999999799 Meep Units\n",
      "#coupling length: 34.04999999999799 um\n",
      "## Iteration Ending\n",
      "###############\n",
      "## Beginning Iteration 10 out of 13\n",
      "#Waveguide refractive index: 4.399999999999999\n",
      "#Source frequency: 44.9688687 THz\n",
      "#Source vacuum wavelength: 6.666666666666667 um\n",
      "#Source background material wavelength: 1.7316017316017314 um\n",
      "#Source waveguide wavelength: 1.5151515151515154 um\n"
     ]
    },
    {
     "data": {
      "application/vnd.jupyter.widget-view+json": {
       "model_id": "1e2a166872904694aed424be23356137",
       "version_major": 2,
       "version_minor": 0
      },
      "text/plain": [
       "FloatProgress(value=0.0, description='0% done ', max=300.0)"
      ]
     },
     "metadata": {},
     "output_type": "display_data"
    },
    {
     "name": "stdout",
     "output_type": "stream",
     "text": [
      "(1800, 2)\n",
      "(1800, 2)\n",
      "#coupling length: 36.24999999999787 Meep Units\n",
      "#coupling length: 36.24999999999787 um\n",
      "## Iteration Ending\n",
      "###############\n",
      "## Beginning Iteration 11 out of 13\n",
      "#Waveguide refractive index: 4.4499999999999975\n",
      "#Source frequency: 44.9688687 THz\n",
      "#Source vacuum wavelength: 6.666666666666667 um\n",
      "#Source background material wavelength: 1.7316017316017314 um\n",
      "#Source waveguide wavelength: 1.4981273408239708 um\n"
     ]
    },
    {
     "data": {
      "application/vnd.jupyter.widget-view+json": {
       "model_id": "c412ba4c5e9e44e6b501b6b2599c1f47",
       "version_major": 2,
       "version_minor": 0
      },
      "text/plain": [
       "FloatProgress(value=0.0, description='0% done ', max=300.0)"
      ]
     },
     "metadata": {},
     "output_type": "display_data"
    },
    {
     "name": "stdout",
     "output_type": "stream",
     "text": [
      "(1800, 2)\n",
      "(1800, 2)\n",
      "#coupling length: 38.49999999999774 Meep Units\n",
      "#coupling length: 38.49999999999774 um\n",
      "## Iteration Ending\n",
      "###############\n",
      "## Beginning Iteration 12 out of 13\n",
      "#Waveguide refractive index: 4.499999999999998\n",
      "#Source frequency: 44.9688687 THz\n",
      "#Source vacuum wavelength: 6.666666666666667 um\n",
      "#Source background material wavelength: 1.7316017316017314 um\n",
      "#Source waveguide wavelength: 1.481481481481482 um\n"
     ]
    },
    {
     "data": {
      "application/vnd.jupyter.widget-view+json": {
       "model_id": "6b86b2985c614606bec69914d3bb7a48",
       "version_major": 2,
       "version_minor": 0
      },
      "text/plain": [
       "FloatProgress(value=0.0, description='0% done ', max=300.0)"
      ]
     },
     "metadata": {},
     "output_type": "display_data"
    },
    {
     "name": "stdout",
     "output_type": "stream",
     "text": [
      "(1800, 2)\n",
      "(1800, 2)\n",
      "#coupling length: 40.79999999999761 Meep Units\n",
      "#coupling length: 40.79999999999761 um\n",
      "## Iteration Ending\n"
     ]
    }
   ],
   "source": [
    "#Iteration on different parameters values\n",
    "#Parameters: gap d, source frequency f, waveguides widths wvg_1_width, wvg_2_width\n",
    "#waveguide refractive index\n",
    "\n",
    "n_values = np.arange(3.9, 4.5, 0.05)\n",
    "n_number = len(n_values)\n",
    "#np.array([0, 0.03, 0.04, 0.05, 0.06, 0.07, 0.08, 0.09, 0.1, 0.12])\n",
    "\n",
    "lengths = np.array([])\n",
    "\n",
    "for index_n, n in enumerate(n_values):\n",
    "    print(\"###############\")\n",
    "    print(\"## Beginning Iteration\", index_n, \"out of\", n_number)\n",
    "    print(\"#Waveguide refractive index:\", n)\n",
    "    #Geometry and sources definition\n",
    "    #each block has 3d widths, vector for center and material\n",
    "    #permettivities are expressed as relatives. otherwise can use refractive index\n",
    "\n",
    "    #waveguides widths\n",
    "    wvg_1_width = 1\n",
    "    wvg_2_width = wvg_1_width\n",
    "\n",
    "    d = 1.1\n",
    "\n",
    "    #waveguides center positions\n",
    "    wvg_1_y = 0.5\n",
    "    wvg_2_y = wvg_1_y - wvg_1_width/2 - d - wvg_2_width/2\n",
    "\n",
    "    #waveguide material parameters\n",
    "    index_bgnd = 3.85\n",
    "    index_1 = n\n",
    "    index_2 = index_1\n",
    "\n",
    "    #Source parameters: frequency and turn on time [meep]\n",
    "    f_source = 0.15 \n",
    "    t_source = 1\n",
    "    \n",
    "    #source position\n",
    "    x_source = -sx/2 + pml_thickness + 0.3\n",
    "    y_source = wvg_1_y\n",
    "\n",
    "    src_width = wvg_1_width\n",
    "\n",
    "    print(\"#Source frequency:\", f_source*freq_unit*1e-12, \"THz\")\n",
    "    print(\"#Source vacuum wavelength:\", c/(f_source*freq_unit)*1e+6, \"um\")\n",
    "    print(\"#Source background material wavelength:\", (c/index_bgnd)/(f_source*freq_unit)*1e+6, \"um\")\n",
    "    print(\"#Source waveguide wavelength:\", (c/index_1)/(f_source*freq_unit)*1e+6, \"um\")\n",
    "\n",
    "    #define geometry\n",
    "    geometry = [mp.Block(mp.Vector3(mp.inf,mp.inf,mp.inf),\n",
    "                         center=mp.Vector3(0, 0),\n",
    "                         material=mp.Medium(index=index_bgnd)),\n",
    "        \n",
    "        \n",
    "                mp.Block(mp.Vector3(mp.inf,wvg_1_width,mp.inf),\n",
    "                         center=mp.Vector3(0, wvg_1_y),\n",
    "                         material=mp.Medium(index=index_1)),\n",
    "\n",
    "                mp.Block(mp.Vector3(mp.inf,wvg_2_width,mp.inf),\n",
    "                         center=mp.Vector3(0, wvg_2_y),\n",
    "                         material=mp.Medium(index=index_2))\n",
    "               ]\n",
    "\n",
    "    #define sources objects\n",
    "    sources = [mp.Source(mp.ContinuousSource(frequency=f_source, width=t_source),\n",
    "                         component=mp.Ez,\n",
    "                         center=mp.Vector3(x_source,y_source),\n",
    "                         size=mp.Vector3(0,src_width))]\n",
    "\n",
    "    #define boundary conditions\n",
    "    pml_layers = [mp.PML(pml_thickness)]\n",
    "\n",
    "\n",
    "    #Instance simulation with chosen parameters\n",
    "    sim = mp.Simulation(cell_size=cell,\n",
    "                        boundary_layers=pml_layers,\n",
    "                        geometry=geometry,\n",
    "                        sources=sources,\n",
    "                        resolution=resolution)\n",
    "\n",
    "    mp.verbosity(0)\n",
    "    sim.run(until=300)\n",
    "\n",
    "    #Get Ez profiles in waveguides\n",
    "    ez_data_wvg_1 = sim.get_array(center=mp.Vector3(0,wvg_1_y), size=mp.Vector3(sx, 0.01), component=mp.Ez)\n",
    "    print(ez_data_wvg_1.shape)\n",
    "\n",
    "    ez_data_wvg_2 = sim.get_array(center=mp.Vector3(0,wvg_2_y), size=mp.Vector3(sx, 0.01), component=mp.Ez)\n",
    "    print(ez_data_wvg_2.shape)\n",
    "\n",
    "    x = np.arange(-sx/2, sx/2, 1/resolution)\n",
    "\n",
    "    #envelopes calculation using Hilbert transform\n",
    "    envelope_1 = np.abs(hilbert(ez_data_wvg_1[:,0]))\n",
    "    envelope_2 = np.abs(hilbert(ez_data_wvg_2[:,0]))\n",
    "\n",
    "    max_val = np.amax(envelope_1)\n",
    "    max_index = np.argmax(envelope_1)\n",
    "\n",
    "    threshold = 0.15\n",
    "\n",
    "    #logical mask to get only values with e field under 15% of original value\n",
    "    values_mask = (envelope_1<threshold*max_val) & (x>x_source) & (x<x_bound_up)\n",
    "    try:  \n",
    "        l_coupling = (x[values_mask])[0]-x_source\n",
    "        print(\"#coupling length:\", l_coupling, \"Meep Units\")\n",
    "        print(\"#coupling length:\", l_coupling*l_unit*1e+6, \"um\")\n",
    "        lengths = np.append(lengths, l_coupling)\n",
    "    except:\n",
    "        print(\"#Problem while calculating the coupling length\")\n",
    "    \n",
    "    print(\"## Iteration Ending\")"
   ]
  },
  {
   "cell_type": "code",
   "execution_count": 11,
   "id": "9906f1fe",
   "metadata": {},
   "outputs": [
    {
     "data": {
      "image/png": "[encoded data removed]",
      "text/plain": [
       "<Figure size 600x450 with 1 Axes>"
      ]
     },
     "metadata": {
      "needs_background": "light"
     },
     "output_type": "display_data"
    }
   ],
   "source": [
    "fig = plt.figure()\n",
    "\n",
    "plt.plot(n_values, lengths, \"r*\")\n",
    "\n",
    "plt.xlabel(r\"Waveguides refractive indexes $n_w$\")\n",
    "plt.ylabel(r\"Coupling length $l_c$ [meep units]\")\n",
    "plt.grid()\n",
    "\n",
    "#plt.legend()"
   ]
  },
  {
   "cell_type": "markdown",
   "id": "56ca88c8",
   "metadata": {},
   "source": []
  }
 ],
 "metadata": {
  "kernelspec": {
   "display_name": "Python 3.9.7 ('lab_photonics')",
   "language": "python",
   "name": "python3"
  },
  "language_info": {
   "codemirror_mode": {
    "name": "ipython",
    "version": 3
   },
   "file_extension": ".py",
   "mimetype": "text/x-python",
   "name": "python",
   "nbconvert_exporter": "python",
   "pygments_lexer": "ipython3",
   "version": "3.9.7"
  },
  "vscode": {
   "interpreter": {
    "hash": "288b77951d47ff79106d43cb52c595832c17b084d38ea661deb9719da70991b6"
   }
  }
 },
 "nbformat": 4,
 "nbformat_minor": 5
}
